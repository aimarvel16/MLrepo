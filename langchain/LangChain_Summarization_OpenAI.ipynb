{
 "cells": [
  {
   "cell_type": "markdown",
   "metadata": {
    "id": "wW6FD6FsT5Qf"
   },
   "source": [
    "# Summarization\n",
    "\n",
    "History  \n",
    "Challenges  \n",
    "Fine-tuning  \n",
    "Instruct Tuning"
   ]
  },
  {
   "cell_type": "code",
   "execution_count": 1,
   "metadata": {
    "id": "dNA4TsHpu6OM"
   },
   "outputs": [],
   "source": [
    "import os\n",
    "\n",
    "os.environ[\"OPENAI_API_KEY\"] = \"\""
   ]
  },
  {
   "cell_type": "code",
   "execution_count": null,
   "metadata": {
    "colab": {
     "base_uri": "https://localhost:8080/"
    },
    "id": "J-KFB7J_u_3L",
    "outputId": "5657944a-c8fe-48dd-d131-9a649d84b785"
   },
   "outputs": [],
   "source": []
  },
  {
   "cell_type": "markdown",
   "metadata": {
    "id": "HqwsGJDhvAQ5"
   },
   "source": [
    "### Setting up Summarization Chain"
   ]
  },
  {
   "cell_type": "code",
   "execution_count": 2,
   "metadata": {
    "id": "lgesD0jrvDyG"
   },
   "outputs": [],
   "source": [
    "from langchain import OpenAI, PromptTemplate, LLMChain\n",
    "from langchain.text_splitter import CharacterTextSplitter\n",
    "from langchain.chains.mapreduce import MapReduceChain\n",
    "from langchain.prompts import PromptTemplate\n",
    "\n",
    "llm = OpenAI(temperature=0)"
   ]
  },
  {
   "cell_type": "code",
   "execution_count": 4,
   "metadata": {
    "id": "pyPulL7tvQOw"
   },
   "outputs": [],
   "source": [
    "text_splitter = CharacterTextSplitter()"
   ]
  },
  {
   "cell_type": "code",
   "execution_count": 5,
   "metadata": {
    "id": "sCfCSX9sOv2A"
   },
   "outputs": [],
   "source": [
    "# load the doc\n",
    "with open('llmtext.txt') as f:\n",
    "    how_to_win_friends = f.read()\n",
    "texts = text_splitter.split_text(how_to_win_friends)"
   ]
  },
  {
   "cell_type": "code",
   "execution_count": 6,
   "metadata": {
    "colab": {
     "base_uri": "https://localhost:8080/"
    },
    "id": "k6KdLobvkLje",
    "outputId": "046af023-0ed4-406f-bfac-ca2fef9b86c3"
   },
   "outputs": [
    {
     "data": {
      "text/plain": [
       "2"
      ]
     },
     "execution_count": 6,
     "metadata": {},
     "output_type": "execute_result"
    }
   ],
   "source": [
    "len(texts)"
   ]
  },
  {
   "cell_type": "code",
   "execution_count": 10,
   "metadata": {},
   "outputs": [
    {
     "data": {
      "text/plain": [
       "[\"What are large language models (LLMs)?\\nA large language model (LLM) is a type of artificial intelligence (AI) algorithm that uses deep learning techniques and massively large data sets to understand, summarize, generate and predict new content. The term generative AI also is closely connected with LLMs, which are, in fact, a type of generative AI that has been specifically architected to help generate text-based content.\\n\\nOver millennia, humans developed spoken languages to communicate. Language is at the core of all forms of human and technological communications; it provides the words, semantics and grammar needed to convey ideas and concepts. In the AI world, a language model serves a similar purpose, providing a basis to communicate and generate new concepts.\\n\\nThe first AI language models trace their roots to the earliest days of AI. The Eliza language model debuted in 1966 at MIT and is one of the earliest examples of an AI language model. All language models are first trained on a set of data, and then they make use of various techniques to infer relationships and then generate new content based on the trained data. Language models are commonly used in natural language processing (NLP) applications where a user inputs a query in natural language to generate a result.\\n\\nAn LLM is the evolution of the language model concept in AI that dramatically expands the data used for training and inference. In turn, it provides a massive increase in the capabilities of the AI model. While there isn't a universally accepted figure for how large the data set for training needs to be, an LLM typically has at least one billion or more parameters. Parameters are a machine learning term for the variables present in the model on which it was trained that can be used to infer new content.Modern LLMs emerged in 2017 and use transformer models, which are neural networks commonly referred to as transformers. With a large number of parameters and the transformer model, LLMs are able to understand and generate accurate responses rapidly, which makes the AI technology broadly applicable across many different domains.\\n\\nSome LLMs are referred to as foundation models, a term coined by the Stanford Institute for Human-Centered Artificial Intelligence in 2021. A foundation model is so large and impactful that it serves as the foundation for further optimizations and specific use cases.Why are LLMs becoming important to businesses?\\nAs AI continues to grow, its place in the business setting becomes increasingly dominant. This is shown through the use of LLMs as well as machine learning tools. In the process of composing and applying machine learning models, research advises that simplicity and consistency should be among the main goals. Identifying the issues that must be solved is also essential, as is comprehending historical data and ensuring accuracy.\\n\\nThe benefits associated with machine learning are often grouped into four categories: efficiency, effectiveness, experience and business evolution. As these continue to emerge, businesses invest in this technology.\\n\\nHow do large language models work?\\nLLMs take a complex approach that involves multiple components.\\n\\nAt the foundational layer, an LLM needs to be trained on a large volume -- sometimes referred to as a corpus -- of data that is typically petabytes in size. The training can take multiple steps, usually starting with an unsupervised learning approach. In that approach, the model is trained on unstructured data and unlabeled data. The benefit of training on unlabeled data is that there is often vastly more data available. At this stage, the model begins to derive relationships between different words and concepts.\\n\\nThe next step for some LLMs is training and fine-tuning with a form of self-supervised learning. Here, some data labeling has occurred, assisting the model to more accurately identify different concepts.\",\n",
       " 'Next, the LLM undertakes deep learning as it goes through the transformer neural network process. The transformer model architecture enables the LLM to understand and recognize the relationships and connections between words and concepts using a self-attention mechanism. That mechanism is able to assign a score, commonly referred to as a weight, to a given item (called a token) in order to determine the relationship.\\n\\nOnce an LLM has been trained, a base exists on which the AI can be used for practical purposes. By querying the LLM with a prompt, the AI model inference can generate a response, which could be an answer to a question, newly generated text, summarized text or a sentiment analysis report.']"
      ]
     },
     "execution_count": 10,
     "metadata": {},
     "output_type": "execute_result"
    }
   ],
   "source": [
    "texts"
   ]
  },
  {
   "cell_type": "code",
   "execution_count": null,
   "metadata": {},
   "outputs": [],
   "source": []
  },
  {
   "cell_type": "code",
   "execution_count": 13,
   "metadata": {
    "id": "8L6ztJUJO2j8"
   },
   "outputs": [],
   "source": [
    "from langchain.docstore.document import Document\n",
    "\n",
    "docs = [Document(page_content=t) for t in texts[:4]]"
   ]
  },
  {
   "cell_type": "code",
   "execution_count": 14,
   "metadata": {
    "colab": {
     "base_uri": "https://localhost:8080/"
    },
    "id": "WlSA_nIxdrSU",
    "outputId": "d99b2de5-e591-4b6e-b6ac-d550bf1ef2c6"
   },
   "outputs": [
    {
     "data": {
      "text/plain": [
       "[Document(page_content=\"What are large language models (LLMs)?\\nA large language model (LLM) is a type of artificial intelligence (AI) algorithm that uses deep learning techniques and massively large data sets to understand, summarize, generate and predict new content. The term generative AI also is closely connected with LLMs, which are, in fact, a type of generative AI that has been specifically architected to help generate text-based content.\\n\\nOver millennia, humans developed spoken languages to communicate. Language is at the core of all forms of human and technological communications; it provides the words, semantics and grammar needed to convey ideas and concepts. In the AI world, a language model serves a similar purpose, providing a basis to communicate and generate new concepts.\\n\\nThe first AI language models trace their roots to the earliest days of AI. The Eliza language model debuted in 1966 at MIT and is one of the earliest examples of an AI language model. All language models are first trained on a set of data, and then they make use of various techniques to infer relationships and then generate new content based on the trained data. Language models are commonly used in natural language processing (NLP) applications where a user inputs a query in natural language to generate a result.\\n\\nAn LLM is the evolution of the language model concept in AI that dramatically expands the data used for training and inference. In turn, it provides a massive increase in the capabilities of the AI model. While there isn't a universally accepted figure for how large the data set for training needs to be, an LLM typically has at least one billion or more parameters. Parameters are a machine learning term for the variables present in the model on which it was trained that can be used to infer new content.Modern LLMs emerged in 2017 and use transformer models, which are neural networks commonly referred to as transformers. With a large number of parameters and the transformer model, LLMs are able to understand and generate accurate responses rapidly, which makes the AI technology broadly applicable across many different domains.\\n\\nSome LLMs are referred to as foundation models, a term coined by the Stanford Institute for Human-Centered Artificial Intelligence in 2021. A foundation model is so large and impactful that it serves as the foundation for further optimizations and specific use cases.Why are LLMs becoming important to businesses?\\nAs AI continues to grow, its place in the business setting becomes increasingly dominant. This is shown through the use of LLMs as well as machine learning tools. In the process of composing and applying machine learning models, research advises that simplicity and consistency should be among the main goals. Identifying the issues that must be solved is also essential, as is comprehending historical data and ensuring accuracy.\\n\\nThe benefits associated with machine learning are often grouped into four categories: efficiency, effectiveness, experience and business evolution. As these continue to emerge, businesses invest in this technology.\\n\\nHow do large language models work?\\nLLMs take a complex approach that involves multiple components.\\n\\nAt the foundational layer, an LLM needs to be trained on a large volume -- sometimes referred to as a corpus -- of data that is typically petabytes in size. The training can take multiple steps, usually starting with an unsupervised learning approach. In that approach, the model is trained on unstructured data and unlabeled data. The benefit of training on unlabeled data is that there is often vastly more data available. At this stage, the model begins to derive relationships between different words and concepts.\\n\\nThe next step for some LLMs is training and fine-tuning with a form of self-supervised learning. Here, some data labeling has occurred, assisting the model to more accurately identify different concepts.\"),\n",
       " Document(page_content='Next, the LLM undertakes deep learning as it goes through the transformer neural network process. The transformer model architecture enables the LLM to understand and recognize the relationships and connections between words and concepts using a self-attention mechanism. That mechanism is able to assign a score, commonly referred to as a weight, to a given item (called a token) in order to determine the relationship.\\n\\nOnce an LLM has been trained, a base exists on which the AI can be used for practical purposes. By querying the LLM with a prompt, the AI model inference can generate a response, which could be an answer to a question, newly generated text, summarized text or a sentiment analysis report.')]"
      ]
     },
     "execution_count": 14,
     "metadata": {},
     "output_type": "execute_result"
    }
   ],
   "source": [
    "docs"
   ]
  },
  {
   "cell_type": "code",
   "execution_count": 15,
   "metadata": {
    "id": "lFYz2IztO2nE"
   },
   "outputs": [],
   "source": [
    "from langchain.chains.summarize import load_summarize_chain\n",
    "import textwrap"
   ]
  },
  {
   "cell_type": "code",
   "execution_count": 16,
   "metadata": {
    "colab": {
     "base_uri": "https://localhost:8080/"
    },
    "id": "h4nRP8oGO2qf",
    "outputId": "1b6f930e-6bf0-41b3-bee8-08409271ce22"
   },
   "outputs": [
    {
     "name": "stdout",
     "output_type": "stream",
     "text": [
      " Large Language Models (LLMs) are a type of AI algorithm that uses deep learning and large data sets\n",
      "to understand, summarize, generate, and predict new content. LLMs are trained on a large volume of\n",
      "data and use self-supervised learning to accurately identify different concepts, making them\n",
      "increasingly important to businesses. The LLM uses a transformer neural network process and self-\n",
      "attention mechanism to understand and recognize relationships between words and concepts, and can be\n",
      "used to generate responses such as answers to questions, newly generated text, summarized text, or\n",
      "sentiment analysis reports.\n"
     ]
    }
   ],
   "source": [
    "chain = load_summarize_chain(llm, \n",
    "                             chain_type=\"map_reduce\")\n",
    "\n",
    "\n",
    "output_summary = chain.run(docs)\n",
    "wrapped_text = textwrap.fill(output_summary, width=100)\n",
    "print(wrapped_text)"
   ]
  },
  {
   "cell_type": "code",
   "execution_count": 17,
   "metadata": {
    "colab": {
     "base_uri": "https://localhost:8080/",
     "height": 35
    },
    "id": "k0OK53Q3fReD",
    "outputId": "37a72505-6980-4d5a-a269-a0968e1276e6"
   },
   "outputs": [
    {
     "data": {
      "text/plain": [
       "'Write a concise summary of the following:\\n\\n\\n\"{text}\"\\n\\n\\nCONCISE SUMMARY:'"
      ]
     },
     "execution_count": 17,
     "metadata": {},
     "output_type": "execute_result"
    }
   ],
   "source": [
    "# for summarizing each part\n",
    "chain.llm_chain.prompt.template"
   ]
  },
  {
   "cell_type": "code",
   "execution_count": 18,
   "metadata": {
    "colab": {
     "base_uri": "https://localhost:8080/",
     "height": 35
    },
    "id": "L2JttqnWpR0H",
    "outputId": "03fe1f6d-16da-4cce-eb2d-247ebfb1de9d"
   },
   "outputs": [
    {
     "data": {
      "text/plain": [
       "'Write a concise summary of the following:\\n\\n\\n\"{text}\"\\n\\n\\nCONCISE SUMMARY:'"
      ]
     },
     "execution_count": 18,
     "metadata": {},
     "output_type": "execute_result"
    }
   ],
   "source": [
    "# for combining the parts\n",
    "chain.combine_document_chain.llm_chain.prompt.template"
   ]
  },
  {
   "cell_type": "code",
   "execution_count": 19,
   "metadata": {
    "colab": {
     "base_uri": "https://localhost:8080/"
    },
    "id": "6AUZ_e7MfsI1",
    "outputId": "b7551b05-a60d-4458-933b-ffb2354a0324"
   },
   "outputs": [
    {
     "name": "stdout",
     "output_type": "stream",
     "text": [
      "\n",
      "\n",
      "\u001b[1m> Entering new MapReduceDocumentsChain chain...\u001b[0m\n",
      "\n",
      "\n",
      "\u001b[1m> Entering new LLMChain chain...\u001b[0m\n",
      "Prompt after formatting:\n",
      "\u001b[32;1m\u001b[1;3mWrite a concise summary of the following:\n",
      "\n",
      "\n",
      "\"What are large language models (LLMs)?\n",
      "A large language model (LLM) is a type of artificial intelligence (AI) algorithm that uses deep learning techniques and massively large data sets to understand, summarize, generate and predict new content. The term generative AI also is closely connected with LLMs, which are, in fact, a type of generative AI that has been specifically architected to help generate text-based content.\n",
      "\n",
      "Over millennia, humans developed spoken languages to communicate. Language is at the core of all forms of human and technological communications; it provides the words, semantics and grammar needed to convey ideas and concepts. In the AI world, a language model serves a similar purpose, providing a basis to communicate and generate new concepts.\n",
      "\n",
      "The first AI language models trace their roots to the earliest days of AI. The Eliza language model debuted in 1966 at MIT and is one of the earliest examples of an AI language model. All language models are first trained on a set of data, and then they make use of various techniques to infer relationships and then generate new content based on the trained data. Language models are commonly used in natural language processing (NLP) applications where a user inputs a query in natural language to generate a result.\n",
      "\n",
      "An LLM is the evolution of the language model concept in AI that dramatically expands the data used for training and inference. In turn, it provides a massive increase in the capabilities of the AI model. While there isn't a universally accepted figure for how large the data set for training needs to be, an LLM typically has at least one billion or more parameters. Parameters are a machine learning term for the variables present in the model on which it was trained that can be used to infer new content.Modern LLMs emerged in 2017 and use transformer models, which are neural networks commonly referred to as transformers. With a large number of parameters and the transformer model, LLMs are able to understand and generate accurate responses rapidly, which makes the AI technology broadly applicable across many different domains.\n",
      "\n",
      "Some LLMs are referred to as foundation models, a term coined by the Stanford Institute for Human-Centered Artificial Intelligence in 2021. A foundation model is so large and impactful that it serves as the foundation for further optimizations and specific use cases.Why are LLMs becoming important to businesses?\n",
      "As AI continues to grow, its place in the business setting becomes increasingly dominant. This is shown through the use of LLMs as well as machine learning tools. In the process of composing and applying machine learning models, research advises that simplicity and consistency should be among the main goals. Identifying the issues that must be solved is also essential, as is comprehending historical data and ensuring accuracy.\n",
      "\n",
      "The benefits associated with machine learning are often grouped into four categories: efficiency, effectiveness, experience and business evolution. As these continue to emerge, businesses invest in this technology.\n",
      "\n",
      "How do large language models work?\n",
      "LLMs take a complex approach that involves multiple components.\n",
      "\n",
      "At the foundational layer, an LLM needs to be trained on a large volume -- sometimes referred to as a corpus -- of data that is typically petabytes in size. The training can take multiple steps, usually starting with an unsupervised learning approach. In that approach, the model is trained on unstructured data and unlabeled data. The benefit of training on unlabeled data is that there is often vastly more data available. At this stage, the model begins to derive relationships between different words and concepts.\n",
      "\n",
      "The next step for some LLMs is training and fine-tuning with a form of self-supervised learning. Here, some data labeling has occurred, assisting the model to more accurately identify different concepts.\"\n",
      "\n",
      "\n",
      "CONCISE SUMMARY:\u001b[0m\n",
      "Prompt after formatting:\n",
      "\u001b[32;1m\u001b[1;3mWrite a concise summary of the following:\n",
      "\n",
      "\n",
      "\"Next, the LLM undertakes deep learning as it goes through the transformer neural network process. The transformer model architecture enables the LLM to understand and recognize the relationships and connections between words and concepts using a self-attention mechanism. That mechanism is able to assign a score, commonly referred to as a weight, to a given item (called a token) in order to determine the relationship.\n",
      "\n",
      "Once an LLM has been trained, a base exists on which the AI can be used for practical purposes. By querying the LLM with a prompt, the AI model inference can generate a response, which could be an answer to a question, newly generated text, summarized text or a sentiment analysis report.\"\n",
      "\n",
      "\n",
      "CONCISE SUMMARY:\u001b[0m\n"
     ]
    },
    {
     "name": "stderr",
     "output_type": "stream",
     "text": [
      "Retrying langchain_community.llms.openai.completion_with_retry.<locals>._completion_with_retry in 4.0 seconds as it raised RateLimitError: Rate limit reached for text-davinci-003 in organization org-rLRjVHePNYIGbZiSoXBBTjai on requests per min (RPM): Limit 3, Used 3, Requested 1. Please try again in 20s. Visit https://platform.openai.com/account/rate-limits to learn more. You can increase your rate limit by adding a payment method to your account at https://platform.openai.com/account/billing..\n"
     ]
    },
    {
     "name": "stdout",
     "output_type": "stream",
     "text": [
      "\n",
      "\u001b[1m> Finished chain.\u001b[0m\n",
      "\n",
      "\n",
      "\u001b[1m> Entering new LLMChain chain...\u001b[0m\n",
      "Prompt after formatting:\n",
      "\u001b[32;1m\u001b[1;3mWrite a concise summary of the following:\n",
      "\n",
      "\n",
      "\" Large language models (LLMs) are a type of artificial intelligence (AI) algorithm that uses deep learning techniques and large data sets to understand, summarize, generate and predict new content. LLMs are trained on a large volume of data and use self-supervised learning to accurately identify different concepts. They are becoming increasingly important to businesses due to their ability to provide efficiency, effectiveness, experience and business evolution.\n",
      "\n",
      " The LLM (Language Model) uses a transformer neural network process and self-attention mechanism to understand and recognize relationships between words and concepts. Once trained, the AI model can be used to generate responses such as answers to questions, newly generated text, summarized text, or sentiment analysis reports when queried with a prompt.\"\n",
      "\n",
      "\n",
      "CONCISE SUMMARY:\u001b[0m\n",
      "\n",
      "\u001b[1m> Finished chain.\u001b[0m\n",
      "\n",
      "\u001b[1m> Finished chain.\u001b[0m\n",
      " Large Language Models (LLMs) are a type of AI algorithm that uses deep learning and large data sets\n",
      "to understand, summarize, generate, and predict new content. LLMs are trained on a large volume of\n",
      "data and use self-supervised learning to accurately identify different concepts, making them\n",
      "increasingly important to businesses. The LLM uses a transformer neural network process and self-\n",
      "attention mechanism to understand and recognize relationships between words and concepts, and can be\n",
      "used to generate responses such as answers to questions, newly generated text, summarized text, or\n",
      "sentiment analysis reports.\n"
     ]
    }
   ],
   "source": [
    "chain = load_summarize_chain(llm, \n",
    "                             chain_type=\"map_reduce\",\n",
    "                             verbose=True\n",
    "                             )\n",
    "\n",
    "\n",
    "output_summary = chain.run(docs)\n",
    "wrapped_text = textwrap.fill(output_summary, \n",
    "                             width=100,\n",
    "                             break_long_words=False,\n",
    "                             replace_whitespace=False)\n",
    "print(wrapped_text)"
   ]
  },
  {
   "cell_type": "code",
   "execution_count": 20,
   "metadata": {
    "id": "OzCHODNOPKnO"
   },
   "outputs": [],
   "source": [
    "chain = load_summarize_chain(llm, chain_type=\"stuff\")"
   ]
  },
  {
   "cell_type": "code",
   "execution_count": 21,
   "metadata": {
    "id": "XTMPc6oQPQr0"
   },
   "outputs": [],
   "source": [
    "prompt_template = \"\"\"Write a concise bullet point summary of the following:\n",
    "\n",
    "\n",
    "{text}\n",
    "\n",
    "\n",
    "CONSCISE SUMMARY IN BULLET POINTS:\"\"\"\n",
    "\n",
    "BULLET_POINT_PROMPT = PromptTemplate(template=prompt_template, \n",
    "                        input_variables=[\"text\"])\n"
   ]
  },
  {
   "cell_type": "code",
   "execution_count": 22,
   "metadata": {
    "colab": {
     "base_uri": "https://localhost:8080/"
    },
    "id": "nrtSb8VphVG-",
    "outputId": "8c59f9f3-9a3e-4c7a-a232-1dfc2394fde4"
   },
   "outputs": [
    {
     "name": "stdout",
     "output_type": "stream",
     "text": [
      "\n",
      "- Large language models (LLMs) are a type of artificial intelligence (AI) algorithm that uses deep\n",
      "learning techniques and large data sets to understand, summarize, generate and predict new content.\n",
      "- LLMs are a type of generative AI that has been specifically architected to help generate text-\n",
      "based content. \n",
      "- LLMs are trained on a set of data and use various techniques to infer\n",
      "relationships and generate new content. \n",
      "- LLMs typically have at least one billion or more\n",
      "parameters and use transformer models, which are neural networks. \n",
      "- LLMs are becoming increasingly\n",
      "important to businesses due to their ability to generate accurate responses rapidly. \n",
      "- LLMs are\n",
      "trained on large volumes of data and use a transformer model architecture to understand and\n",
      "recognize relationships between words and concepts. \n",
      "- Once trained, LLMs can be used to generate a\n",
      "response to a query, such as an answer to a question, newly generated text, summarized text or a\n",
      "sentiment analysis report.\n"
     ]
    }
   ],
   "source": [
    "chain = load_summarize_chain(llm, \n",
    "                             chain_type=\"stuff\", \n",
    "                             prompt=BULLET_POINT_PROMPT)\n",
    "\n",
    "output_summary = chain.run(docs)\n",
    "\n",
    "wrapped_text = textwrap.fill(output_summary, \n",
    "                             width=100,\n",
    "                             break_long_words=False,\n",
    "                             replace_whitespace=False)\n",
    "print(wrapped_text)"
   ]
  },
  {
   "cell_type": "code",
   "execution_count": 23,
   "metadata": {
    "colab": {
     "base_uri": "https://localhost:8080/"
    },
    "id": "4lS7vYgKPcqV",
    "outputId": "e2824e48-6d27-4e1a-ba53-489574722574"
   },
   "outputs": [
    {
     "name": "stdout",
     "output_type": "stream",
     "text": [
      "\n",
      "- Large Language Models (LLMs) are a type of AI algorithm using deep learning and large data sets\n",
      "-\n",
      "LLMs use transformer models (neural networks) and have at least one billion parameters\n",
      "- LLMs\n",
      "provide efficiency, effectiveness, experience and business evolution\n",
      "- LLMs involve multiple\n",
      "components, including training on large data sets and self-supervised learning\n"
     ]
    }
   ],
   "source": [
    "chain = load_summarize_chain(llm, \n",
    "                             chain_type=\"map_reduce\",\n",
    "                             map_prompt=BULLET_POINT_PROMPT, \n",
    "                             combine_prompt=BULLET_POINT_PROMPT)\n",
    "\n",
    "# chain.llm_chain.prompt= BULLET_POINT_PROMPT\n",
    "# chain.combine_document_chain.llm_chain.prompt= BULLET_POINT_PROMPT\n",
    "\n",
    "output_summary = chain.run(docs)\n",
    "wrapped_text = textwrap.fill(output_summary, \n",
    "                             width=100,\n",
    "                             break_long_words=False,\n",
    "                             replace_whitespace=False)\n",
    "print(wrapped_text)"
   ]
  },
  {
   "cell_type": "code",
   "execution_count": 25,
   "metadata": {
    "colab": {
     "base_uri": "https://localhost:8080/"
    },
    "id": "bUFsaodtPkl4",
    "outputId": "e49cc8b4-f081-43d8-b0b3-3257f1f6e5bf"
   },
   "outputs": [
    {
     "name": "stderr",
     "output_type": "stream",
     "text": [
      "Retrying langchain_community.llms.openai.completion_with_retry.<locals>._completion_with_retry in 4.0 seconds as it raised RateLimitError: Rate limit reached for text-davinci-003 in organization org-rLRjVHePNYIGbZiSoXBBTjai on requests per min (RPM): Limit 3, Used 3, Requested 1. Please try again in 20s. Visit https://platform.openai.com/account/rate-limits to learn more. You can increase your rate limit by adding a payment method to your account at https://platform.openai.com/account/billing..\n"
     ]
    },
    {
     "name": "stdout",
     "output_type": "stream",
     "text": [
      "\n",
      "• Large Language Models (LLMs) are a type of Artificial Intelligence (AI) algorithm that uses deep\n",
      "learning techniques and large data sets to understand, summarize, generate and predict new content\n",
      "(1).\n",
      "• LLMs use transformer models, which are neural networks commonly referred to as transformers,\n",
      "and have at least one billion or more parameters (2).\n",
      "• LLMs are becoming important to businesses as\n",
      "they offer efficiency, effectiveness, experience and business evolution (3).\n",
      "• LLMs take a complex\n",
      "approach that involves multiple components, such as training on a large volume of data, and training\n",
      "and fine-tuning with a form of self-supervised learning (4).\n"
     ]
    }
   ],
   "source": [
    "# with a custom prompt\n",
    "prompt_template = \"\"\"Write a concise summary of the following:\n",
    "\n",
    "\n",
    "{text}\n",
    "\n",
    "\n",
    "CONSCISE SUMMARY IN BULLET POINTS WITH NUMBERS:\"\"\"\n",
    "\n",
    "PROMPT = PromptTemplate(template=prompt_template, \n",
    "                        input_variables=[\"text\"])\n",
    "\n",
    "## with intermediate steps\n",
    "chain = load_summarize_chain(OpenAI(temperature=0), \n",
    "                             chain_type=\"map_reduce\", \n",
    "                             return_intermediate_steps=True, \n",
    "                             map_prompt=PROMPT, \n",
    "                             combine_prompt=PROMPT)\n",
    "\n",
    "output_summary = chain({\"input_documents\": docs}, return_only_outputs=True)\n",
    "wrapped_text = textwrap.fill(output_summary['output_text'], \n",
    "                             width=100,\n",
    "                             break_long_words=False,\n",
    "                             replace_whitespace=False)\n",
    "print(wrapped_text)"
   ]
  },
  {
   "cell_type": "code",
   "execution_count": 28,
   "metadata": {},
   "outputs": [
    {
     "data": {
      "text/plain": [
       "['\\n\\n• Large language models (LLMs) are a type of artificial intelligence (AI) algorithm that uses deep learning techniques and large data sets to understand, summarize, generate and predict new content. \\n• LLMs are a type of generative AI that has been specifically architected to help generate text-based content. \\n• LLMs typically have at least one billion or more parameters, and use transformer models, which are neural networks commonly referred to as transformers. \\n• LLMs are becoming important to businesses as they offer efficiency, effectiveness, experience and business evolution. \\n• LLMs take a complex approach that involves multiple components, such as training on a large volume of data, and training and fine-tuning with a form of self-supervised learning.',\n",
       " '\\n\\n1. The Language Model (LLM) uses a transformer neural network process to understand and recognize relationships and connections between words and concepts.\\n2. The self-attention mechanism assigns a score (weight) to a given item (token) to determine the relationship.\\n3. After training, the LLM can be used for practical purposes, such as generating a response to a query, newly generated text, summarized text, or a sentiment analysis report.']"
      ]
     },
     "execution_count": 28,
     "metadata": {},
     "output_type": "execute_result"
    }
   ],
   "source": [
    "output_summary['intermediate_steps']"
   ]
  },
  {
   "cell_type": "code",
   "execution_count": 29,
   "metadata": {
    "colab": {
     "base_uri": "https://localhost:8080/"
    },
    "id": "OvksjoTytSCb",
    "outputId": "03bc2547-cb3c-45ad-e546-404993cf1f8f"
   },
   "outputs": [
    {
     "name": "stdout",
     "output_type": "stream",
     "text": [
      "\n",
      "\n",
      "1. The Language Model (LLM) uses a transformer neural network process to understand and recognize\n",
      "relationships and connections between words and concepts.\n",
      "2. The self-attention mechanism assigns a\n",
      "score (weight) to a given item (token) to determine the relationship.\n",
      "3. After training, the LLM can\n",
      "be used for practical purposes, such as generating a response to a query, newly generated text,\n",
      "summarized text, or a sentiment analysis report.\n"
     ]
    }
   ],
   "source": [
    "wrapped_text = textwrap.fill(output_summary['intermediate_steps'][1], \n",
    "                             width=100,\n",
    "                             break_long_words=False,\n",
    "                             replace_whitespace=False)\n",
    "print(wrapped_text)"
   ]
  },
  {
   "cell_type": "code",
   "execution_count": 30,
   "metadata": {
    "colab": {
     "base_uri": "https://localhost:8080/"
    },
    "id": "7Ji2D8Q0P2gh",
    "outputId": "cb493a3e-93f2-4fee-e6fc-4e4308e62aa4"
   },
   "outputs": [
    {
     "name": "stdout",
     "output_type": "stream",
     "text": [
      "  Large language models (LLMs) are a type of artificial intelligence (AI) algorithm that uses deep\n",
      "learning techniques, such as the transformer neural network process and self-attention mechanism,\n",
      "and large data sets to understand, summarize, generate and predict new content. LLMs are trained on\n",
      "a large volume of data and use self-supervised learning to accurately identify different concepts.\n",
      "Once trained, the LLM can be used to generate responses to queries, such as answers to questions,\n",
      "newly generated text, summarized text or a sentiment analysis report. They are becoming increasingly\n",
      "important to businesses due to their ability to provide efficiency, effectiveness, experience and\n",
      "business evolution.\n"
     ]
    }
   ],
   "source": [
    "chain = load_summarize_chain(llm, chain_type=\"refine\")\n",
    "\n",
    "output_summary = chain.run(docs)\n",
    "wrapped_text = textwrap.fill(output_summary, width=100)\n",
    "print(wrapped_text)"
   ]
  },
  {
   "cell_type": "code",
   "execution_count": 31,
   "metadata": {
    "id": "JsoM2yyoQNzF"
   },
   "outputs": [],
   "source": [
    "prompt_template = \"\"\"Write a concise summary of the following extracting the key information:\n",
    "\n",
    "\n",
    "{text}\n",
    "\n",
    "\n",
    "CONCISE SUMMARY:\"\"\"\n",
    "PROMPT = PromptTemplate(template=prompt_template, \n",
    "                        input_variables=[\"text\"])\n",
    "\n",
    "refine_template = (\n",
    "    \"Your job is to produce a final summary\\n\"\n",
    "    \"We have provided an existing summary up to a certain point: {existing_answer}\\n\"\n",
    "    \"We have the opportunity to refine the existing summary\"\n",
    "    \"(only if needed) with some more context below.\\n\"\n",
    "    \"------------\\n\"\n",
    "    \"{text}\\n\"\n",
    "    \"------------\\n\"\n",
    "    \"Given the new context, refine the original summary\"\n",
    "    \"If the context isn't useful, return the original summary.\"\n",
    ")\n",
    "refine_prompt = PromptTemplate(\n",
    "    input_variables=[\"existing_answer\", \"text\"],\n",
    "    template=refine_template,\n",
    ")\n",
    "chain = load_summarize_chain(OpenAI(temperature=0), \n",
    "                             chain_type=\"refine\", \n",
    "                             return_intermediate_steps=True, \n",
    "                             question_prompt=PROMPT, \n",
    "                             refine_prompt=refine_prompt)\n"
   ]
  },
  {
   "cell_type": "code",
   "execution_count": 32,
   "metadata": {
    "colab": {
     "base_uri": "https://localhost:8080/"
    },
    "id": "mgIuOQWbfFep",
    "outputId": "6b701913-2b71-4652-cfa6-1e96f542ee20"
   },
   "outputs": [
    {
     "name": "stdout",
     "output_type": "stream",
     "text": [
      "\n",
      "\n",
      "Large language models (LLMs) are a type of artificial intelligence (AI) algorithm that uses deep\n",
      "learning techniques and large data sets to understand, summarize, generate and predict new content.\n",
      "They are commonly used in natural language processing (NLP) applications and have at least one\n",
      "billion or more parameters. LLMs are becoming increasingly important to businesses due to their\n",
      "ability to provide efficiency, effectiveness, experience and business evolution. They are trained on\n",
      "large volumes of data and use self-supervised learning to more accurately identify different\n",
      "concepts. The LLM undertakes deep learning as it goes through the transformer neural network\n",
      "process, which uses a self-attention mechanism to assign a score to a given item (called a token) in\n",
      "order to determine the relationship. Once an LLM has been trained, it can be used for practical\n",
      "purposes, such as generating a response to a query, newly generated text, summarized text or a\n",
      "sentiment analysis report.\n"
     ]
    }
   ],
   "source": [
    "output_summary = chain({\"input_documents\": docs}, return_only_outputs=True)\n",
    "wrapped_text = textwrap.fill(output_summary['output_text'], \n",
    "                             width=100,\n",
    "                             break_long_words=False,\n",
    "                             replace_whitespace=False)\n",
    "print(wrapped_text)"
   ]
  },
  {
   "cell_type": "code",
   "execution_count": 33,
   "metadata": {
    "colab": {
     "base_uri": "https://localhost:8080/"
    },
    "id": "dt7v2DVavMpX",
    "outputId": "eddfab8d-2731-492f-fc16-8d8c25d2aec8"
   },
   "outputs": [
    {
     "name": "stdout",
     "output_type": "stream",
     "text": [
      " Large language models (LLMs) are a type of artificial intelligence (AI) algorithm that uses deep\n",
      "learning techniques and large data sets to understand, summarize, generate and predict new content.\n",
      "They are commonly used in natural language processing (NLP) applications and have at least one\n",
      "billion or more parameters. LLMs are becoming increasingly important to businesses due to their\n",
      "ability to provide efficiency, effectiveness, experience and business evolution. They are trained on\n",
      "large volumes of data and use self-supervised learning to more accurately identify different\n",
      "concepts.\n"
     ]
    }
   ],
   "source": [
    "wrapped_text = textwrap.fill(output_summary['intermediate_steps'][0], \n",
    "                             width=100,\n",
    "                             break_long_words=False,\n",
    "                             replace_whitespace=False)\n",
    "print(wrapped_text)"
   ]
  },
  {
   "cell_type": "code",
   "execution_count": null,
   "metadata": {
    "id": "WtEBpGcCRGzk"
   },
   "outputs": [],
   "source": []
  }
 ],
 "metadata": {
  "colab": {
   "provenance": []
  },
  "kernelspec": {
   "display_name": "AIkernel",
   "language": "python",
   "name": "aikernel"
  },
  "language_info": {
   "codemirror_mode": {
    "name": "ipython",
    "version": 3
   },
   "file_extension": ".py",
   "mimetype": "text/x-python",
   "name": "python",
   "nbconvert_exporter": "python",
   "pygments_lexer": "ipython3",
   "version": "3.10.10"
  }
 },
 "nbformat": 4,
 "nbformat_minor": 4
}
