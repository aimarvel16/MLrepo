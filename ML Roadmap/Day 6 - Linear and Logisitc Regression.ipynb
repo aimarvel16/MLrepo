{
 "cells": [
  {
   "cell_type": "code",
   "execution_count": 30,
   "id": "9e4e66b0",
   "metadata": {},
   "outputs": [
    {
     "data": {
      "text/html": [
       "<div>\n",
       "<style scoped>\n",
       "    .dataframe tbody tr th:only-of-type {\n",
       "        vertical-align: middle;\n",
       "    }\n",
       "\n",
       "    .dataframe tbody tr th {\n",
       "        vertical-align: top;\n",
       "    }\n",
       "\n",
       "    .dataframe thead th {\n",
       "        text-align: right;\n",
       "    }\n",
       "</style>\n",
       "<table border=\"1\" class=\"dataframe\">\n",
       "  <thead>\n",
       "    <tr style=\"text-align: right;\">\n",
       "      <th></th>\n",
       "      <th>Date</th>\n",
       "      <th>SPX</th>\n",
       "      <th>GLD</th>\n",
       "      <th>USO</th>\n",
       "      <th>SLV</th>\n",
       "      <th>EUR/USD</th>\n",
       "    </tr>\n",
       "  </thead>\n",
       "  <tbody>\n",
       "    <tr>\n",
       "      <th>0</th>\n",
       "      <td>1/2/2008</td>\n",
       "      <td>1447.160034</td>\n",
       "      <td>84.860001</td>\n",
       "      <td>78.470001</td>\n",
       "      <td>15.180</td>\n",
       "      <td>1.471692</td>\n",
       "    </tr>\n",
       "    <tr>\n",
       "      <th>1</th>\n",
       "      <td>1/3/2008</td>\n",
       "      <td>1447.160034</td>\n",
       "      <td>85.570000</td>\n",
       "      <td>78.370003</td>\n",
       "      <td>15.285</td>\n",
       "      <td>1.474491</td>\n",
       "    </tr>\n",
       "    <tr>\n",
       "      <th>2</th>\n",
       "      <td>1/4/2008</td>\n",
       "      <td>1411.630005</td>\n",
       "      <td>85.129997</td>\n",
       "      <td>77.309998</td>\n",
       "      <td>15.167</td>\n",
       "      <td>1.475492</td>\n",
       "    </tr>\n",
       "    <tr>\n",
       "      <th>3</th>\n",
       "      <td>1/7/2008</td>\n",
       "      <td>1416.180054</td>\n",
       "      <td>84.769997</td>\n",
       "      <td>75.500000</td>\n",
       "      <td>15.053</td>\n",
       "      <td>1.468299</td>\n",
       "    </tr>\n",
       "    <tr>\n",
       "      <th>4</th>\n",
       "      <td>1/8/2008</td>\n",
       "      <td>1390.189941</td>\n",
       "      <td>86.779999</td>\n",
       "      <td>76.059998</td>\n",
       "      <td>15.590</td>\n",
       "      <td>1.557099</td>\n",
       "    </tr>\n",
       "  </tbody>\n",
       "</table>\n",
       "</div>"
      ],
      "text/plain": [
       "       Date          SPX        GLD        USO     SLV   EUR/USD\n",
       "0  1/2/2008  1447.160034  84.860001  78.470001  15.180  1.471692\n",
       "1  1/3/2008  1447.160034  85.570000  78.370003  15.285  1.474491\n",
       "2  1/4/2008  1411.630005  85.129997  77.309998  15.167  1.475492\n",
       "3  1/7/2008  1416.180054  84.769997  75.500000  15.053  1.468299\n",
       "4  1/8/2008  1390.189941  86.779999  76.059998  15.590  1.557099"
      ]
     },
     "execution_count": 30,
     "metadata": {},
     "output_type": "execute_result"
    }
   ],
   "source": [
    "#Gold price prediction\n",
    "import pandas as pd\n",
    "df=pd.read_csv('dataset/gld_price_data.csv')\n",
    "df.head()"
   ]
  },
  {
   "cell_type": "code",
   "execution_count": 2,
   "id": "7914d72e",
   "metadata": {},
   "outputs": [
    {
     "data": {
      "text/plain": [
       "Date       False\n",
       "SPX        False\n",
       "GLD        False\n",
       "USO        False\n",
       "SLV        False\n",
       "EUR/USD    False\n",
       "dtype: bool"
      ]
     },
     "execution_count": 2,
     "metadata": {},
     "output_type": "execute_result"
    }
   ],
   "source": [
    "df.isnull().any()"
   ]
  },
  {
   "cell_type": "code",
   "execution_count": 4,
   "id": "58b60683",
   "metadata": {},
   "outputs": [
    {
     "data": {
      "text/plain": [
       "Date        object\n",
       "SPX        float64\n",
       "GLD        float64\n",
       "USO        float64\n",
       "SLV        float64\n",
       "EUR/USD    float64\n",
       "dtype: object"
      ]
     },
     "execution_count": 4,
     "metadata": {},
     "output_type": "execute_result"
    }
   ],
   "source": [
    "df.dtypes"
   ]
  },
  {
   "cell_type": "code",
   "execution_count": 3,
   "id": "d4535cba",
   "metadata": {},
   "outputs": [
    {
     "data": {
      "text/plain": [
       "2290"
      ]
     },
     "execution_count": 3,
     "metadata": {},
     "output_type": "execute_result"
    }
   ],
   "source": [
    "len(df)"
   ]
  },
  {
   "cell_type": "code",
   "execution_count": 31,
   "id": "9a7188d7",
   "metadata": {},
   "outputs": [],
   "source": [
    "X=df.drop(columns=['Date','EUR/USD'],axis=1)\n",
    "y=df['EUR/USD']\n"
   ]
  },
  {
   "cell_type": "code",
   "execution_count": 32,
   "id": "c4d89707",
   "metadata": {},
   "outputs": [],
   "source": [
    "from sklearn.model_selection import train_test_split\n",
    "x_train,x_test,y_train,y_test=train_test_split(X,y,test_size=0.2,shuffle=True)"
   ]
  },
  {
   "cell_type": "code",
   "execution_count": 8,
   "id": "46e2f649",
   "metadata": {},
   "outputs": [
    {
     "data": {
      "text/plain": [
       "(1832, 4)"
      ]
     },
     "execution_count": 8,
     "metadata": {},
     "output_type": "execute_result"
    }
   ],
   "source": [
    "x_train.shape\n"
   ]
  },
  {
   "cell_type": "code",
   "execution_count": 9,
   "id": "1742c89c",
   "metadata": {},
   "outputs": [
    {
     "data": {
      "text/plain": [
       "(458, 4)"
      ]
     },
     "execution_count": 9,
     "metadata": {},
     "output_type": "execute_result"
    }
   ],
   "source": [
    "x_test.shape"
   ]
  },
  {
   "cell_type": "code",
   "execution_count": 10,
   "id": "ac29082d",
   "metadata": {},
   "outputs": [
    {
     "data": {
      "text/plain": [
       "(1832,)"
      ]
     },
     "execution_count": 10,
     "metadata": {},
     "output_type": "execute_result"
    }
   ],
   "source": [
    "y_train.shape"
   ]
  },
  {
   "cell_type": "code",
   "execution_count": 11,
   "id": "3e6f82f5",
   "metadata": {},
   "outputs": [
    {
     "data": {
      "text/plain": [
       "(458,)"
      ]
     },
     "execution_count": 11,
     "metadata": {},
     "output_type": "execute_result"
    }
   ],
   "source": [
    "y_test.shape"
   ]
  },
  {
   "cell_type": "code",
   "execution_count": 33,
   "id": "5c6c60f6",
   "metadata": {},
   "outputs": [
    {
     "name": "stdout",
     "output_type": "stream",
     "text": [
      "The model has 0.00396\n"
     ]
    }
   ],
   "source": [
    "from sklearn import linear_model\n",
    "model=linear_model.LinearRegression()\n",
    "model.fit(x_train,y_train)\n",
    "pred_value=model.predict(x_test).round(5)\n",
    "\n",
    "from sklearn.metrics import mean_squared_error\n",
    "error_value=mean_squared_error(pred_value,y_test).round(5)\n",
    "print(f\"The model has {error_value}\")"
   ]
  },
  {
   "cell_type": "code",
   "execution_count": 34,
   "id": "00862e6d",
   "metadata": {},
   "outputs": [
    {
     "name": "stdout",
     "output_type": "stream",
     "text": [
      "pred: 1.30915 actual 1.300508\n",
      "pred: 1.36413 actual 1.339549\n",
      "pred: 1.35116 actual 1.286604\n",
      "pred: 1.35548 actual 1.377202\n",
      "pred: 1.12238 actual 1.240787\n",
      "pred: 1.32068 actual 1.270971\n",
      "pred: 1.31543 actual 1.280295\n",
      "pred: 1.5074 actual 1.472993\n",
      "pred: 1.14708 actual 1.070859\n",
      "pred: 1.29304 actual 1.373796\n",
      "pred: 1.28639 actual 1.366848\n",
      "pred: 1.28264 actual 1.339603\n",
      "pred: 1.4901 actual 1.4502\n",
      "pred: 1.28089 actual 1.379558\n",
      "pred: 1.19508 actual 1.118631\n",
      "pred: 1.33678 actual 1.281493\n",
      "pred: 1.28183 actual 1.368907\n",
      "pred: 1.15142 actual 1.121076\n",
      "pred: 1.28817 actual 1.360507\n",
      "pred: 1.11552 actual 1.17426\n",
      "pred: 1.31376 actual 1.339208\n",
      "pred: 1.12287 actual 1.179287\n",
      "pred: 1.31429 actual 1.320062\n",
      "pred: 1.35899 actual 1.362695\n",
      "pred: 1.3353 actual 1.385425\n",
      "pred: 1.14228 actual 1.137967\n",
      "pred: 1.64581 actual 1.550989\n",
      "pred: 1.14202 actual 1.067065\n",
      "pred: 1.14399 actual 1.094895\n",
      "pred: 1.15472 actual 1.115897\n",
      "pred: 1.15109 actual 1.091203\n",
      "pred: 1.33408 actual 1.301744\n",
      "pred: 1.30712 actual 1.305534\n",
      "pred: 1.18304 actual 1.07087\n",
      "pred: 1.34319 actual 1.442398\n",
      "pred: 1.12235 actual 1.166494\n",
      "pred: 1.47885 actual 1.4801\n",
      "pred: 1.15092 actual 1.1269\n",
      "pred: 1.14984 actual 1.118643\n",
      "pred: 1.32602 actual 1.322996\n",
      "pred: 1.28122 actual 1.372382\n",
      "pred: 1.6474 actual 1.578507\n",
      "pred: 1.12046 actual 1.245749\n",
      "pred: 1.1199 actual 1.173378\n",
      "pred: 1.32867 actual 1.360692\n",
      "pred: 1.3668 actual 1.264398\n",
      "pred: 1.35714 actual 1.324854\n",
      "pred: 1.32245 actual 1.291306\n",
      "pred: 1.35804 actual 1.304104\n",
      "pred: 1.29962 actual 1.393787\n",
      "pred: 1.11292 actual 1.25036\n",
      "pred: 1.31165 actual 1.303271\n",
      "pred: 1.3202 actual 1.296512\n",
      "pred: 1.16898 actual 1.101698\n",
      "pred: 1.34407 actual 1.473297\n",
      "pred: 1.30372 actual 1.346692\n",
      "pred: 1.12145 actual 1.180094\n",
      "pred: 1.32965 actual 1.29968\n",
      "pred: 1.28521 actual 1.363903\n",
      "pred: 1.32613 actual 1.428674\n",
      "pred: 1.15241 actual 1.129892\n",
      "pred: 1.31924 actual 1.223002\n",
      "pred: 1.31906 actual 1.25075\n",
      "pred: 1.28594 actual 1.361934\n",
      "pred: 1.4071 actual 1.270196\n",
      "pred: 1.36115 actual 1.250531\n",
      "pred: 1.32613 actual 1.391595\n",
      "pred: 1.30455 actual 1.315807\n",
      "pred: 1.35138 actual 1.338634\n",
      "pred: 1.28816 actual 1.369619\n",
      "pred: 1.17345 actual 1.088601\n",
      "pred: 1.15595 actual 1.132298\n",
      "pred: 1.36823 actual 1.422637\n",
      "pred: 1.32499 actual 1.403095\n",
      "pred: 1.14695 actual 1.117406\n",
      "pred: 1.29882 actual 1.311699\n",
      "pred: 1.15481 actual 1.119207\n",
      "pred: 1.12653 actual 1.092777\n",
      "pred: 1.11836 actual 1.189825\n",
      "pred: 1.46716 actual 1.358806\n",
      "pred: 1.29302 actual 1.361304\n",
      "pred: 1.37587 actual 1.452433\n",
      "pred: 1.13251 actual 1.090893\n",
      "pred: 1.33199 actual 1.253133\n",
      "pred: 1.31432 actual 1.319192\n",
      "pred: 1.21281 actual 1.238666\n",
      "pred: 1.47566 actual 1.486503\n",
      "pred: 1.34322 actual 1.403607\n",
      "pred: 1.15324 actual 1.136402\n",
      "pred: 1.34733 actual 1.282051\n",
      "pred: 1.31463 actual 1.323767\n",
      "pred: 1.29197 actual 1.31787\n",
      "pred: 1.3347 actual 1.415709\n",
      "pred: 1.29147 actual 1.293711\n",
      "pred: 1.31467 actual 1.270648\n",
      "pred: 1.33934 actual 1.342408\n",
      "pred: 1.49112 actual 1.430492\n",
      "pred: 1.32086 actual 1.308233\n",
      "pred: 1.18505 actual 1.179607\n",
      "pred: 1.32365 actual 1.278445\n",
      "pred: 1.16912 actual 1.108095\n",
      "pred: 1.31015 actual 1.29584\n",
      "pred: 1.15291 actual 1.097695\n",
      "pred: 1.11548 actual 1.230376\n",
      "pred: 1.2827 actual 1.386539\n",
      "pred: 1.11462 actual 1.223032\n",
      "pred: 1.14128 actual 1.064453\n",
      "pred: 1.29257 actual 1.374306\n",
      "pred: 1.31172 actual 1.345497\n",
      "pred: 1.12026 actual 1.175917\n",
      "pred: 1.37604 actual 1.376406\n",
      "pred: 1.3665 actual 1.324328\n",
      "pred: 1.39603 actual 1.411194\n",
      "pred: 1.18417 actual 1.103205\n",
      "pred: 1.26147 actual 1.264606\n",
      "pred: 1.15261 actual 1.121957\n",
      "pred: 1.15178 actual 1.088732\n",
      "pred: 1.17483 actual 1.084999\n",
      "pred: 1.29778 actual 1.327422\n",
      "pred: 1.39583 actual 1.388484\n",
      "pred: 1.57502 actual 1.568406\n",
      "pred: 1.33163 actual 1.349164\n",
      "pred: 1.29708 actual 1.272426\n",
      "pred: 1.35186 actual 1.323977\n",
      "pred: 1.29843 actual 1.325803\n",
      "pred: 1.29 actual 1.374608\n",
      "pred: 1.36241 actual 1.336095\n",
      "pred: 1.39453 actual 1.280902\n",
      "pred: 1.33864 actual 1.342895\n",
      "pred: 1.15528 actual 1.135589\n",
      "pred: 1.33874 actual 1.361396\n",
      "pred: 1.37859 actual 1.368232\n",
      "pred: 1.1901 actual 1.208941\n",
      "pred: 1.33309 actual 1.421707\n",
      "pred: 1.31178 actual 1.326629\n",
      "pred: 1.31481 actual 1.306506\n",
      "pred: 1.14957 actual 1.105217\n",
      "pred: 1.61314 actual 1.578806\n",
      "pred: 1.28653 actual 1.379501\n",
      "pred: 1.29751 actual 1.32575\n",
      "pred: 1.18915 actual 1.075558\n",
      "pred: 1.14078 actual 1.072869\n",
      "pred: 1.15367 actual 1.0993\n",
      "pred: 1.15423 actual 1.101358\n",
      "pred: 1.48463 actual 1.413507\n",
      "pred: 1.28772 actual 1.323557\n",
      "pred: 1.31785 actual 1.282594\n",
      "pred: 1.54114 actual 1.533601\n",
      "pred: 1.15395 actual 1.101795\n",
      "pred: 1.27824 actual 1.338294\n",
      "pred: 1.16608 actual 1.102038\n",
      "pred: 1.3194 actual 1.363605\n",
      "pred: 1.19348 actual 1.111185\n",
      "pred: 1.18203 actual 1.120536\n",
      "pred: 1.31592 actual 1.197103\n",
      "pred: 1.33991 actual 1.306165\n",
      "pred: 1.11615 actual 1.180429\n",
      "pred: 1.35262 actual 1.4869\n",
      "pred: 1.6063 actual 1.55909\n",
      "pred: 1.19052 actual 1.113499\n",
      "pred: 1.36218 actual 1.308044\n",
      "pred: 1.32336 actual 1.468493\n",
      "pred: 1.14601 actual 1.112298\n",
      "pred: 1.63252 actual 1.573193\n",
      "pred: 1.39857 actual 1.451568\n",
      "pred: 1.14462 actual 1.063886\n",
      "pred: 1.42863 actual 1.443793\n",
      "pred: 1.55562 actual 1.578607\n",
      "pred: 1.32447 actual 1.368176\n",
      "pred: 1.27718 actual 1.358511\n",
      "pred: 1.33746 actual 1.395751\n",
      "pred: 1.31595 actual 1.287996\n",
      "pred: 1.17483 actual 1.117206\n",
      "pred: 1.30512 actual 1.311475\n",
      "pred: 1.31665 actual 1.307805\n",
      "pred: 1.35683 actual 1.352997\n",
      "pred: 1.33023 actual 1.364592\n",
      "pred: 1.14576 actual 1.112397\n",
      "pred: 1.35364 actual 1.390453\n",
      "pred: 1.3315 actual 1.253447\n",
      "pred: 1.27881 actual 1.352759\n",
      "pred: 1.35197 actual 1.493451\n",
      "pred: 1.37372 actual 1.443835\n",
      "pred: 1.11334 actual 1.246727\n",
      "pred: 1.31326 actual 1.369901\n",
      "pred: 1.14092 actual 1.137398\n",
      "pred: 1.39429 actual 1.442003\n",
      "pred: 1.40088 actual 1.45081\n",
      "pred: 1.40329 actual 1.417053\n",
      "pred: 1.33888 actual 1.393592\n",
      "pred: 1.12027 actual 1.244694\n",
      "pred: 1.12216 actual 1.194558\n",
      "pred: 1.14545 actual 1.111099\n",
      "pred: 1.3179 actual 1.368008\n",
      "pred: 1.21615 actual 1.247007\n",
      "pred: 1.31317 actual 1.277792\n",
      "pred: 1.1213 actual 1.118356\n",
      "pred: 1.19906 actual 1.229045\n",
      "pred: 1.1506 actual 1.058201\n",
      "pred: 1.32765 actual 1.306916\n",
      "pred: 1.29851 actual 1.244091\n",
      "pred: 1.39343 actual 1.386655\n",
      "pred: 1.33022 actual 1.3611\n",
      "pred: 1.31653 actual 1.3577\n",
      "pred: 1.29204 actual 1.306762\n",
      "pred: 1.28467 actual 1.359342\n",
      "pred: 1.27947 actual 1.337238\n",
      "pred: 1.35226 actual 1.400109\n",
      "pred: 1.30738 actual 1.348399\n",
      "pred: 1.31292 actual 1.280803\n",
      "pred: 1.12229 actual 1.197461\n",
      "pred: 1.12313 actual 1.138265\n",
      "pred: 1.30389 actual 1.283697\n",
      "pred: 1.20033 actual 1.244354\n",
      "pred: 1.16822 actual 1.09031\n",
      "pred: 1.31715 actual 1.306694\n",
      "pred: 1.32775 actual 1.262993\n",
      "pred: 1.28169 actual 1.343382\n",
      "pred: 1.12296 actual 1.121579\n",
      "pred: 1.12056 actual 1.114964\n",
      "pred: 1.32839 actual 1.297353\n",
      "pred: 1.37945 actual 1.368607\n",
      "pred: 1.14918 actual 1.115324\n",
      "pred: 1.29078 actual 1.354793\n",
      "pred: 1.33382 actual 1.362064\n",
      "pred: 1.30887 actual 1.327739\n",
      "pred: 1.27913 actual 1.335827\n",
      "pred: 1.12833 actual 1.088898\n",
      "pred: 1.28194 actual 1.348963\n",
      "pred: 1.27962 actual 1.355234\n",
      "pred: 1.338 actual 1.417796\n",
      "pred: 1.18284 actual 1.088637\n",
      "pred: 1.51701 actual 1.544211\n",
      "pred: 1.29513 actual 1.334098\n",
      "pred: 1.13541 actual 1.07747\n",
      "pred: 1.34415 actual 1.509001\n",
      "pred: 1.31559 actual 1.272087\n",
      "pred: 1.11112 actual 1.22555\n",
      "pred: 1.11437 actual 1.174357\n",
      "pred: 1.29026 actual 1.359065\n",
      "pred: 1.13003 actual 1.090893\n",
      "pred: 1.26557 actual 1.291706\n",
      "pred: 1.15133 actual 1.138797\n",
      "pred: 1.33062 actual 1.281066\n",
      "pred: 1.34487 actual 1.369319\n",
      "pred: 1.16592 actual 1.158306\n",
      "pred: 1.15565 actual 1.131606\n",
      "pred: 1.28175 actual 1.387887\n",
      "pred: 1.15347 actual 1.098394\n",
      "pred: 1.32099 actual 1.307873\n",
      "pred: 1.26478 actual 1.277808\n",
      "pred: 1.34171 actual 1.452391\n",
      "pred: 1.29767 actual 1.326594\n",
      "pred: 1.32409 actual 1.275608\n",
      "pred: 1.3846 actual 1.425517\n",
      "pred: 1.12264 actual 1.197046\n",
      "pred: 1.39314 actual 1.435297\n",
      "pred: 1.14995 actual 1.098467\n",
      "pred: 1.33397 actual 1.383394\n",
      "pred: 1.27965 actual 1.391304\n",
      "pred: 1.26832 actual 1.326049\n",
      "pred: 1.15717 actual 1.110605\n",
      "pred: 1.54139 actual 1.581403\n",
      "pred: 1.31035 actual 1.302932\n",
      "pred: 1.2343 actual 1.238007\n",
      "pred: 1.26689 actual 1.289108\n",
      "pred: 1.17489 actual 1.135551\n",
      "pred: 1.37934 actual 1.396902\n",
      "pred: 1.18303 actual 1.136738\n",
      "pred: 1.28295 actual 1.357202\n",
      "pred: 1.60128 actual 1.568874\n",
      "pred: 1.29986 actual 1.326805\n",
      "pred: 1.31149 actual 1.352302\n",
      "pred: 1.31321 actual 1.306592\n",
      "pred: 1.14978 actual 1.11158\n",
      "pred: 1.36546 actual 1.335684\n",
      "pred: 1.23561 actual 1.255256\n",
      "pred: 1.3516 actual 1.293142\n",
      "pred: 1.28132 actual 1.34221\n",
      "pred: 1.3706 actual 1.318618\n",
      "pred: 1.4833 actual 1.466405\n",
      "pred: 1.29588 actual 1.338007\n",
      "pred: 1.31447 actual 1.226843\n",
      "pred: 1.35878 actual 1.362454\n",
      "pred: 1.30067 actual 1.352338\n",
      "pred: 1.33705 actual 1.434309\n",
      "pred: 1.34615 actual 1.451126\n",
      "pred: 1.12041 actual 1.234766\n",
      "pred: 1.30422 actual 1.329204\n",
      "pred: 1.31459 actual 1.216945\n",
      "pred: 1.14547 actual 1.076079\n",
      "pred: 1.12534 actual 1.177024\n",
      "pred: 1.32836 actual 1.287515\n",
      "pred: 1.1215 actual 1.199256\n",
      "pred: 1.28946 actual 1.288245\n",
      "pred: 1.32538 actual 1.236002\n",
      "pred: 1.49391 actual 1.474491\n",
      "pred: 1.15301 actual 1.10329\n",
      "pred: 1.34598 actual 1.371009\n",
      "pred: 1.14495 actual 1.069221\n",
      "pred: 1.22622 actual 1.248065\n",
      "pred: 1.26856 actual 1.319087\n",
      "pred: 1.27968 actual 1.348399\n",
      "pred: 1.12613 actual 1.198926\n",
      "pred: 1.31505 actual 1.281197\n",
      "pred: 1.32734 actual 1.254107\n",
      "pred: 1.3028 actual 1.315322\n",
      "pred: 1.26917 actual 1.295908\n",
      "pred: 1.32788 actual 1.425436\n",
      "pred: 1.28273 actual 1.370952\n",
      "pred: 1.51128 actual 1.3996\n",
      "pred: 1.1935 actual 1.233898\n",
      "pred: 1.29148 actual 1.291906\n",
      "pred: 1.37744 actual 1.340662\n",
      "pred: 1.14637 actual 1.141292\n",
      "pred: 1.26733 actual 1.313198\n",
      "pred: 1.33422 actual 1.478131\n",
      "pred: 1.4707 actual 1.464\n",
      "pred: 1.32954 actual 1.397624\n",
      "pred: 1.15822 actual 1.057295\n",
      "pred: 1.33278 actual 1.285843\n",
      "pred: 1.54351 actual 1.582404\n",
      "pred: 1.18635 actual 1.093482\n",
      "pred: 1.17469 actual 1.140095\n",
      "pred: 1.11592 actual 1.233685\n",
      "pred: 1.36165 actual 1.325082\n",
      "pred: 1.54355 actual 1.557802\n",
      "pred: 1.35029 actual 1.268038\n",
      "pred: 1.1901 actual 1.128095\n",
      "pred: 1.37392 actual 1.386905\n",
      "pred: 1.31557 actual 1.337918\n",
      "pred: 1.17868 actual 1.100994\n",
      "pred: 1.40185 actual 1.442793\n",
      "pred: 1.31065 actual 1.315097\n",
      "pred: 1.41789 actual 1.482975\n",
      "pred: 1.35529 actual 1.504189\n",
      "pred: 1.14984 actual 1.094104\n",
      "pred: 1.14387 actual 1.056189\n",
      "pred: 1.35367 actual 1.311131\n",
      "pred: 1.12619 actual 1.088684\n",
      "pred: 1.12538 actual 1.1951\n",
      "pred: 1.14611 actual 1.071375\n",
      "pred: 1.33717 actual 1.370163\n",
      "pred: 1.34439 actual 1.259906\n",
      "pred: 1.15191 actual 1.150404\n",
      "pred: 1.19276 actual 1.221001\n",
      "pred: 1.34944 actual 1.340195\n",
      "pred: 1.12774 actual 1.121579\n",
      "pred: 1.64653 actual 1.58559\n",
      "pred: 1.11377 actual 1.241866\n",
      "pred: 1.34616 actual 1.3947\n",
      "pred: 1.50343 actual 1.423994\n",
      "pred: 1.29396 actual 1.378094\n",
      "pred: 1.17446 actual 1.121604\n",
      "pred: 1.40625 actual 1.396394\n",
      "pred: 1.1214 actual 1.154974\n",
      "pred: 1.1913 actual 1.124063\n",
      "pred: 1.3117 actual 1.329893\n",
      "pred: 1.12237 actual 1.162872\n",
      "pred: 1.30042 actual 1.322332\n",
      "pred: 1.19447 actual 1.132618\n",
      "pred: 1.28786 actual 1.304393\n",
      "pred: 1.31157 actual 1.285017\n",
      "pred: 1.32521 actual 1.344447\n",
      "pred: 1.32316 actual 1.386693\n",
      "pred: 1.3894 actual 1.4583\n",
      "pred: 1.13507 actual 1.069004\n",
      "pred: 1.36781 actual 1.435791\n",
      "pred: 1.32013 actual 1.257387\n",
      "pred: 1.191 actual 1.088886\n",
      "pred: 1.11889 actual 1.174164\n",
      "pred: 1.3088 actual 1.303322\n",
      "pred: 1.29861 actual 1.321196\n",
      "pred: 1.28562 actual 1.368495\n",
      "pred: 1.11406 actual 1.231557\n",
      "pred: 1.1196 actual 1.174757\n",
      "pred: 1.11097 actual 1.230875\n",
      "pred: 1.34535 actual 1.484891\n",
      "pred: 1.11242 actual 1.239234\n",
      "pred: 1.14711 actual 1.050089\n",
      "pred: 1.3556 actual 1.414007\n",
      "pred: 1.11743 actual 1.185199\n",
      "pred: 1.34448 actual 1.4718\n",
      "pred: 1.31979 actual 1.322769\n",
      "pred: 1.32903 actual 1.247661\n",
      "pred: 1.14095 actual 1.05976\n",
      "pred: 1.29384 actual 1.362899\n",
      "pred: 1.15322 actual 1.104972\n",
      "pred: 1.25985 actual 1.266801\n",
      "pred: 1.28596 actual 1.379329\n",
      "pred: 1.33058 actual 1.352704\n",
      "pred: 1.33253 actual 1.256124\n",
      "pred: 1.28729 actual 1.334793\n",
      "pred: 1.35087 actual 1.473101\n",
      "pred: 1.15942 actual 1.106501\n",
      "pred: 1.28783 actual 1.346294\n",
      "pred: 1.35006 actual 1.386001\n",
      "pred: 1.1474 actual 1.123595\n",
      "pred: 1.12094 actual 1.140394\n",
      "pred: 1.35443 actual 1.313715\n",
      "pred: 1.28689 actual 1.374023\n",
      "pred: 1.38958 actual 1.423427\n",
      "pred: 1.29394 actual 1.373042\n",
      "pred: 1.33695 actual 1.346801\n",
      "pred: 1.37825 actual 1.423792\n",
      "pred: 1.29791 actual 1.319087\n",
      "pred: 1.30937 actual 1.263807\n",
      "pred: 1.15918 actual 1.064101\n",
      "pred: 1.2665 actual 1.292357\n",
      "pred: 1.29321 actual 1.372119\n",
      "pred: 1.3176 actual 1.393398\n",
      "pred: 1.3663 actual 1.362602\n",
      "pred: 1.17952 actual 1.128146\n",
      "pred: 1.15279 actual 1.091298\n",
      "pred: 1.3736 actual 1.346711\n",
      "pred: 1.3413 actual 1.3584\n",
      "pred: 1.42786 actual 1.349\n",
      "pred: 1.12181 actual 1.187211\n",
      "pred: 1.39834 actual 1.40849\n",
      "pred: 1.11331 actual 1.227129\n",
      "pred: 1.33543 actual 1.438497\n",
      "pred: 1.27592 actual 1.367185\n",
      "pred: 1.30157 actual 1.351698\n",
      "pred: 1.12084 actual 1.163887\n",
      "pred: 1.32721 actual 1.408232\n",
      "pred: 1.16736 actual 1.102597\n",
      "pred: 1.32884 actual 1.434905\n",
      "pred: 1.47483 actual 1.467502\n",
      "pred: 1.31085 actual 1.301236\n",
      "pred: 1.32824 actual 1.4347\n",
      "pred: 1.27024 actual 1.336112\n",
      "pred: 1.3108 actual 1.218027\n",
      "pred: 1.12205 actual 1.164456\n",
      "pred: 1.15491 actual 1.1427\n",
      "pred: 1.32 actual 1.350202\n",
      "pred: 1.67672 actual 1.571388\n",
      "pred: 1.17368 actual 1.136816\n",
      "pred: 1.1524 actual 1.121013\n",
      "pred: 1.32782 actual 1.266464\n",
      "pred: 1.34497 actual 1.436596\n",
      "pred: 1.19444 actual 1.217493\n",
      "pred: 1.12113 actual 1.226813\n",
      "pred: 1.34014 actual 1.506977\n",
      "pred: 1.14969 actual 1.108365\n",
      "pred: 1.29654 actual 1.25318\n",
      "pred: 1.32665 actual 1.281443\n",
      "pred: 1.30013 actual 1.295908\n",
      "pred: 1.1416 actual 1.061132\n",
      "pred: 1.48658 actual 1.455604\n",
      "pred: 1.29036 actual 1.309329\n",
      "pred: 1.38126 actual 1.390414\n",
      "pred: 1.12245 actual 1.174964\n",
      "pred: 1.35557 actual 1.369\n",
      "pred: 1.14725 actual 1.076739\n",
      "pred: 1.19506 actual 1.135048\n",
      "pred: 1.28433 actual 1.378208\n",
      "pred: 1.26331 actual 1.285397\n",
      "pred: 1.31399 actual 1.247894\n"
     ]
    }
   ],
   "source": [
    "for x,y in zip(pred_value,y_test):\n",
    "    print(f\"pred: {x} actual {y}\")"
   ]
  },
  {
   "cell_type": "code",
   "execution_count": null,
   "id": "1df44ba8",
   "metadata": {},
   "outputs": [],
   "source": [
    "!pip install seaborn"
   ]
  },
  {
   "cell_type": "code",
   "execution_count": null,
   "id": "0d2e7f96",
   "metadata": {},
   "outputs": [],
   "source": [
    "!pip install matplotlib"
   ]
  },
  {
   "cell_type": "code",
   "execution_count": 23,
   "id": "cc870640",
   "metadata": {},
   "outputs": [],
   "source": [
    "import seaborn as sns\n",
    "import matplotlib.pyplot as plt "
   ]
  },
  {
   "cell_type": "code",
   "execution_count": 35,
   "id": "8328d17f",
   "metadata": {},
   "outputs": [
    {
     "data": {
      "text/plain": [
       "<matplotlib.legend.Legend at 0x26a695c0190>"
      ]
     },
     "execution_count": 35,
     "metadata": {},
     "output_type": "execute_result"
    },
    {
     "data": {
      "image/png": "[encoded data removed]",
      "text/plain": [
       "<Figure size 2000x700 with 1 Axes>"
      ]
     },
     "metadata": {},
     "output_type": "display_data"
    }
   ],
   "source": [
    "plt.figure(figsize=(20,7))\n",
    "sns.kdeplot(pred_value,color='r',label='prediction')\n",
    "sns.kdeplot(y_test,color='g',label='actual')\n",
    "plt.legend()"
   ]
  },
  {
   "cell_type": "code",
   "execution_count": 36,
   "id": "f4599c75",
   "metadata": {},
   "outputs": [
    {
     "data": {
      "text/plain": [
       "array([1.30915, 1.36413, 1.35116, 1.35548, 1.12238, 1.32068, 1.31543,\n",
       "       1.5074 , 1.14708, 1.29304, 1.28639, 1.28264, 1.4901 , 1.28089,\n",
       "       1.19508, 1.33678, 1.28183, 1.15142, 1.28817, 1.11552, 1.31376,\n",
       "       1.12287, 1.31429, 1.35899, 1.3353 , 1.14228, 1.64581, 1.14202,\n",
       "       1.14399, 1.15472, 1.15109, 1.33408, 1.30712, 1.18304, 1.34319,\n",
       "       1.12235, 1.47885, 1.15092, 1.14984, 1.32602, 1.28122, 1.6474 ,\n",
       "       1.12046, 1.1199 , 1.32867, 1.3668 , 1.35714, 1.32245, 1.35804,\n",
       "       1.29962, 1.11292, 1.31165, 1.3202 , 1.16898, 1.34407, 1.30372,\n",
       "       1.12145, 1.32965, 1.28521, 1.32613, 1.15241, 1.31924, 1.31906,\n",
       "       1.28594, 1.4071 , 1.36115, 1.32613, 1.30455, 1.35138, 1.28816,\n",
       "       1.17345, 1.15595, 1.36823, 1.32499, 1.14695, 1.29882, 1.15481,\n",
       "       1.12653, 1.11836, 1.46716, 1.29302, 1.37587, 1.13251, 1.33199,\n",
       "       1.31432, 1.21281, 1.47566, 1.34322, 1.15324, 1.34733, 1.31463,\n",
       "       1.29197, 1.3347 , 1.29147, 1.31467, 1.33934, 1.49112, 1.32086,\n",
       "       1.18505, 1.32365, 1.16912, 1.31015, 1.15291, 1.11548, 1.2827 ,\n",
       "       1.11462, 1.14128, 1.29257, 1.31172, 1.12026, 1.37604, 1.3665 ,\n",
       "       1.39603, 1.18417, 1.26147, 1.15261, 1.15178, 1.17483, 1.29778,\n",
       "       1.39583, 1.57502, 1.33163, 1.29708, 1.35186, 1.29843, 1.29   ,\n",
       "       1.36241, 1.39453, 1.33864, 1.15528, 1.33874, 1.37859, 1.1901 ,\n",
       "       1.33309, 1.31178, 1.31481, 1.14957, 1.61314, 1.28653, 1.29751,\n",
       "       1.18915, 1.14078, 1.15367, 1.15423, 1.48463, 1.28772, 1.31785,\n",
       "       1.54114, 1.15395, 1.27824, 1.16608, 1.3194 , 1.19348, 1.18203,\n",
       "       1.31592, 1.33991, 1.11615, 1.35262, 1.6063 , 1.19052, 1.36218,\n",
       "       1.32336, 1.14601, 1.63252, 1.39857, 1.14462, 1.42863, 1.55562,\n",
       "       1.32447, 1.27718, 1.33746, 1.31595, 1.17483, 1.30512, 1.31665,\n",
       "       1.35683, 1.33023, 1.14576, 1.35364, 1.3315 , 1.27881, 1.35197,\n",
       "       1.37372, 1.11334, 1.31326, 1.14092, 1.39429, 1.40088, 1.40329,\n",
       "       1.33888, 1.12027, 1.12216, 1.14545, 1.3179 , 1.21615, 1.31317,\n",
       "       1.1213 , 1.19906, 1.1506 , 1.32765, 1.29851, 1.39343, 1.33022,\n",
       "       1.31653, 1.29204, 1.28467, 1.27947, 1.35226, 1.30738, 1.31292,\n",
       "       1.12229, 1.12313, 1.30389, 1.20033, 1.16822, 1.31715, 1.32775,\n",
       "       1.28169, 1.12296, 1.12056, 1.32839, 1.37945, 1.14918, 1.29078,\n",
       "       1.33382, 1.30887, 1.27913, 1.12833, 1.28194, 1.27962, 1.338  ,\n",
       "       1.18284, 1.51701, 1.29513, 1.13541, 1.34415, 1.31559, 1.11112,\n",
       "       1.11437, 1.29026, 1.13003, 1.26557, 1.15133, 1.33062, 1.34487,\n",
       "       1.16592, 1.15565, 1.28175, 1.15347, 1.32099, 1.26478, 1.34171,\n",
       "       1.29767, 1.32409, 1.3846 , 1.12264, 1.39314, 1.14995, 1.33397,\n",
       "       1.27965, 1.26832, 1.15717, 1.54139, 1.31035, 1.2343 , 1.26689,\n",
       "       1.17489, 1.37934, 1.18303, 1.28295, 1.60128, 1.29986, 1.31149,\n",
       "       1.31321, 1.14978, 1.36546, 1.23561, 1.3516 , 1.28132, 1.3706 ,\n",
       "       1.4833 , 1.29588, 1.31447, 1.35878, 1.30067, 1.33705, 1.34615,\n",
       "       1.12041, 1.30422, 1.31459, 1.14547, 1.12534, 1.32836, 1.1215 ,\n",
       "       1.28946, 1.32538, 1.49391, 1.15301, 1.34598, 1.14495, 1.22622,\n",
       "       1.26856, 1.27968, 1.12613, 1.31505, 1.32734, 1.3028 , 1.26917,\n",
       "       1.32788, 1.28273, 1.51128, 1.1935 , 1.29148, 1.37744, 1.14637,\n",
       "       1.26733, 1.33422, 1.4707 , 1.32954, 1.15822, 1.33278, 1.54351,\n",
       "       1.18635, 1.17469, 1.11592, 1.36165, 1.54355, 1.35029, 1.1901 ,\n",
       "       1.37392, 1.31557, 1.17868, 1.40185, 1.31065, 1.41789, 1.35529,\n",
       "       1.14984, 1.14387, 1.35367, 1.12619, 1.12538, 1.14611, 1.33717,\n",
       "       1.34439, 1.15191, 1.19276, 1.34944, 1.12774, 1.64653, 1.11377,\n",
       "       1.34616, 1.50343, 1.29396, 1.17446, 1.40625, 1.1214 , 1.1913 ,\n",
       "       1.3117 , 1.12237, 1.30042, 1.19447, 1.28786, 1.31157, 1.32521,\n",
       "       1.32316, 1.3894 , 1.13507, 1.36781, 1.32013, 1.191  , 1.11889,\n",
       "       1.3088 , 1.29861, 1.28562, 1.11406, 1.1196 , 1.11097, 1.34535,\n",
       "       1.11242, 1.14711, 1.3556 , 1.11743, 1.34448, 1.31979, 1.32903,\n",
       "       1.14095, 1.29384, 1.15322, 1.25985, 1.28596, 1.33058, 1.33253,\n",
       "       1.28729, 1.35087, 1.15942, 1.28783, 1.35006, 1.1474 , 1.12094,\n",
       "       1.35443, 1.28689, 1.38958, 1.29394, 1.33695, 1.37825, 1.29791,\n",
       "       1.30937, 1.15918, 1.2665 , 1.29321, 1.3176 , 1.3663 , 1.17952,\n",
       "       1.15279, 1.3736 , 1.3413 , 1.42786, 1.12181, 1.39834, 1.11331,\n",
       "       1.33543, 1.27592, 1.30157, 1.12084, 1.32721, 1.16736, 1.32884,\n",
       "       1.47483, 1.31085, 1.32824, 1.27024, 1.3108 , 1.12205, 1.15491,\n",
       "       1.32   , 1.67672, 1.17368, 1.1524 , 1.32782, 1.34497, 1.19444,\n",
       "       1.12113, 1.34014, 1.14969, 1.29654, 1.32665, 1.30013, 1.1416 ,\n",
       "       1.48658, 1.29036, 1.38126, 1.12245, 1.35557, 1.14725, 1.19506,\n",
       "       1.28433, 1.26331, 1.31399])"
      ]
     },
     "execution_count": 36,
     "metadata": {},
     "output_type": "execute_result"
    }
   ],
   "source": [
    "pred_value"
   ]
  },
  {
   "cell_type": "code",
   "execution_count": 37,
   "id": "9e302a4a",
   "metadata": {},
   "outputs": [
    {
     "data": {
      "text/plain": [
       "221     1.300508\n",
       "642     1.339549\n",
       "888     1.286604\n",
       "619     1.377202\n",
       "2261    1.240787\n",
       "          ...   \n",
       "2006    1.076739\n",
       "1626    1.135048\n",
       "1375    1.378208\n",
       "1476    1.285397\n",
       "521     1.247894\n",
       "Name: EUR/USD, Length: 458, dtype: float64"
      ]
     },
     "execution_count": 37,
     "metadata": {},
     "output_type": "execute_result"
    }
   ],
   "source": [
    "y_test"
   ]
  },
  {
   "cell_type": "code",
   "execution_count": 38,
   "id": "33cff10c",
   "metadata": {},
   "outputs": [
    {
     "data": {
      "text/plain": [
       "458"
      ]
     },
     "execution_count": 38,
     "metadata": {},
     "output_type": "execute_result"
    }
   ],
   "source": [
    "len(pred_value)"
   ]
  },
  {
   "cell_type": "code",
   "execution_count": 39,
   "id": "915430df",
   "metadata": {},
   "outputs": [
    {
     "data": {
      "text/plain": [
       "458"
      ]
     },
     "execution_count": 39,
     "metadata": {},
     "output_type": "execute_result"
    }
   ],
   "source": [
    "len(y_test)"
   ]
  },
  {
   "cell_type": "code",
   "execution_count": 52,
   "id": "6a4db47e",
   "metadata": {},
   "outputs": [
    {
     "data": {
      "text/plain": [
       "<matplotlib.legend.Legend at 0x26a6a7639d0>"
      ]
     },
     "execution_count": 52,
     "metadata": {},
     "output_type": "execute_result"
    },
    {
     "data": {
      "image/png": "[encoded data removed]",
      "text/plain": [
       "<Figure size 2000x1000 with 1 Axes>"
      ]
     },
     "metadata": {},
     "output_type": "display_data"
    }
   ],
   "source": [
    "plt.figure(figsize=(20,10))\n",
    "sns.scatterplot(x=y_test.index,y=pred_value,color='r',label='prediction')\n",
    "sns.scatterplot(x=y_test.index,y=y_test,color='g',label='actual')\n",
    "plt.legend()\n"
   ]
  },
  {
   "cell_type": "code",
   "execution_count": 53,
   "id": "02c38112",
   "metadata": {},
   "outputs": [
    {
     "data": {
      "text/plain": [
       "0.004212680688451675"
      ]
     },
     "execution_count": 53,
     "metadata": {},
     "output_type": "execute_result"
    }
   ],
   "source": [
    "#test testing\n",
    "#train testing\n",
    "train_value=model.predict(x_train)\n",
    "mse=mean_squared_error(train_value,y_train)\n",
    "mse"
   ]
  },
  {
   "cell_type": "code",
   "execution_count": 54,
   "id": "c014baf7",
   "metadata": {},
   "outputs": [
    {
     "name": "stderr",
     "output_type": "stream",
     "text": [
      "C:\\Users\\Dell\\anaconda3\\envs\\aiproject\\lib\\site-packages\\sklearn\\base.py:439: UserWarning: X does not have valid feature names, but LinearRegression was fitted with feature names\n",
      "  warnings.warn(\n"
     ]
    },
    {
     "data": {
      "text/plain": [
       "array([1.25036752])"
      ]
     },
     "execution_count": 54,
     "metadata": {},
     "output_type": "execute_result"
    }
   ],
   "source": [
    "#unknown value\n",
    "#model.fit(x_train,y_train)\n",
    "#SPX\tGLD\tUSO\tSLV\n",
    "SPX=2.3\n",
    "GLD=3.4\n",
    "USO=4.5\n",
    "SLV=1.1\n",
    "value=model.predict([[SPX,GLD,USO,SLV]])\n",
    "value"
   ]
  },
  {
   "cell_type": "code",
   "execution_count": 57,
   "id": "492a79a4",
   "metadata": {},
   "outputs": [
    {
     "name": "stdout",
     "output_type": "stream",
     "text": [
      "Enter SPX value3.4\n",
      "Enter SPX value2.4\n",
      "Enter SPX value5.3\n",
      "Enter SPX value2.2\n",
      "Gold Price for your input is 1.26\n"
     ]
    },
    {
     "name": "stderr",
     "output_type": "stream",
     "text": [
      "C:\\Users\\Dell\\anaconda3\\envs\\aiproject\\lib\\site-packages\\sklearn\\base.py:439: UserWarning: X does not have valid feature names, but LinearRegression was fitted with feature names\n",
      "  warnings.warn(\n"
     ]
    }
   ],
   "source": [
    "SPX=float(input(\"Enter SPX value\"))\n",
    "GLD=float(input(\"Enter SPX value\"))\n",
    "USO=float(input(\"Enter SPX value\"))\n",
    "SLV=float(input(\"Enter SPX value\"))\n",
    "value=model.predict([[SPX,GLD,USO,SLV]])\n",
    "print(f\"Gold Price for your input is {value[0].round(3)}\")"
   ]
  },
  {
   "cell_type": "code",
   "execution_count": 58,
   "id": "520774ef",
   "metadata": {},
   "outputs": [
    {
     "data": {
      "text/plain": [
       "array([1.32748972, 1.34585188, 1.35366954, 1.34868579, 1.12970898,\n",
       "       1.32082821, 1.33193734, 1.49045175, 1.14386482, 1.2902525 ,\n",
       "       1.28088867, 1.2793902 , 1.47326498, 1.28425602, 1.19795333,\n",
       "       1.35002769, 1.28278159, 1.15529439, 1.2854465 , 1.11498228,\n",
       "       1.32509921, 1.12267628, 1.31448153, 1.33242944, 1.33880545,\n",
       "       1.15529054, 1.62437319, 1.14040985, 1.16100404, 1.16234235,\n",
       "       1.15609642, 1.32722148, 1.30736839, 1.1878171 , 1.35355024,\n",
       "       1.12177688, 1.46334867, 1.15687258, 1.15090059, 1.34141313,\n",
       "       1.2821874 , 1.62787516, 1.12694043, 1.12153806, 1.34633952,\n",
       "       1.38113649, 1.35112718, 1.33924302, 1.35346474, 1.32073486,\n",
       "       1.11749693, 1.30918454, 1.31892631, 1.16862112, 1.35425117,\n",
       "       1.32235937, 1.124378  , 1.32264929, 1.28647744, 1.33666003,\n",
       "       1.15545446, 1.33996911, 1.34009159, 1.28668319, 1.41495232,\n",
       "       1.37651401, 1.34099075, 1.32210725, 1.34082982, 1.28188986,\n",
       "       1.17773725, 1.16497516, 1.3462352 , 1.33746315, 1.16128961,\n",
       "       1.30535839, 1.16187775, 1.12790018, 1.11903441, 1.48040531,\n",
       "       1.28977714, 1.3473246 , 1.13299645, 1.33194039, 1.33440204,\n",
       "       1.21667036, 1.46095418, 1.34255421, 1.16168638, 1.35265658,\n",
       "       1.31762347, 1.29236703, 1.34441699, 1.29596494, 1.33287407,\n",
       "       1.34863406, 1.49768725, 1.32161274, 1.19226514, 1.32366619,\n",
       "       1.17357268, 1.30879409, 1.15743933, 1.12007509, 1.28717428,\n",
       "       1.11769603, 1.13996756, 1.28905131, 1.32904088, 1.12000078,\n",
       "       1.34534897, 1.36302444, 1.34786892, 1.18778533, 1.26412594,\n",
       "       1.15641617, 1.1567087 , 1.17748563, 1.3058938 , 1.35532104,\n",
       "       1.55560209, 1.32581392, 1.31607773, 1.35148242, 1.31527633,\n",
       "       1.28991758, 1.34612493, 1.40826521, 1.33709911, 1.16188505,\n",
       "       1.34970465, 1.34252015, 1.19664439, 1.34325851, 1.31083444,\n",
       "       1.31471015, 1.15228728, 1.59185183, 1.28994034, 1.304384  ,\n",
       "       1.19353825, 1.14066208, 1.15708711, 1.15517015, 1.48653985,\n",
       "       1.2953454 , 1.33325027, 1.51730579, 1.15668584, 1.27961756,\n",
       "       1.16989239, 1.33174019, 1.19410981, 1.18633189, 1.33410913,\n",
       "       1.34155728, 1.11675194, 1.36230812, 1.59061817, 1.19551143,\n",
       "       1.35387989, 1.32863547, 1.16243926, 1.61088508, 1.35738696,\n",
       "       1.14698338, 1.36599056, 1.53725435, 1.34214951, 1.27623643,\n",
       "       1.35123284, 1.3340251 , 1.18279391, 1.30549467, 1.33255032,\n",
       "       1.35962132, 1.34698809, 1.16014549, 1.35012313, 1.33520166,\n",
       "       1.27705161, 1.35609432, 1.34799846, 1.11754069, 1.33120526,\n",
       "       1.15630492, 1.34885077, 1.35137441, 1.35610256, 1.3427891 ,\n",
       "       1.12521336, 1.12474871, 1.16169079, 1.33553811, 1.22025811,\n",
       "       1.31421065, 1.12231743, 1.20461451, 1.14821731, 1.32610847,\n",
       "       1.30983792, 1.35329978, 1.32403564, 1.33354679, 1.29656833,\n",
       "       1.28585876, 1.27976066, 1.35936451, 1.32884574, 1.33302952,\n",
       "       1.12507615, 1.12354212, 1.32398365, 1.20967757, 1.16881637,\n",
       "       1.32943077, 1.34188616, 1.27965845, 1.12426497, 1.12228086,\n",
       "       1.32191664, 1.35590992, 1.15342334, 1.28923984, 1.34905489,\n",
       "       1.3249748 , 1.28155189, 1.13038558, 1.28084515, 1.27788048,\n",
       "       1.34632505, 1.1853016 , 1.50172471, 1.3015973 , 1.13243744,\n",
       "       1.35585054, 1.33375056, 1.11065559, 1.11351019, 1.28829657,\n",
       "       1.13198544, 1.26433976, 1.16071567, 1.33602193, 1.34191432,\n",
       "       1.17729136, 1.16508163, 1.2849182 , 1.15789286, 1.31819182,\n",
       "       1.26591536, 1.34881854, 1.31446288, 1.3436338 , 1.34857578,\n",
       "       1.12645381, 1.34621281, 1.15527415, 1.34253969, 1.28358084,\n",
       "       1.26920677, 1.16365299, 1.52204011, 1.30851206, 1.23962293,\n",
       "       1.26591294, 1.17954439, 1.34708361, 1.19096606, 1.2788452 ,\n",
       "       1.58417584, 1.31613592, 1.30908068, 1.31281715, 1.15141615,\n",
       "       1.34375295, 1.23977451, 1.35691647, 1.27966329, 1.3610948 ,\n",
       "       1.46869105, 1.30147752, 1.32435417, 1.33616264, 1.30007144,\n",
       "       1.34713987, 1.35482591, 1.12608356, 1.3212139 , 1.33323973,\n",
       "       1.14386429, 1.12807245, 1.3229297 , 1.12447963, 1.29420018,\n",
       "       1.33868657, 1.47834877, 1.15421718, 1.32966263, 1.14240823,\n",
       "       1.22948921, 1.26847156, 1.27891168, 1.1301362 , 1.33396982,\n",
       "       1.34058593, 1.32078868, 1.26763987, 1.33770123, 1.28554999,\n",
       "       1.50999838, 1.20040509, 1.29475437, 1.36293827, 1.1601078 ,\n",
       "       1.2666092 , 1.33840967, 1.45699934, 1.344145  , 1.15920317,\n",
       "       1.32872883, 1.52372955, 1.18982342, 1.18017736, 1.11900989,\n",
       "       1.34636717, 1.52242253, 1.35604232, 1.19360065, 1.35029229,\n",
       "       1.31292077, 1.18452422, 1.35406651, 1.31085168, 1.36467805,\n",
       "       1.35959298, 1.15888466, 1.14369883, 1.34872123, 1.12738859,\n",
       "       1.1287786 , 1.14504603, 1.35178123, 1.36302385, 1.16154495,\n",
       "       1.19826013, 1.35722701, 1.12810607, 1.62735343, 1.11403638,\n",
       "       1.35712915, 1.50198221, 1.29043747, 1.18295112, 1.3592804 ,\n",
       "       1.12306458, 1.19480929, 1.31142889, 1.12096076, 1.30828815,\n",
       "       1.19473819, 1.29388796, 1.31456368, 1.3217773 , 1.33725706,\n",
       "       1.35280191, 1.13168261, 1.33941965, 1.32457196, 1.19209347,\n",
       "       1.11995984, 1.32816646, 1.30662255, 1.28128528, 1.11651093,\n",
       "       1.12100458, 1.11243798, 1.35523308, 1.11478295, 1.14501906,\n",
       "       1.34866978, 1.11757073, 1.35358856, 1.32286273, 1.33351928,\n",
       "       1.13851573, 1.29104167, 1.15800513, 1.26410138, 1.28917803,\n",
       "       1.34767826, 1.33473237, 1.28354691, 1.36058142, 1.16406741,\n",
       "       1.28356828, 1.34919729, 1.16028293, 1.12284312, 1.34928938,\n",
       "       1.2846706 , 1.34908273, 1.29067893, 1.34729292, 1.34742933,\n",
       "       1.30499235, 1.33051854, 1.16075858, 1.26567758, 1.29015423,\n",
       "       1.33361967, 1.33105107, 1.18886466, 1.1552468 , 1.36420077,\n",
       "       1.35039898, 1.44622698, 1.12448773, 1.35320167, 1.11285461,\n",
       "       1.34480171, 1.27255456, 1.30281065, 1.1226532 , 1.34006792,\n",
       "       1.16922334, 1.34049331, 1.46245584, 1.30988003, 1.33908135,\n",
       "       1.27151836, 1.32124293, 1.12322007, 1.16362757, 1.33187074,\n",
       "       1.65670351, 1.1790964 , 1.15354445, 1.33210877, 1.35381617,\n",
       "       1.19909116, 1.12703472, 1.35329156, 1.15139565, 1.3176756 ,\n",
       "       1.32268504, 1.31520624, 1.1396195 , 1.46842148, 1.29704967,\n",
       "       1.35458671, 1.12508247, 1.35227668, 1.14462314, 1.19748514,\n",
       "       1.28711743, 1.26502489, 1.32945284])"
      ]
     },
     "execution_count": 58,
     "metadata": {},
     "output_type": "execute_result"
    }
   ],
   "source": [
    "#trainng error\n",
    "#testing error\n",
    "#plot testing / prediction\n",
    "from sklearn.linear_model import Lasso\n",
    "model = Lasso(alpha=0.1)\n",
    "model.fit(x_train,y_train)\n",
    "pred_value=model.predict(x_test)\n",
    "pred_value"
   ]
  },
  {
   "cell_type": "code",
   "execution_count": 59,
   "id": "e32c9cc8",
   "metadata": {},
   "outputs": [
    {
     "data": {
      "text/html": [
       "<div>\n",
       "<style scoped>\n",
       "    .dataframe tbody tr th:only-of-type {\n",
       "        vertical-align: middle;\n",
       "    }\n",
       "\n",
       "    .dataframe tbody tr th {\n",
       "        vertical-align: top;\n",
       "    }\n",
       "\n",
       "    .dataframe thead th {\n",
       "        text-align: right;\n",
       "    }\n",
       "</style>\n",
       "<table border=\"1\" class=\"dataframe\">\n",
       "  <thead>\n",
       "    <tr style=\"text-align: right;\">\n",
       "      <th></th>\n",
       "      <th>age</th>\n",
       "      <th>sex</th>\n",
       "      <th>cp</th>\n",
       "      <th>trestbps</th>\n",
       "      <th>chol</th>\n",
       "      <th>fbs</th>\n",
       "      <th>restecg</th>\n",
       "      <th>thalach</th>\n",
       "      <th>exang</th>\n",
       "      <th>oldpeak</th>\n",
       "      <th>slope</th>\n",
       "      <th>ca</th>\n",
       "      <th>thal</th>\n",
       "      <th>target</th>\n",
       "    </tr>\n",
       "  </thead>\n",
       "  <tbody>\n",
       "    <tr>\n",
       "      <th>0</th>\n",
       "      <td>52</td>\n",
       "      <td>1</td>\n",
       "      <td>0</td>\n",
       "      <td>125</td>\n",
       "      <td>212</td>\n",
       "      <td>0</td>\n",
       "      <td>1</td>\n",
       "      <td>168</td>\n",
       "      <td>0</td>\n",
       "      <td>1.0</td>\n",
       "      <td>2</td>\n",
       "      <td>2</td>\n",
       "      <td>3</td>\n",
       "      <td>0</td>\n",
       "    </tr>\n",
       "    <tr>\n",
       "      <th>1</th>\n",
       "      <td>53</td>\n",
       "      <td>1</td>\n",
       "      <td>0</td>\n",
       "      <td>140</td>\n",
       "      <td>203</td>\n",
       "      <td>1</td>\n",
       "      <td>0</td>\n",
       "      <td>155</td>\n",
       "      <td>1</td>\n",
       "      <td>3.1</td>\n",
       "      <td>0</td>\n",
       "      <td>0</td>\n",
       "      <td>3</td>\n",
       "      <td>0</td>\n",
       "    </tr>\n",
       "    <tr>\n",
       "      <th>2</th>\n",
       "      <td>70</td>\n",
       "      <td>1</td>\n",
       "      <td>0</td>\n",
       "      <td>145</td>\n",
       "      <td>174</td>\n",
       "      <td>0</td>\n",
       "      <td>1</td>\n",
       "      <td>125</td>\n",
       "      <td>1</td>\n",
       "      <td>2.6</td>\n",
       "      <td>0</td>\n",
       "      <td>0</td>\n",
       "      <td>3</td>\n",
       "      <td>0</td>\n",
       "    </tr>\n",
       "    <tr>\n",
       "      <th>3</th>\n",
       "      <td>61</td>\n",
       "      <td>1</td>\n",
       "      <td>0</td>\n",
       "      <td>148</td>\n",
       "      <td>203</td>\n",
       "      <td>0</td>\n",
       "      <td>1</td>\n",
       "      <td>161</td>\n",
       "      <td>0</td>\n",
       "      <td>0.0</td>\n",
       "      <td>2</td>\n",
       "      <td>1</td>\n",
       "      <td>3</td>\n",
       "      <td>0</td>\n",
       "    </tr>\n",
       "    <tr>\n",
       "      <th>4</th>\n",
       "      <td>62</td>\n",
       "      <td>0</td>\n",
       "      <td>0</td>\n",
       "      <td>138</td>\n",
       "      <td>294</td>\n",
       "      <td>1</td>\n",
       "      <td>1</td>\n",
       "      <td>106</td>\n",
       "      <td>0</td>\n",
       "      <td>1.9</td>\n",
       "      <td>1</td>\n",
       "      <td>3</td>\n",
       "      <td>2</td>\n",
       "      <td>0</td>\n",
       "    </tr>\n",
       "    <tr>\n",
       "      <th>...</th>\n",
       "      <td>...</td>\n",
       "      <td>...</td>\n",
       "      <td>...</td>\n",
       "      <td>...</td>\n",
       "      <td>...</td>\n",
       "      <td>...</td>\n",
       "      <td>...</td>\n",
       "      <td>...</td>\n",
       "      <td>...</td>\n",
       "      <td>...</td>\n",
       "      <td>...</td>\n",
       "      <td>...</td>\n",
       "      <td>...</td>\n",
       "      <td>...</td>\n",
       "    </tr>\n",
       "    <tr>\n",
       "      <th>1020</th>\n",
       "      <td>59</td>\n",
       "      <td>1</td>\n",
       "      <td>1</td>\n",
       "      <td>140</td>\n",
       "      <td>221</td>\n",
       "      <td>0</td>\n",
       "      <td>1</td>\n",
       "      <td>164</td>\n",
       "      <td>1</td>\n",
       "      <td>0.0</td>\n",
       "      <td>2</td>\n",
       "      <td>0</td>\n",
       "      <td>2</td>\n",
       "      <td>1</td>\n",
       "    </tr>\n",
       "    <tr>\n",
       "      <th>1021</th>\n",
       "      <td>60</td>\n",
       "      <td>1</td>\n",
       "      <td>0</td>\n",
       "      <td>125</td>\n",
       "      <td>258</td>\n",
       "      <td>0</td>\n",
       "      <td>0</td>\n",
       "      <td>141</td>\n",
       "      <td>1</td>\n",
       "      <td>2.8</td>\n",
       "      <td>1</td>\n",
       "      <td>1</td>\n",
       "      <td>3</td>\n",
       "      <td>0</td>\n",
       "    </tr>\n",
       "    <tr>\n",
       "      <th>1022</th>\n",
       "      <td>47</td>\n",
       "      <td>1</td>\n",
       "      <td>0</td>\n",
       "      <td>110</td>\n",
       "      <td>275</td>\n",
       "      <td>0</td>\n",
       "      <td>0</td>\n",
       "      <td>118</td>\n",
       "      <td>1</td>\n",
       "      <td>1.0</td>\n",
       "      <td>1</td>\n",
       "      <td>1</td>\n",
       "      <td>2</td>\n",
       "      <td>0</td>\n",
       "    </tr>\n",
       "    <tr>\n",
       "      <th>1023</th>\n",
       "      <td>50</td>\n",
       "      <td>0</td>\n",
       "      <td>0</td>\n",
       "      <td>110</td>\n",
       "      <td>254</td>\n",
       "      <td>0</td>\n",
       "      <td>0</td>\n",
       "      <td>159</td>\n",
       "      <td>0</td>\n",
       "      <td>0.0</td>\n",
       "      <td>2</td>\n",
       "      <td>0</td>\n",
       "      <td>2</td>\n",
       "      <td>1</td>\n",
       "    </tr>\n",
       "    <tr>\n",
       "      <th>1024</th>\n",
       "      <td>54</td>\n",
       "      <td>1</td>\n",
       "      <td>0</td>\n",
       "      <td>120</td>\n",
       "      <td>188</td>\n",
       "      <td>0</td>\n",
       "      <td>1</td>\n",
       "      <td>113</td>\n",
       "      <td>0</td>\n",
       "      <td>1.4</td>\n",
       "      <td>1</td>\n",
       "      <td>1</td>\n",
       "      <td>3</td>\n",
       "      <td>0</td>\n",
       "    </tr>\n",
       "  </tbody>\n",
       "</table>\n",
       "<p>1025 rows × 14 columns</p>\n",
       "</div>"
      ],
      "text/plain": [
       "      age  sex  cp  trestbps  chol  fbs  restecg  thalach  exang  oldpeak  \\\n",
       "0      52    1   0       125   212    0        1      168      0      1.0   \n",
       "1      53    1   0       140   203    1        0      155      1      3.1   \n",
       "2      70    1   0       145   174    0        1      125      1      2.6   \n",
       "3      61    1   0       148   203    0        1      161      0      0.0   \n",
       "4      62    0   0       138   294    1        1      106      0      1.9   \n",
       "...   ...  ...  ..       ...   ...  ...      ...      ...    ...      ...   \n",
       "1020   59    1   1       140   221    0        1      164      1      0.0   \n",
       "1021   60    1   0       125   258    0        0      141      1      2.8   \n",
       "1022   47    1   0       110   275    0        0      118      1      1.0   \n",
       "1023   50    0   0       110   254    0        0      159      0      0.0   \n",
       "1024   54    1   0       120   188    0        1      113      0      1.4   \n",
       "\n",
       "      slope  ca  thal  target  \n",
       "0         2   2     3       0  \n",
       "1         0   0     3       0  \n",
       "2         0   0     3       0  \n",
       "3         2   1     3       0  \n",
       "4         1   3     2       0  \n",
       "...     ...  ..   ...     ...  \n",
       "1020      2   0     2       1  \n",
       "1021      1   1     3       0  \n",
       "1022      1   1     2       0  \n",
       "1023      2   0     2       1  \n",
       "1024      1   1     3       0  \n",
       "\n",
       "[1025 rows x 14 columns]"
      ]
     },
     "execution_count": 59,
     "metadata": {},
     "output_type": "execute_result"
    }
   ],
   "source": [
    "#Logistic Regression\n",
    "heart=pd.read_csv('dataset/heart.csv')\n",
    "heart"
   ]
  },
  {
   "cell_type": "code",
   "execution_count": 60,
   "id": "a2295994",
   "metadata": {},
   "outputs": [
    {
     "data": {
      "text/plain": [
       "1    526\n",
       "0    499\n",
       "Name: target, dtype: int64"
      ]
     },
     "execution_count": 60,
     "metadata": {},
     "output_type": "execute_result"
    }
   ],
   "source": [
    "heart['target'].value_counts()"
   ]
  },
  {
   "cell_type": "code",
   "execution_count": 61,
   "id": "9e198f4c",
   "metadata": {},
   "outputs": [],
   "source": [
    "X=heart.drop('target',axis=1)\n",
    "y=heart['target']\n",
    "x_train,x_test,y_train,y_test=train_test_split(X,y,test_size=0.2,random_state=0)"
   ]
  },
  {
   "cell_type": "code",
   "execution_count": 62,
   "id": "3ed1a26d",
   "metadata": {},
   "outputs": [
    {
     "data": {
      "text/plain": [
       "((820, 13), (205, 13))"
      ]
     },
     "execution_count": 62,
     "metadata": {},
     "output_type": "execute_result"
    }
   ],
   "source": [
    "x_train.shape,x_test.shape"
   ]
  },
  {
   "cell_type": "code",
   "execution_count": 63,
   "id": "b557155c",
   "metadata": {},
   "outputs": [
    {
     "data": {
      "text/plain": [
       "((820,), (205,))"
      ]
     },
     "execution_count": 63,
     "metadata": {},
     "output_type": "execute_result"
    }
   ],
   "source": [
    "y_train.shape,y_test.shape"
   ]
  },
  {
   "cell_type": "code",
   "execution_count": 66,
   "id": "d208256e",
   "metadata": {},
   "outputs": [
    {
     "name": "stderr",
     "output_type": "stream",
     "text": [
      "C:\\Users\\Dell\\anaconda3\\envs\\aiproject\\lib\\site-packages\\sklearn\\linear_model\\_logistic.py:458: ConvergenceWarning: lbfgs failed to converge (status=1):\n",
      "STOP: TOTAL NO. of ITERATIONS REACHED LIMIT.\n",
      "\n",
      "Increase the number of iterations (max_iter) or scale the data as shown in:\n",
      "    https://scikit-learn.org/stable/modules/preprocessing.html\n",
      "Please also refer to the documentation for alternative solver options:\n",
      "    https://scikit-learn.org/stable/modules/linear_model.html#logistic-regression\n",
      "  n_iter_i = _check_optimize_result(\n"
     ]
    },
    {
     "data": {
      "text/plain": [
       "array([1, 1, 0, 1, 0, 0, 0, 0, 0, 1, 0, 0, 1, 1, 1, 1, 1, 0, 1, 0, 1, 1,\n",
       "       1, 1, 1, 1, 1, 1, 1, 1, 1, 0, 0, 1, 0, 0, 1, 0, 1, 1, 1, 1, 1, 1,\n",
       "       1, 1, 1, 1, 0, 1, 0, 0, 1, 1, 0, 0, 0, 1, 0, 1, 0, 0, 1, 1, 0, 0,\n",
       "       0, 1, 1, 1, 1, 1, 1, 0, 0, 0, 1, 0, 0, 0, 0, 1, 1, 1, 1, 0, 1, 0,\n",
       "       1, 0, 0, 0, 1, 0, 1, 0, 1, 0, 1, 1, 1, 1, 1, 0, 0, 1, 0, 1, 0, 1,\n",
       "       1, 1, 0, 0, 1, 0, 1, 0, 0, 1, 1, 1, 1, 0, 1, 1, 1, 1, 1, 0, 0, 0,\n",
       "       1, 1, 1, 0, 0, 1, 0, 1, 0, 0, 0, 0, 1, 1, 1, 0, 1, 0, 1, 1, 1, 0,\n",
       "       0, 0, 1, 1, 0, 0, 0, 1, 1, 0, 1, 1, 1, 1, 1, 1, 1, 1, 1, 1, 1, 1,\n",
       "       0, 1, 1, 0, 0, 0, 0, 0, 1, 0, 1, 0, 1, 0, 0, 1, 1, 1, 0, 1, 1, 1,\n",
       "       1, 0, 1, 1, 1, 0, 1], dtype=int64)"
      ]
     },
     "execution_count": 66,
     "metadata": {},
     "output_type": "execute_result"
    }
   ],
   "source": [
    "from sklearn.linear_model import LogisticRegression\n",
    "lrmodel=LogisticRegression()\n",
    "lrmodel.fit(x_train,y_train)\n",
    "test_value=lrmodel.predict(x_test)\n",
    "test_value"
   ]
  },
  {
   "cell_type": "code",
   "execution_count": 67,
   "id": "3cd1c909",
   "metadata": {},
   "outputs": [
    {
     "data": {
      "text/plain": [
       "807    1\n",
       "27     0\n",
       "77     0\n",
       "406    1\n",
       "886    0\n",
       "      ..\n",
       "877    1\n",
       "320    1\n",
       "362    1\n",
       "452    0\n",
       "500    1\n",
       "Name: target, Length: 205, dtype: int64"
      ]
     },
     "execution_count": 67,
     "metadata": {},
     "output_type": "execute_result"
    }
   ],
   "source": [
    "y_test"
   ]
  },
  {
   "cell_type": "code",
   "execution_count": 69,
   "id": "bacbbd91",
   "metadata": {},
   "outputs": [
    {
     "name": "stdout",
     "output_type": "stream",
     "text": [
      "error count 28\n",
      "error precent 0.13658536585365855\n"
     ]
    }
   ],
   "source": [
    "#error value\n",
    "count=0\n",
    "for x,y in zip(test_value,y_test):\n",
    "    if x!=y:\n",
    "        count+=1\n",
    "print(f\"error count {count}\")\n",
    "print(f\"error precent {count/len(test_value)}\")\n",
    "        "
   ]
  },
  {
   "cell_type": "code",
   "execution_count": 70,
   "id": "3df0fcd5",
   "metadata": {},
   "outputs": [
    {
     "name": "stdout",
     "output_type": "stream",
     "text": [
      "correct count 177\n",
      "correct precent 0.8634146341463415\n"
     ]
    }
   ],
   "source": [
    "#accuracy\n",
    "count=0\n",
    "for x,y in zip(test_value,y_test):\n",
    "    if x==y:\n",
    "        count+=1\n",
    "print(f\"correct count {count}\")\n",
    "print(f\"correct precent {count/len(test_value)}\")"
   ]
  },
  {
   "cell_type": "code",
   "execution_count": 75,
   "id": "b4b1e7e9",
   "metadata": {},
   "outputs": [
    {
     "name": "stdout",
     "output_type": "stream",
     "text": [
      "The accuracy result of the model is 86.3 %\n"
     ]
    }
   ],
   "source": [
    "from sklearn.metrics import accuracy_score\n",
    "acc=accuracy_score(y_test,test_value)*100\n",
    "acc=acc.round(1)\n",
    "print(f\"The accuracy result of the model is {acc} %\")"
   ]
  },
  {
   "cell_type": "code",
   "execution_count": null,
   "id": "c422b12e",
   "metadata": {},
   "outputs": [],
   "source": []
  }
 ],
 "metadata": {
  "kernelspec": {
   "display_name": "AIkernel",
   "language": "python",
   "name": "aikernel"
  },
  "language_info": {
   "codemirror_mode": {
    "name": "ipython",
    "version": 3
   },
   "file_extension": ".py",
   "mimetype": "text/x-python",
   "name": "python",
   "nbconvert_exporter": "python",
   "pygments_lexer": "ipython3",
   "version": "3.10.10"
  }
 },
 "nbformat": 4,
 "nbformat_minor": 5
}
