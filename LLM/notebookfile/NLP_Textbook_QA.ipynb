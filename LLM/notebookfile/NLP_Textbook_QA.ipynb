{
 "cells": [
  {
   "cell_type": "code",
   "execution_count": null,
   "metadata": {
    "colab": {
     "base_uri": "https://localhost:8080/"
    },
    "id": "laBgYrYhL5mv",
    "outputId": "d49f87e7-f7aa-4824-91a1-f83b0dcf89f8"
   },
   "outputs": [
    {
     "name": "stdout",
     "output_type": "stream",
     "text": [
      "Collecting datasets\n",
      "  Downloading datasets-2.15.0-py3-none-any.whl (521 kB)\n",
      "\u001b[2K     \u001b[90m━━━━━━━━━━━━━━━━━━━━━━━━━━━━━━━━━━━━━━━━\u001b[0m \u001b[32m521.2/521.2 kB\u001b[0m \u001b[31m6.2 MB/s\u001b[0m eta \u001b[36m0:00:00\u001b[0m\n",
      "\u001b[?25hRequirement already satisfied: numpy>=1.17 in /usr/local/lib/python3.10/dist-packages (from datasets) (1.23.5)\n",
      "Requirement already satisfied: pyarrow>=8.0.0 in /usr/local/lib/python3.10/dist-packages (from datasets) (9.0.0)\n",
      "Collecting pyarrow-hotfix (from datasets)\n",
      "  Downloading pyarrow_hotfix-0.6-py3-none-any.whl (7.9 kB)\n",
      "Collecting dill<0.3.8,>=0.3.0 (from datasets)\n",
      "  Downloading dill-0.3.7-py3-none-any.whl (115 kB)\n",
      "\u001b[2K     \u001b[90m━━━━━━━━━━━━━━━━━━━━━━━━━━━━━━━━━━━━━━━━\u001b[0m \u001b[32m115.3/115.3 kB\u001b[0m \u001b[31m6.7 MB/s\u001b[0m eta \u001b[36m0:00:00\u001b[0m\n",
      "\u001b[?25hRequirement already satisfied: pandas in /usr/local/lib/python3.10/dist-packages (from datasets) (1.5.3)\n",
      "Requirement already satisfied: requests>=2.19.0 in /usr/local/lib/python3.10/dist-packages (from datasets) (2.31.0)\n",
      "Requirement already satisfied: tqdm>=4.62.1 in /usr/local/lib/python3.10/dist-packages (from datasets) (4.66.1)\n",
      "Requirement already satisfied: xxhash in /usr/local/lib/python3.10/dist-packages (from datasets) (3.4.1)\n",
      "Collecting multiprocess (from datasets)\n",
      "  Downloading multiprocess-0.70.15-py310-none-any.whl (134 kB)\n",
      "\u001b[2K     \u001b[90m━━━━━━━━━━━━━━━━━━━━━━━━━━━━━━━━━━━━━━━━\u001b[0m \u001b[32m134.8/134.8 kB\u001b[0m \u001b[31m8.1 MB/s\u001b[0m eta \u001b[36m0:00:00\u001b[0m\n",
      "\u001b[?25hRequirement already satisfied: fsspec[http]<=2023.10.0,>=2023.1.0 in /usr/local/lib/python3.10/dist-packages (from datasets) (2023.6.0)\n",
      "Requirement already satisfied: aiohttp in /usr/local/lib/python3.10/dist-packages (from datasets) (3.8.6)\n",
      "Requirement already satisfied: huggingface-hub>=0.18.0 in /usr/local/lib/python3.10/dist-packages (from datasets) (0.19.4)\n",
      "Requirement already satisfied: packaging in /usr/local/lib/python3.10/dist-packages (from datasets) (23.2)\n",
      "Requirement already satisfied: pyyaml>=5.1 in /usr/local/lib/python3.10/dist-packages (from datasets) (6.0.1)\n",
      "Requirement already satisfied: attrs>=17.3.0 in /usr/local/lib/python3.10/dist-packages (from aiohttp->datasets) (23.1.0)\n",
      "Requirement already satisfied: charset-normalizer<4.0,>=2.0 in /usr/local/lib/python3.10/dist-packages (from aiohttp->datasets) (3.3.2)\n",
      "Requirement already satisfied: multidict<7.0,>=4.5 in /usr/local/lib/python3.10/dist-packages (from aiohttp->datasets) (6.0.4)\n",
      "Requirement already satisfied: async-timeout<5.0,>=4.0.0a3 in /usr/local/lib/python3.10/dist-packages (from aiohttp->datasets) (4.0.3)\n",
      "Requirement already satisfied: yarl<2.0,>=1.0 in /usr/local/lib/python3.10/dist-packages (from aiohttp->datasets) (1.9.2)\n",
      "Requirement already satisfied: frozenlist>=1.1.1 in /usr/local/lib/python3.10/dist-packages (from aiohttp->datasets) (1.4.0)\n",
      "Requirement already satisfied: aiosignal>=1.1.2 in /usr/local/lib/python3.10/dist-packages (from aiohttp->datasets) (1.3.1)\n",
      "Requirement already satisfied: filelock in /usr/local/lib/python3.10/dist-packages (from huggingface-hub>=0.18.0->datasets) (3.13.1)\n",
      "Requirement already satisfied: typing-extensions>=3.7.4.3 in /usr/local/lib/python3.10/dist-packages (from huggingface-hub>=0.18.0->datasets) (4.5.0)\n",
      "Requirement already satisfied: idna<4,>=2.5 in /usr/local/lib/python3.10/dist-packages (from requests>=2.19.0->datasets) (3.4)\n",
      "Requirement already satisfied: urllib3<3,>=1.21.1 in /usr/local/lib/python3.10/dist-packages (from requests>=2.19.0->datasets) (2.0.7)\n",
      "Requirement already satisfied: certifi>=2017.4.17 in /usr/local/lib/python3.10/dist-packages (from requests>=2.19.0->datasets) (2023.7.22)\n",
      "Requirement already satisfied: python-dateutil>=2.8.1 in /usr/local/lib/python3.10/dist-packages (from pandas->datasets) (2.8.2)\n",
      "Requirement already satisfied: pytz>=2020.1 in /usr/local/lib/python3.10/dist-packages (from pandas->datasets) (2023.3.post1)\n",
      "Requirement already satisfied: six>=1.5 in /usr/local/lib/python3.10/dist-packages (from python-dateutil>=2.8.1->pandas->datasets) (1.16.0)\n",
      "Installing collected packages: pyarrow-hotfix, dill, multiprocess, datasets\n",
      "Successfully installed datasets-2.15.0 dill-0.3.7 multiprocess-0.70.15 pyarrow-hotfix-0.6\n"
     ]
    }
   ],
   "source": [
    "!pip install datasets"
   ]
  },
  {
   "cell_type": "code",
   "execution_count": null,
   "metadata": {
    "colab": {
     "base_uri": "https://localhost:8080/",
     "height": 130,
     "referenced_widgets": [
      "35b06b6232e046909fde249dde7cfa93",
      "99d370cd071442b089ddb5072086128c",
      "d1ce187236f64237a2e1ab15e8b80984",
      "849dab94734a4ccf95a3de8517f073df",
      "b1ee350c9d4b4998b4c799d707358bb5",
      "c281aedb38c74f00a422e1a23b3f219f",
      "4e727750682a44a9a135a25f618f027f",
      "5f6ec79f7bf747fea1f2756a11a61782",
      "93896d2b5f0241c29236dcd2c063f698",
      "e31a05f46e944657ba96f4d138cacac9",
      "efcd8b13a05a484fbfc32ae4703e0b92",
      "efdaa6f89f7745519bdc8b38e7957e7d",
      "53fcfdb516694d1db66611bc840071d2",
      "5730c9c9cd134275beb46f02e940ab30",
      "9b42fe1a2986485b9a03712d92e03d7f",
      "e60311f989ad4e1f85708fee5ab8aa45",
      "d6639986c8b04550862934ed40632a85",
      "e41d243e0455411ba61bb8a1a61f8b14",
      "72b2652a82ad42aa8fc0eff6f0e83b79",
      "acc372d1cac34a309b53aca29bc65630",
      "a05387103f994725a9bfa4101d403a4b",
      "6bf3a4747fd240c7a804bea950b35493",
      "2c17a86c66544650aa925dbd03629eb1",
      "1718663f2aa04719928deb9ee708b4ad",
      "799ec732a2684e148d26a4d8e923df79",
      "8fc185b60880477c99eb654ccd8a01e4",
      "fac316fd67544b84aaee179d7255311c",
      "c240009522fe4802afa401bf5e28debb",
      "c3192ce27eef4b27a0d988d124a8500d",
      "be94f57d8d5844a59a78e8153c1411b0",
      "d2a9144e44a2419dbc2e4a0a691e0ffc",
      "2e367626a22a4add9fd6b4ed93e53f52",
      "34e0644aa04e492480bd43e7c846bdbe"
     ]
    },
    "id": "SGAUL4kmLotA",
    "outputId": "5f85c12c-1efe-4910-ed62-50f1cad5c4e0"
   },
   "outputs": [
    {
     "data": {
      "application/vnd.jupyter.widget-view+json": {
       "model_id": "35b06b6232e046909fde249dde7cfa93",
       "version_major": 2,
       "version_minor": 0
      },
      "text/plain": [
       "Downloading builder script:   0%|          | 0.00/9.12k [00:00<?, ?B/s]"
      ]
     },
     "metadata": {},
     "output_type": "display_data"
    },
    {
     "data": {
      "application/vnd.jupyter.widget-view+json": {
       "model_id": "efdaa6f89f7745519bdc8b38e7957e7d",
       "version_major": 2,
       "version_minor": 0
      },
      "text/plain": [
       "Downloading metadata:   0%|          | 0.00/17.7k [00:00<?, ?B/s]"
      ]
     },
     "metadata": {},
     "output_type": "display_data"
    },
    {
     "data": {
      "application/vnd.jupyter.widget-view+json": {
       "model_id": "2c17a86c66544650aa925dbd03629eb1",
       "version_major": 2,
       "version_minor": 0
      },
      "text/plain": [
       "Downloading readme:   0%|          | 0.00/21.6k [00:00<?, ?B/s]"
      ]
     },
     "metadata": {},
     "output_type": "display_data"
    },
    {
     "data": {
      "text/plain": [
       "['books', 'electronics', 'grocery', 'movies', 'restaurants', 'tripadvisor']"
      ]
     },
     "execution_count": 3,
     "metadata": {},
     "output_type": "execute_result"
    }
   ],
   "source": [
    "from datasets import get_dataset_config_names\n",
    "domains = get_dataset_config_names(\"subjqa\")\n",
    "domains"
   ]
  },
  {
   "cell_type": "code",
   "execution_count": null,
   "metadata": {
    "id": "DKHKUz5VLxae"
   },
   "outputs": [],
   "source": [
    "from datasets import load_dataset\n",
    "subjqa=load_dataset('subjqa',name='electronics')"
   ]
  },
  {
   "cell_type": "code",
   "execution_count": null,
   "metadata": {
    "colab": {
     "base_uri": "https://localhost:8080/"
    },
    "id": "Di44SX4PMGnE",
    "outputId": "36c56134-8370-497a-de92-10e5ad28f511"
   },
   "outputs": [
    {
     "data": {
      "text/plain": [
       "{'text': ['Bass is weak as expected',\n",
       "  'Bass is weak as expected, even with EQ adjusted up'],\n",
       " 'answer_start': [1302, 1302],\n",
       " 'answer_subj_level': [1, 1],\n",
       " 'ans_subj_score': [0.5083333253860474, 0.5083333253860474],\n",
       " 'is_ans_subjective': [True, True]}"
      ]
     },
     "execution_count": 6,
     "metadata": {},
     "output_type": "execute_result"
    }
   ],
   "source": [
    "subjqa['train']['answers'][1]"
   ]
  },
  {
   "cell_type": "code",
   "execution_count": null,
   "metadata": {
    "colab": {
     "base_uri": "https://localhost:8080/"
    },
    "id": "XBnUIo23Mg35",
    "outputId": "c1d715aa-847c-4cd6-b379-3e1a9fd1ee27"
   },
   "outputs": [
    {
     "data": {
      "text/plain": [
       "DatasetDict({\n",
       "    train: Dataset({\n",
       "        features: ['domain', 'nn_mod', 'nn_asp', 'query_mod', 'query_asp', 'q_reviews_id', 'question_subj_level', 'ques_subj_score', 'is_ques_subjective', 'review_id', 'id', 'title', 'context', 'question', 'answers'],\n",
       "        num_rows: 1295\n",
       "    })\n",
       "    test: Dataset({\n",
       "        features: ['domain', 'nn_mod', 'nn_asp', 'query_mod', 'query_asp', 'q_reviews_id', 'question_subj_level', 'ques_subj_score', 'is_ques_subjective', 'review_id', 'id', 'title', 'context', 'question', 'answers'],\n",
       "        num_rows: 358\n",
       "    })\n",
       "    validation: Dataset({\n",
       "        features: ['domain', 'nn_mod', 'nn_asp', 'query_mod', 'query_asp', 'q_reviews_id', 'question_subj_level', 'ques_subj_score', 'is_ques_subjective', 'review_id', 'id', 'title', 'context', 'question', 'answers'],\n",
       "        num_rows: 255\n",
       "    })\n",
       "})"
      ]
     },
     "execution_count": 14,
     "metadata": {},
     "output_type": "execute_result"
    }
   ],
   "source": [
    "subjqa"
   ]
  },
  {
   "cell_type": "code",
   "execution_count": null,
   "metadata": {
    "id": "E4OScTo8MTRv"
   },
   "outputs": [],
   "source": [
    "import pandas as pd\n",
    "dfs={split:dset.to_pandas() for split,dset in subjqa.flatten().items()}"
   ]
  },
  {
   "cell_type": "code",
   "execution_count": null,
   "metadata": {
    "id": "ka9UMjf4M3k4"
   },
   "outputs": [],
   "source": []
  },
  {
   "cell_type": "code",
   "execution_count": null,
   "metadata": {
    "colab": {
     "base_uri": "https://localhost:8080/"
    },
    "id": "os4lvHwvNBY6",
    "outputId": "3cd49425-1ca2-4c0a-ff66-94735cbed995"
   },
   "outputs": [
    {
     "name": "stdout",
     "output_type": "stream",
     "text": [
      "Number of questions in train: 1295\n",
      "Number of questions in test: 358\n",
      "Number of questions in validation: 255\n"
     ]
    }
   ],
   "source": [
    "for split,df in dfs.items():\n",
    "  print(f\"Number of questions in {split}: {df['id'].nunique()}\")\n"
   ]
  },
  {
   "cell_type": "code",
   "execution_count": null,
   "metadata": {
    "colab": {
     "base_uri": "https://localhost:8080/",
     "height": 112
    },
    "id": "W46K-lRlNXE6",
    "outputId": "7d0343f2-02ae-4fce-d1b7-e5c4785d8a9d"
   },
   "outputs": [
    {
     "data": {
      "text/html": [
       "\n",
       "  <div id=\"df-3f50b398-2f5a-4907-8b4b-62299dd7b5e9\" class=\"colab-df-container\">\n",
       "    <div>\n",
       "<style scoped>\n",
       "    .dataframe tbody tr th:only-of-type {\n",
       "        vertical-align: middle;\n",
       "    }\n",
       "\n",
       "    .dataframe tbody tr th {\n",
       "        vertical-align: top;\n",
       "    }\n",
       "\n",
       "    .dataframe thead th {\n",
       "        text-align: right;\n",
       "    }\n",
       "</style>\n",
       "<table border=\"1\" class=\"dataframe\">\n",
       "  <thead>\n",
       "    <tr style=\"text-align: right;\">\n",
       "      <th></th>\n",
       "      <th>title</th>\n",
       "      <th>question</th>\n",
       "      <th>answers.text</th>\n",
       "      <th>answers.answer_start</th>\n",
       "      <th>context</th>\n",
       "    </tr>\n",
       "  </thead>\n",
       "  <tbody>\n",
       "    <tr>\n",
       "      <th>791</th>\n",
       "      <td>B005DKZTMG</td>\n",
       "      <td>Does the keyboard lightweight?</td>\n",
       "      <td>[this keyboard is compact]</td>\n",
       "      <td>[215]</td>\n",
       "      <td>I really like this keyboard.  I give it 4 star...</td>\n",
       "    </tr>\n",
       "    <tr>\n",
       "      <th>1159</th>\n",
       "      <td>B00AAIPT76</td>\n",
       "      <td>How is the battery?</td>\n",
       "      <td>[]</td>\n",
       "      <td>[]</td>\n",
       "      <td>I bought this after the first spare gopro batt...</td>\n",
       "    </tr>\n",
       "  </tbody>\n",
       "</table>\n",
       "</div>\n",
       "    <div class=\"colab-df-buttons\">\n",
       "\n",
       "  <div class=\"colab-df-container\">\n",
       "    <button class=\"colab-df-convert\" onclick=\"convertToInteractive('df-3f50b398-2f5a-4907-8b4b-62299dd7b5e9')\"\n",
       "            title=\"Convert this dataframe to an interactive table.\"\n",
       "            style=\"display:none;\">\n",
       "\n",
       "  <svg xmlns=\"http://www.w3.org/2000/svg\" height=\"24px\" viewBox=\"0 -960 960 960\">\n",
       "    <path d=\"M120-120v-720h720v720H120Zm60-500h600v-160H180v160Zm220 220h160v-160H400v160Zm0 220h160v-160H400v160ZM180-400h160v-160H180v160Zm440 0h160v-160H620v160ZM180-180h160v-160H180v160Zm440 0h160v-160H620v160Z\"/>\n",
       "  </svg>\n",
       "    </button>\n",
       "\n",
       "  <style>\n",
       "    .colab-df-container {\n",
       "      display:flex;\n",
       "      gap: 12px;\n",
       "    }\n",
       "\n",
       "    .colab-df-convert {\n",
       "      background-color: #E8F0FE;\n",
       "      border: none;\n",
       "      border-radius: 50%;\n",
       "      cursor: pointer;\n",
       "      display: none;\n",
       "      fill: #1967D2;\n",
       "      height: 32px;\n",
       "      padding: 0 0 0 0;\n",
       "      width: 32px;\n",
       "    }\n",
       "\n",
       "    .colab-df-convert:hover {\n",
       "      background-color: #E2EBFA;\n",
       "      box-shadow: 0px 1px 2px rgba(60, 64, 67, 0.3), 0px 1px 3px 1px rgba(60, 64, 67, 0.15);\n",
       "      fill: #174EA6;\n",
       "    }\n",
       "\n",
       "    .colab-df-buttons div {\n",
       "      margin-bottom: 4px;\n",
       "    }\n",
       "\n",
       "    [theme=dark] .colab-df-convert {\n",
       "      background-color: #3B4455;\n",
       "      fill: #D2E3FC;\n",
       "    }\n",
       "\n",
       "    [theme=dark] .colab-df-convert:hover {\n",
       "      background-color: #434B5C;\n",
       "      box-shadow: 0px 1px 3px 1px rgba(0, 0, 0, 0.15);\n",
       "      filter: drop-shadow(0px 1px 2px rgba(0, 0, 0, 0.3));\n",
       "      fill: #FFFFFF;\n",
       "    }\n",
       "  </style>\n",
       "\n",
       "    <script>\n",
       "      const buttonEl =\n",
       "        document.querySelector('#df-3f50b398-2f5a-4907-8b4b-62299dd7b5e9 button.colab-df-convert');\n",
       "      buttonEl.style.display =\n",
       "        google.colab.kernel.accessAllowed ? 'block' : 'none';\n",
       "\n",
       "      async function convertToInteractive(key) {\n",
       "        const element = document.querySelector('#df-3f50b398-2f5a-4907-8b4b-62299dd7b5e9');\n",
       "        const dataTable =\n",
       "          await google.colab.kernel.invokeFunction('convertToInteractive',\n",
       "                                                    [key], {});\n",
       "        if (!dataTable) return;\n",
       "\n",
       "        const docLinkHtml = 'Like what you see? Visit the ' +\n",
       "          '<a target=\"_blank\" href=https://colab.research.google.com/notebooks/data_table.ipynb>data table notebook</a>'\n",
       "          + ' to learn more about interactive tables.';\n",
       "        element.innerHTML = '';\n",
       "        dataTable['output_type'] = 'display_data';\n",
       "        await google.colab.output.renderOutput(dataTable, element);\n",
       "        const docLink = document.createElement('div');\n",
       "        docLink.innerHTML = docLinkHtml;\n",
       "        element.appendChild(docLink);\n",
       "      }\n",
       "    </script>\n",
       "  </div>\n",
       "\n",
       "\n",
       "<div id=\"df-831e5324-a88a-49fa-81e4-b6419cbf51f0\">\n",
       "  <button class=\"colab-df-quickchart\" onclick=\"quickchart('df-831e5324-a88a-49fa-81e4-b6419cbf51f0')\"\n",
       "            title=\"Suggest charts\"\n",
       "            style=\"display:none;\">\n",
       "\n",
       "<svg xmlns=\"http://www.w3.org/2000/svg\" height=\"24px\"viewBox=\"0 0 24 24\"\n",
       "     width=\"24px\">\n",
       "    <g>\n",
       "        <path d=\"M19 3H5c-1.1 0-2 .9-2 2v14c0 1.1.9 2 2 2h14c1.1 0 2-.9 2-2V5c0-1.1-.9-2-2-2zM9 17H7v-7h2v7zm4 0h-2V7h2v10zm4 0h-2v-4h2v4z\"/>\n",
       "    </g>\n",
       "</svg>\n",
       "  </button>\n",
       "\n",
       "<style>\n",
       "  .colab-df-quickchart {\n",
       "      --bg-color: #E8F0FE;\n",
       "      --fill-color: #1967D2;\n",
       "      --hover-bg-color: #E2EBFA;\n",
       "      --hover-fill-color: #174EA6;\n",
       "      --disabled-fill-color: #AAA;\n",
       "      --disabled-bg-color: #DDD;\n",
       "  }\n",
       "\n",
       "  [theme=dark] .colab-df-quickchart {\n",
       "      --bg-color: #3B4455;\n",
       "      --fill-color: #D2E3FC;\n",
       "      --hover-bg-color: #434B5C;\n",
       "      --hover-fill-color: #FFFFFF;\n",
       "      --disabled-bg-color: #3B4455;\n",
       "      --disabled-fill-color: #666;\n",
       "  }\n",
       "\n",
       "  .colab-df-quickchart {\n",
       "    background-color: var(--bg-color);\n",
       "    border: none;\n",
       "    border-radius: 50%;\n",
       "    cursor: pointer;\n",
       "    display: none;\n",
       "    fill: var(--fill-color);\n",
       "    height: 32px;\n",
       "    padding: 0;\n",
       "    width: 32px;\n",
       "  }\n",
       "\n",
       "  .colab-df-quickchart:hover {\n",
       "    background-color: var(--hover-bg-color);\n",
       "    box-shadow: 0 1px 2px rgba(60, 64, 67, 0.3), 0 1px 3px 1px rgba(60, 64, 67, 0.15);\n",
       "    fill: var(--button-hover-fill-color);\n",
       "  }\n",
       "\n",
       "  .colab-df-quickchart-complete:disabled,\n",
       "  .colab-df-quickchart-complete:disabled:hover {\n",
       "    background-color: var(--disabled-bg-color);\n",
       "    fill: var(--disabled-fill-color);\n",
       "    box-shadow: none;\n",
       "  }\n",
       "\n",
       "  .colab-df-spinner {\n",
       "    border: 2px solid var(--fill-color);\n",
       "    border-color: transparent;\n",
       "    border-bottom-color: var(--fill-color);\n",
       "    animation:\n",
       "      spin 1s steps(1) infinite;\n",
       "  }\n",
       "\n",
       "  @keyframes spin {\n",
       "    0% {\n",
       "      border-color: transparent;\n",
       "      border-bottom-color: var(--fill-color);\n",
       "      border-left-color: var(--fill-color);\n",
       "    }\n",
       "    20% {\n",
       "      border-color: transparent;\n",
       "      border-left-color: var(--fill-color);\n",
       "      border-top-color: var(--fill-color);\n",
       "    }\n",
       "    30% {\n",
       "      border-color: transparent;\n",
       "      border-left-color: var(--fill-color);\n",
       "      border-top-color: var(--fill-color);\n",
       "      border-right-color: var(--fill-color);\n",
       "    }\n",
       "    40% {\n",
       "      border-color: transparent;\n",
       "      border-right-color: var(--fill-color);\n",
       "      border-top-color: var(--fill-color);\n",
       "    }\n",
       "    60% {\n",
       "      border-color: transparent;\n",
       "      border-right-color: var(--fill-color);\n",
       "    }\n",
       "    80% {\n",
       "      border-color: transparent;\n",
       "      border-right-color: var(--fill-color);\n",
       "      border-bottom-color: var(--fill-color);\n",
       "    }\n",
       "    90% {\n",
       "      border-color: transparent;\n",
       "      border-bottom-color: var(--fill-color);\n",
       "    }\n",
       "  }\n",
       "</style>\n",
       "\n",
       "  <script>\n",
       "    async function quickchart(key) {\n",
       "      const quickchartButtonEl =\n",
       "        document.querySelector('#' + key + ' button');\n",
       "      quickchartButtonEl.disabled = true;  // To prevent multiple clicks.\n",
       "      quickchartButtonEl.classList.add('colab-df-spinner');\n",
       "      try {\n",
       "        const charts = await google.colab.kernel.invokeFunction(\n",
       "            'suggestCharts', [key], {});\n",
       "      } catch (error) {\n",
       "        console.error('Error during call to suggestCharts:', error);\n",
       "      }\n",
       "      quickchartButtonEl.classList.remove('colab-df-spinner');\n",
       "      quickchartButtonEl.classList.add('colab-df-quickchart-complete');\n",
       "    }\n",
       "    (() => {\n",
       "      let quickchartButtonEl =\n",
       "        document.querySelector('#df-831e5324-a88a-49fa-81e4-b6419cbf51f0 button');\n",
       "      quickchartButtonEl.style.display =\n",
       "        google.colab.kernel.accessAllowed ? 'block' : 'none';\n",
       "    })();\n",
       "  </script>\n",
       "</div>\n",
       "    </div>\n",
       "  </div>\n"
      ],
      "text/plain": [
       "           title                        question                answers.text  \\\n",
       "791   B005DKZTMG  Does the keyboard lightweight?  [this keyboard is compact]   \n",
       "1159  B00AAIPT76             How is the battery?                          []   \n",
       "\n",
       "     answers.answer_start                                            context  \n",
       "791                 [215]  I really like this keyboard.  I give it 4 star...  \n",
       "1159                   []  I bought this after the first spare gopro batt...  "
      ]
     },
     "execution_count": 16,
     "metadata": {},
     "output_type": "execute_result"
    }
   ],
   "source": [
    "qa_cols=['title','question','answers.text','answers.answer_start','context']\n",
    "sample_df=dfs['train'][qa_cols].sample(2,random_state=7)\n",
    "sample_df"
   ]
  },
  {
   "cell_type": "code",
   "execution_count": null,
   "metadata": {
    "colab": {
     "base_uri": "https://localhost:8080/",
     "height": 35
    },
    "id": "buAVZwwdNxrS",
    "outputId": "2137525b-e950-48e0-f13a-cf25fb9fb521"
   },
   "outputs": [
    {
     "data": {
      "application/vnd.google.colaboratory.intrinsic+json": {
       "type": "string"
      },
      "text/plain": [
       "'this keyboard is compact'"
      ]
     },
     "execution_count": 20,
     "metadata": {},
     "output_type": "execute_result"
    }
   ],
   "source": [
    "start_idx=sample_df['answers.answer_start'].iloc[0][0]\n",
    "end_idx=start_idx+len(sample_df['answers.text'].iloc[0][0])\n",
    "sample_df['context'].iloc[0][start_idx:end_idx]"
   ]
  },
  {
   "cell_type": "code",
   "execution_count": null,
   "metadata": {
    "colab": {
     "base_uri": "https://localhost:8080/",
     "height": 452
    },
    "id": "g1fQ4DmiOxrw",
    "outputId": "8517e142-8f47-44fd-b713-7f7cce477078"
   },
   "outputs": [
    {
     "data": {
      "image/png": "[encoded data removed]",
      "text/plain": [
       "<Figure size 640x480 with 1 Axes>"
      ]
     },
     "metadata": {},
     "output_type": "display_data"
    }
   ],
   "source": [
    "import matplotlib.pyplot as plt\n",
    "counts={}\n",
    "question_types=[\"What\",\"How\",'Is','Does','Do','Was','Where','Why']\n",
    "for q in question_types:\n",
    "  counts[q]=dfs['train']['question'].str.startswith(q).value_counts()[True]\n",
    "\n",
    "pd.Series(counts).sort_values().plot.barh()\n",
    "plt.title('frequency of Question types')\n",
    "plt.show()"
   ]
  },
  {
   "cell_type": "code",
   "execution_count": null,
   "metadata": {
    "colab": {
     "base_uri": "https://localhost:8080/"
    },
    "id": "JBgqr8lhQSqf",
    "outputId": "a617d08f-7f2f-4108-e519-c06a9bebc76a"
   },
   "outputs": [
    {
     "name": "stdout",
     "output_type": "stream",
     "text": [
      "How is the camera?\n",
      "How do you like the control?\n",
      "How fast is the charger?\n",
      "What is direction?\n",
      "What is the quality of the construction of the bag?\n",
      "What is your impression of the product?\n",
      "Is this how zoom works?\n",
      "Is sound clear?\n",
      "Is it a wireless keyboard?\n"
     ]
    }
   ],
   "source": [
    "for question_type in [\"How\",\"What\",\"Is\"]:\n",
    "  for question in (dfs['train'][dfs['train'].question.str.startswith(question_type)].sample(n=3,random_state=42)['question']):\n",
    "    print(question)"
   ]
  },
  {
   "cell_type": "code",
   "execution_count": null,
   "metadata": {
    "colab": {
     "base_uri": "https://localhost:8080/",
     "height": 145,
     "referenced_widgets": [
      "fb0f7f15093140e19f66ec6cecfe6fe1",
      "98e1e34d5ab749c39d879f90f3ce5b94",
      "f77fc12937f0480499c60250179ee609",
      "25e6a5cbf687441ba653777c9d28afcb",
      "1b1be2c63fdc4d83bf0b3e9263aaf6e4",
      "43c4844d4a1a465683a78522ef374c0c",
      "42349ad589ed4b159b524b24af2cfe26",
      "c8516e1ae59447b385a4ca37095238ac",
      "26ee3516ca1c4cbe98c2406d9414b4f1",
      "37890231551f4e5a91a8a75939946834",
      "4109e7c418b84a0bbfd4de720dc0a416",
      "eb0f1d4480b34a74b1fbe482d193cfda",
      "9227b330e5234e28820e729d4202cbfb",
      "4ff0de6e6dca49879636112d720f3d36",
      "258e68d7dfce40f38f5df35d658b56db",
      "b0c752a7672842ff91603e91723d5dcd",
      "725e98ee9bad421385fd2190a9740851",
      "4feb166232a14f5693a2c13116e92c99",
      "e8e270c28f854abaa7833c3063783069",
      "369e62257f3747849747630edc250856",
      "f4ed500559cf4f9fb48c68238fccbedf",
      "e5fc28af58654d36814a0d2dfcef738e",
      "656bfdeb843c4b41ae8662430dc73961",
      "fa1804c53f32414ba898b7321310147f",
      "34517eadf828497e845cfc4afb510ee8",
      "12eabae2be804fb0a65db1a3f606f329",
      "4c6890c034ab4f61b5a24c87f1754202",
      "f9d57d9155a34182823a98f53a6bbb75",
      "23ec1b2b7fdd4749935e0e5da8422fe3",
      "2b5e04fa39144c65bdee24d35ef6da51",
      "c6de24520f8744c9bf8bb99ba152211f",
      "6ac56d0e2c4a415f80add7cfb36a0eab",
      "4b6bb840920e47e98e1f02ea1bcfb8dc",
      "18694e0c050744de9cf94cdb9cc6f751",
      "16e1dcfe20974c5cb36c547f0305b787",
      "db1fa78f0bde40cab6f5c813697a4ec1",
      "9995bf0f7d524c57929eaec98baf080b",
      "5ed3271aad874a35b514297d8e1f1ca3",
      "e4deffa26fc346668b7210a22f82e221",
      "0cc0e21f143a4216b05c7640095a30c3",
      "6e8e959d187642acbdfbe27b82f9903b",
      "05be491d613c4950a2d411aedd0549f5",
      "35ad2f53a5fc4e16841fd748fa595ab7",
      "80117b00c15b4a2783cab80a34e49873"
     ]
    },
    "id": "dk-dHyy8QiKK",
    "outputId": "bae7c3cc-1fa2-4783-e345-179ef482f3e5"
   },
   "outputs": [
    {
     "data": {
      "application/vnd.jupyter.widget-view+json": {
       "model_id": "fb0f7f15093140e19f66ec6cecfe6fe1",
       "version_major": 2,
       "version_minor": 0
      },
      "text/plain": [
       "tokenizer_config.json:   0%|          | 0.00/107 [00:00<?, ?B/s]"
      ]
     },
     "metadata": {},
     "output_type": "display_data"
    },
    {
     "data": {
      "application/vnd.jupyter.widget-view+json": {
       "model_id": "eb0f1d4480b34a74b1fbe482d193cfda",
       "version_major": 2,
       "version_minor": 0
      },
      "text/plain": [
       "config.json:   0%|          | 0.00/477 [00:00<?, ?B/s]"
      ]
     },
     "metadata": {},
     "output_type": "display_data"
    },
    {
     "data": {
      "application/vnd.jupyter.widget-view+json": {
       "model_id": "656bfdeb843c4b41ae8662430dc73961",
       "version_major": 2,
       "version_minor": 0
      },
      "text/plain": [
       "vocab.txt:   0%|          | 0.00/232k [00:00<?, ?B/s]"
      ]
     },
     "metadata": {},
     "output_type": "display_data"
    },
    {
     "data": {
      "application/vnd.jupyter.widget-view+json": {
       "model_id": "18694e0c050744de9cf94cdb9cc6f751",
       "version_major": 2,
       "version_minor": 0
      },
      "text/plain": [
       "special_tokens_map.json:   0%|          | 0.00/112 [00:00<?, ?B/s]"
      ]
     },
     "metadata": {},
     "output_type": "display_data"
    }
   ],
   "source": [
    "#Tokenizing text\n",
    "from transformers import AutoTokenizer\n",
    "mdl_chkpt='deepset/minilm-uncased-squad2'\n",
    "tokenizer=AutoTokenizer.from_pretrained(mdl_chkpt)"
   ]
  },
  {
   "cell_type": "code",
   "execution_count": null,
   "metadata": {
    "id": "QnlfmqiaQiMl"
   },
   "outputs": [],
   "source": [
    "question = \"How much music can this hold?\"\n",
    "context = \"\"\"An MP3 is about 1 MB/minute, so about 6000 hours depending on \\\n",
    "file size.\"\"\"\n",
    "inputs = tokenizer(question, context, return_tensors=\"pt\")"
   ]
  },
  {
   "cell_type": "code",
   "execution_count": null,
   "metadata": {
    "colab": {
     "base_uri": "https://localhost:8080/"
    },
    "id": "xiiMFPrMQiQl",
    "outputId": "eeb8fbbf-c841-4cd0-eddc-ac8462ca08c9"
   },
   "outputs": [
    {
     "data": {
      "text/plain": [
       "{'input_ids': tensor([[  101,  2129,  2172,  2189,  2064,  2023,  2907,  1029,   102,  2019,\n",
       "         23378,  2003,  2055,  1015, 16914,  1013,  3371,  1010,  2061,  2055,\n",
       "         25961,  2847,  5834,  2006,  5371,  2946,  1012,   102]]), 'token_type_ids': tensor([[0, 0, 0, 0, 0, 0, 0, 0, 0, 1, 1, 1, 1, 1, 1, 1, 1, 1, 1, 1, 1, 1, 1, 1,\n",
       "         1, 1, 1, 1]]), 'attention_mask': tensor([[1, 1, 1, 1, 1, 1, 1, 1, 1, 1, 1, 1, 1, 1, 1, 1, 1, 1, 1, 1, 1, 1, 1, 1,\n",
       "         1, 1, 1, 1]])}"
      ]
     },
     "execution_count": 27,
     "metadata": {},
     "output_type": "execute_result"
    }
   ],
   "source": [
    "inputs"
   ]
  },
  {
   "cell_type": "markdown",
   "metadata": {
    "id": "mvF0FUNwTNzr"
   },
   "source": [
    "![image.png](data:image/png;base64,iVBORw0KGgoAAAANSUhEUgAAAqkAAABzCAYAAAC7HJunAAAgAElEQVR4Ae2dCVgUx7r3CwQVUcHdiMYNVERcgsYYNYmCoHHFaPQYjTEucYsnxCUaiRj3JUrUmBy3mEST64aIC/FziZq4Ro9bFPVoVLwgy2E7MFzgMpP/91T37HT39DA92OOteR4euqu6qt7+19vVv6ltCNiHKcAUYAowBZgCTAGmAFOAKaAyBYjK7GHmMAWYAkwBpgBTgCnAFGAKMAXAIJU5AVOAKcAUYAowBZgCTAGmgOoUYJCquiphBjEFmAJMAaYAU4ApwBRgCjBIZT7AFGAKMAWYAkwBpgBTgCmgOgUYpKquSphBTAGmAFOAKcAUYAowBZgCDFKZDzAFmAJMAaYAU4ApwBRgCqhOAQapqqsSZhBTgCnAFGAKMAWYAkwBpgCDVOYDTAGmAFOAKcAUYAowBZgCqlOAQarqqoQZxBRgCjAFmAJMAaYAU4ApwCCV+QBTgCnAFGAKMAWYAkwBpoDqFGCQqroqYQYxBZgCTAGmAFOAKcAUYArIhtSSkhLcuXOH/T2HGjx8+FB19Zqamqo6m6T8/8GDBy5jb3JyssvYSjVPSUlxKXul/ERtca72nFWUfq6my+PHj13mGfnzzz9dxlbqb67mC2p8Fz19+rTctC0bUh89eoThw4ejf//+7O8502D06NGqq9MZM2aoziYx3x8wYADeeecdl7H3vffecxlbqebTpk1zGXsHDRqEwYMHu4y9U6dOrRBbqSZUG7FnSG3hFaWLUvf9/vvvu4y2o0aNAm0zlbp3Z+fjSu+igQMH4u2331aVtpGRkdizZ0/FQGpoaChOnjyJQ4cOsb/nRINjx45h1apVWLNmjWrq9MyZM5g7dy6OHj2qGpvEfP7w4cM4cuQIwsPDQbUUu04t4SdOnMCKFSuwdetW1dtKNaO+MGnSJFC71aKhmB2JiYn49ttvQb8E0GOx69QSfurUKXz++ec4cOCAU22lWmzbtg3jxo1zKV0SEhKcqotSfkCfDQoCx48fV729hvfNsmXLQNtOpTRwVj60/fn4449dom2nesbHx6Nv376qeXfS+m7bti12795dcZBKRWCf50eB0tJS7kXVr18/1dzUH3/8gTlz5mDLli2qsUnKkO+//x4BAQGgWqr9U1BQgMWLF3M9v2q3ldp3+vRpDm7of1f4fPHFF1yj7Aq20mkfMTEx3J+z7V29ejWCgoKcXYwi+dOhc6rLwoULFcnP2Zns378fvXr14oalnV2Wo/n/9ddfnK69e/d2NKsKSf/Pf/4TUVFR+K//+q8KKc/RQug7s1mzZo5mo1j67Oxs+Pr6MkhVTNH/gxn97//+r+og9ebNmxykbtq0ySVqxACpVEu1f/7zn/+4JKTS3iJX+LgSpNIpXAxSy3oVnaPvipBKv3So/aPT6VwKUq9cucJB6s6dO9UuLWef2iA1MzOTQapLeI6KjWSQ6njlMEh1XEOxHAw9qQxSxRQqfziDVGHtGKQK66JEKINUJVQUz4NBamgoN+dBXCIW42oKMEh1vMYYpDquoVgODFLFlHE8nEGqsIYMUoV1USKUQaoSKornwSCVQaq4d7hoDINUxyuOQarjGorlwCBVTBnHwxmkCmvIIFVYFyVCGaQqoaJ4HgxSGaSKe4eLxtgFqToN7scvwIjeYZi4N8XsjnXIv7EdUZHdENx5AKZvuoo8nSlap7mP+AUj0DtsIvamaE0RIkfy5qSWIPXkWnww8FW0CwjCq5GzsOteoUWOwuVKp9Nln8eX4/sgpG1n9Ju8EZfNb8Qid9OJLEgtScXJtR9g4KvtEBD0KiJn7YKluTpo7sdjwYjeCJu4F7xMeTgdFY7u3btb/PV4cx7O5gMlqSex9oOBeLVdAIJejcSsXfdgqYDJRsOR3DmptvIW1haANgvnNoxHaMdWCHwlEp8eeIxiQ+G6bJz/cjz6hLRF536TsfFyHszcxHCVxX95kGqjTvNvYHtUJLoFd8aA6ZtwtUydliLj0k4sGP0GXn5rOx5ZrX/TPj2A6eG9MfbbByixsK7siZw5qdLaij9LUuk0d37CJ2+9hvYBrfBSn0n45nKOTW3VB6ka/L54CF4z8/c+H53Si6xF1rkNGB/aEa0CX0HkpwfwWO9Y8u5di6cHpiO891h8+0C6FuVBqrTPQZePG9ujENktGJ0HTMemq2a+LhWnv9vSjEvYuWA03nj5LWy3dkgrtzMsnLI1J1Xz+2IMec2sLenzEU7lAdDcwU+fvIXX2geg1Ut9MOmby8jRP5h5p6MQblYfXFvU403Mow0Q/Yi+E6yM1J/KhVQpXwd0yD7/Jcb3CUHbzv0weeNli/cNX5R4fdujrT1zUkXbRMn6Fmr3QRt3G+8LYX3lQ6pIuShf+yNsDaDKOak6zQOc2PkTTj8qtNlIit1YRYVL21qKtF82ICY6Ggu+SMAj6XatokxWvBy5kKrNOImYcD+4u3vBnRC0W33PaIsuKxHjGhJ4dxmHmWND4EUa4v1j2dBBi4yTMQj3c4e7lzsIaYfV92wLKQ9Sc3B0Ug9EjP8UyxbPQJ8XCEiTD/Eb13ZKlSuRruQu1vWsBq+QadiwdTEiG7mhduROJFtBi/HG9QeyIDXnKCb1iMD4T5dh8Yw+eIEQNPnwN/DmZuBkTDj83N3h5U5A2q0GL5MG17+axe0TSvcKnTbtAwwN9ARp8hEuFgI5RyehR8R4fLpsMWb0eQGENMGHvADWJhrP5UKqeN5S2pbi0bYI1KzcDlO37Mf2mV1Q1aMTlt2iNFGCu+t6oppXCKZt2IrFkY3gVjsSO22IKw9SJepUl4XEcQ1BvLtg3MyxCPEiaPj+MWQb6ViDW/+IREPiiebhk7H0xxtWLzwNLs1uCUIIWn56DUVGJYUP5ECquLaA+LMkXd/5v83HqEkxiF37KYY0JSB1R+NwlvEmBY1VHaTqnmBzFw94vTQSkzl/n4aZG65xtpc+2oaImpXRbuoW7N8+E12qeqDTslvcFyBZ9665hNktCQhpiU+vSdeiPEiV8DnokJU4Dg2JN7qMm4mxIV4gDd/HMc7ppOL4atLc+gciGxJ4Ng/H5KU/4kaZL1WW1SkPUnV4srkLPLxewsjJtC2ZhmkzN+CaBkD+b5g/ahJiYtfi0yFNQUhdjD6cxb2/Nde/wix9XdA0HwwNhCdpgo8uFkLqnWBpoelMLqRKPSMld9ehZzUvhEzbgK2LI9HIrTYidybDopkWqW97tZUHqVJtokR9a8XafdCHXfx9YZKzzJEsSJUot7ztTxlD9AEqhNQiXJ3HN+ik7RJw7yYx6xUP16G0yMJNbZRgy1Ya34J7OZG6Y/GL/oujjUxdLloupOrSD2P29FicSorDwGrmkKpF8tae8PTsivUPSoHi21gW7AaviF1I1+mQfng2pseeQlLcQFRTFFItpc49OgZ1SB28e5JWlPxyzdNpzk6Fn1tzzLlM+yN1yNjbH96kHZYnSYO1LEi1MDcXR8fUAanzLnhz03F49nTEnkpC3MBqZpBqkQgouo7PAiqh2azfy/aY5h7FmDoEdd49yYOvVVLDqVxINVzP/bfIW0Jb7WN809kdXv3ikEUT5iZiuK87Oq5/CK3mLKb6uaH5nMuc7bqMvejvTdBueZJk76Q8SLWwFuZ1qk3eip6enui6/gFKUYzby4Lh5hWBXekU4HTIPj4Jjd3qY/iOh4J2aJ98j76NAtCtoYdikGphrYW2Us+SRSrAIp1lXE7iSNQidfXPgmWc+ZnqIFVzAX9vUgVdt6VYdXBo8fibznD36oc43rGQONwX7h3X46HVwIzwvWvx5Pu+aBTQDQ09lIJUcyVpdZi1P9pkbO3pCc+u68E3icsQ7OaFiF3p0EnFUY/MPo5Jjd1Qf/gOPJRudowGyINUDS78vQmqdN2GFKnvLjmJGFmLoK5gO1KE658FoFKzWfi9EBB/JxhNK3MgF1ItElr4ugZnp/rBrfkc8M10Bvb29wZptxymZlq4vsujrTxIlWoTJXxBJ7Pdh9X7wkIcyxNZkCparjLtj7lFKoTUUvy5KQw1CUG9yB/1Q5bmJjvhWJeDi+s/QN/gBvAbfgS5souwZSuDVEEpcw5aQWoOEgZ6g7RepP9SUoiLUS+C1HvPAuxzDjoXUkvurkI7Uhnh+7MtzLZVrildBh6sbQ9SpS8MWWgffYVOxBO9dmda5Gl9Yj+kluDuqnYglcONZfF55uCgBKQWXp6D5pVaYN5VgZ6gkrtY1Y6gcvh+WCpgaW25IFUk7zLaah/j6xA3VA7bjQxabO5RjKzlgS7/eIziB2vRnlRBX5O4+KoTgWev3ZBStzyQaqrTbOQkDIQ3aY1F+m/MhRej8CKph/fot86Se1gT4olawxOQKfji1uDizFbwe2sd5rX1dA6kWmgr71niatQinWUdF/w6CS+QF/HxJenJH6qD1Ky9CKv+AiacKbC8IWjx+OsQuFUOw27esXB0ZC14dPkHHltBquC9ay5iZis/vLVuHtp6OgdSzX0OOQkY6E3QehHf04vCi4h6kaDee78gXyoOJbi3JgSetYYjQdghrXThT+VBahb2hlXHCxPOwFpdi0wLfsWkFwhe/PhS2S/ChZcxp3kltJh31XJEocw7wSJHi5NyQaq5r5c+wNr2BFX6Gto5LR591QnEsxeMzbRgfZdPW3mQarrFMm2iZH0b0km3+9wolOD7wpDe9F8WpBovty5XmfbHmD1UOtxPeycKs3NN89DMLXbGcck9rG5Hh3EIakTaA6nUGClbGaQKVpd1g1RyByuCCKpEGBoNHdK+6wpCXsH2p6Y3f5mHVzBzPlDecL9lBgW/TkRD4ofp5+j4leljq1xTuhzcWd7WAlKRtQe9PAg6xNJeOPGP/ZBagF8nNgTxmw5Lc60bDfMy+Z4Q94DPcF2AUVHwKyY2JPCbfg6WCpjnAZQLUkXyLqttCe5/1RNV3Vvjw8MPcePLXqjp2x/fJ5ei5M5ytDWHVGRhTy8PkA6xXG+TpZWms/JAqkWdrggCqRJh/DKgS/sOXQnBK9ufoihpOYI8GmHi4Us4si0W63acwmMzrtMmf4fwum3w6fmLiPZ3Uk+qubYynyVOHfN0JrlQmvkrFr3qjSpdluGmkJ+YXas2SC2+tRhtKjXA0MXbcejyU4t3SMn9r9Czqjtaf3gYD298iV41fdH/e8shXuF71yL5u3DUbfMpzl+Mhr+TelJNPqdByZ0VCCJVEGH4QqZLw3ddCcgr2/H4tnjc06IkLA/yQKOJh3HpyDbErtuBU+YOaVZ35oeyILX4Fha3qYQGQxdj+6HLeGqcKG6WU2kmfl30KryrdMEyAefRXPg7mrgH4DPrBsj6nWCWpfVhuSDV3NdL7mB5W3NIBbL29IIH6YBY2m0NkfouKZ+2jkKqlC+YXo9S7T5VUOx9Ya0uuB/Akb+Zv1W5CrQ/1hapsCe1CDdWhCPQ3x9twpbgWmEBzs/tiVb+gQhfFIdvJvRAy9o10CB4GGK5RRMFODvzVS4+LPp7LI1shwa+fgh5+wtc4ubhFODs7O5o5e+Ptv3XIam4FA+3RaKdvz9adfsIv/77Lr4aEABfwkMq8WyA5v4dMe5nOf2p1rZSeYvxcPd0vNa8FnxbvIG/9a1vOdxPJ5hHhaFN/WqoXL0hOo7bgxQperGuMRWeyx3uN5pu3SAVXsLMpgS+I4+BzsGnn+y4MHiSYHxxzyROWaDRXyzwz35IzceZyY1AXpiEM1bTMqTLtUyX+/MI+BI/TPuN72vQ/D4XLQlByDfJsOqwsbDabkjNP4PJjQhemHTGamjeqtEwL6XgV0xuVAmtP79p8fI2XJJ/ZjIakRcwyVoAwwX6/+WBVLG8BbUteYQfRzXknxv3lph+LJPXLvdnjPAl8Jv2G9+To/kdc+kcwZBvkCwhrv2Qal6nhbg0symI70gcMzknwjwJgr+4h9RdoahMaqFtQEt07NEZfm4EPhFf6+cDF+DCxy1RO+IHPNFcdxqkWmgr81miVWmRjqvbIvyx6g3UpW1hg+HYIWMSvdogtfDaKowI7YmQFjVBiDv8R27BHSNol+DRj6PQkGvr3dFy+jFkGv1G4t4LLuDjlrUR8cMTaK47C1LNfQ4ovDQTTYkvRpqcDnFhniDBX+D6OfG4e6m7EFqZoFbbALTs2AOd/dxAfCLwtY15/LIgtfAaVo0IRc+QFtxIp7v/SGwxiYuiP1bhjbr0PdoAw3c8Epj6UoBfJzdCpdaf46Y14Fq/E6zaHPPT8kCqpa/n4ucRviB+08A30xr8PpdOMQzBN7QhEavvjPJp6yikSvmC6fUo0e7zD7vI+8JcWf7YoZ5Uh9qfsrbQEBVCqgYXZjTmX1CNpuBsQT5OjavHnxtA0vA/eDlul+Th+Du1BeMbvJuIbF0ufh7uw8e3mIerRSV8bxfNo3okDqffwqoedeFhyJNUhY9vEwxNyBFWzCLU2lag8PKnaG3MSw++9Jybk1qAC7MC9La6o5onQa3hiXZML7AoXDUnDkOq5gJmNCaoM+aEEbhy4vuhKgnCyrumSVWCQCOigr2Qqk3ZgQhvNwQtvGE5DEXnn0tMMyiTrvAaFnbyAKnbE2M+GIme/g3gQaogPE5qAB2wD1K1SNkRAW+3ICy8YXwD65UQb6zyf3kfDSq1xdLb1m8I2nmQgh0R3nALWogyWVppbDekSuQtpG3hzS/Rp05NhIwZjx4+BFW7fo6L+bRHvRDXFnaCB6mLnmM+wMie/mjgQVAlPE5yeoK9kGpZp/pnvM4YnDB8ecmJR7+qBEErb+LGirYgdJFfYia3yC9tzxDUJI0w+bcCaJO/RZhvM8w4V8DNBXZKT6q1tjKfJeH61iHvzgn8tG4mIvzc4Nl+Dn7NNY1kWLkBd6o2SDXaqCvAza/6oDqpjF7b9L+iVHgTX/apg5ohYzC+hw9I1a74/GK+fu6q2L1rkfxtGHybzQBfjc6BVEufAzQXZqAxqYMxJqdDfL+qIEErcfVX8bibN1agLaEL+xK56SfatD0YUpOg0WT9FzujQJYHsiDVmESHgptfoU91gsq9thm/IOry7uDET+swM8IPbp7tMefXXMt5wfm/4P0GldB26e2yX5KdCanWzwhtSa4tRCcPgro9x+CDkT3h38ADpEo44rLF65v2aJZHW0chVcoXTK9H8Xaf9gyLvy+MlWo8cAhSHWp/jCZYHLgApPKTnOlQPCF+mBB3DYemNuFBz607dqQX4MyEBnrwa4WZR85jy2Bf/tx7IOKzbEAq7TAt93C/NaQW4PR4vS3VeiP2zDF8FqwHVQqpmVfwSXP+PGTjI2i1BcjKNUGYRc240InDkFp0AwsCCLwHHYThq0HGj93hRkKw6YnpJSkENGIy2QWpukwcHtsQpNEEHDct2TZmLVquSDpt9iVsj5mOybPXYM++j9Dcsw2WCIGhsQT7IFWXeRhjGxI0mnDcbIW5ITOxxioXR0fXQaX2K3GnjMvpkHl4LBqSRphwnO6oIP2xD1Kl8y6jbfFtLO/oCd/IXUjVApoby9HZww3BS/Vz87TZuLQ9BtMnz8aaPfvwUXNPtFki8NIzuwW7ILVMnRbhxoIAEO9BOGhyTnR3IwjZ9C9coYs8aw7FEcPAS8aP6OlO0H7tTZyNagpSZwA+W7cRG9fNR99aBLUi5mPjvptWq//NjAUgZ3U/n0JAW1nPkkA6SxNQdHMR2hEPdPv6oVWM5alqIZWaWXgZs5vx7Qod4bq9vCM8fSOxi3csLO/sAbfgpWUW51rcu+YiopoS1BnwGdZt3Ih18/uiFqmFiPkbse+moWvdUhN6Jm91vz5dGZ8Dim4sQADxxiCT0+HH7m4gIZvwr2sScVfmoSWpiaEmh8SPPd1B2q+VnBJjH6Ry4uLy7GaWz4VBhqKbWNSOwKPb13hoGghD7tHRqFOpPVaWbYBoT4DVOgVDZmX/29eTKubrWmRf2o6Y6ZMxe80e7PuoOTzbLMHtbPH6/ml3VLm0dRRSpXzB9HoUa/cB6fdFWX0dglSF2h9zq1wCUo09q3XHciuZcxL6w4uDVrodUTbOTmnEQ6l+fl7OoUjU4OLp3Jc06Z5UJSE19wFi2/MQWiV8LzJRiMtzmvO2UUjNeYB1IXpordMbnx15IjAkYl49rnHsMKTq0vBDd3eQkK/xiBt+K8HtpYEgPsOQaHj52+jRtFZKPqTqkJk4Hn5uDTHmQJrgkHwZkOIKs52O9vz9/kkLeATMh40da+T3pOoykTjeD24Nx+BAmnGs0uz2RRqr7EMY7uuBTmvvlfE5XWYixvu5oeGYAxDM0ix3emgPpNrK21rbkiQ677Q6hhhezrqn+K6bG8jLW8usKC78/RO08AjAfBviyodUoTrVIe2H7nAnIfiad06U3F6KQOKDYYn/xv01wSCeodjLrRinTnoAb1YlCFx2AQnjQtC6dWv+r1VT+NA2yacpOrz9Ax6bvbyt5JUNqYLayniWBNNZG6E5h2l+BHXH/mIdY3Guakgt/RPrOhJ4hu0D6HzCtgTVhxi+COvw9LtucCMvY6v1UnXze89JxLgQfR22bo1WTflROZ+mHfD2D48ttDA/kQ+pQj4H6NJ+QHd3gpCvH/FtUsltLA0k8BmWiGyJuH/fX4Ng4olQk0PiwJtVQQKXma1cN7eUP7YfUkvx57qOIJ5h2FdmkEiDc9P89KOHhrKycWi4Lzw6rdVPhTGE6/87CVJl+Xrh7/ikhQcC5l9DkUR9D1s9v1zaOgqpUr5gej2KtPs23xdW9QAH56Qq1f6YmeVakMoN/wM5hwbDm4NQOhxsBqmNZ+CCBtCcmwY/Lr4RppxNqThI/fdVzOP20SOo//4p5MN64ZQO2afnoIOHHlSJL/p8eavsCkizCnKFQ4chFUW4Hu0P4jMUCfRlr0vHrggveHTdZLHy1hpopLSRC6na1L0YWd8NTSYdhdiWkELlyklXfPsLdK1SHaGbH0oumqL3IW+4X4vUvSNR360JJh3l9yAsq4FQY6VDZvwQ1PTozG/xZZ5Im4q9I+vDrckkHBUTwPx6eyBVRt7W2hbROX/EC2/GG958adjRoxLcXrHa9qb4Nr7oWgXVQzdb9NZYmcqdyoVUsTrlbfLBUN45kb4rAl4eXbHpsRb5J8eiLmmKWXQ/HQClD75EB7rgZa/VfgNFCs9JFdXWxrMkms5SOV36LkRUJdwqbMsYyzM1Q6ouIw6RPgT+0df10y0IvN6MN04NSdvRA5XcXsE2K0iVunfOFxRcOCXmc3SruGh/Ap+hCdxWbJxNXh7ouukxtFJx+Scxti5BU8MWc6UP8GUHuiiVdpqIf+yGVF0G4iJ9QPyjyy7C5NrvqiDc9Dq+TF1mPIbU9EBnbhs3ATucAamyfL0Yt7/oiirVQ7HZvNtXb6JFfZdTW0chVdIXjFIKtfty3hfGDIwHDvWk2nqXy6oToyncwXMGqR/ivAbIO/4OanOQSrfaScfRkfrh/6Z0b7YSJC0L5Hs36ZzUMj2ph+2YI2o13J/Nf9vldwmg+RThylzrfVJ10CTtwKT2lY1TEuKkWg/L+lLlmeOQChT/sRTt3SsheNZ+nI+LQptK3oj4IcWiZ9MaaKTEkAWpJX9i65s1QXz6YtWB4zhx4gROnDiJc3dzpcuVTKdFfsofOL45Cm/U9YTfsO2w8eM03G3IgdSSP7fizZoEPn1X4cBxausJnDh5DndzzXtUBRorXTp2v+kNz66Ww290W5I/t76JmsQHfVcdwHHu/k/g5Lm7sMjSSmh5Pany8i5Tp3TrlxYEXq+vxQ2NFvmXl+Hlqt7orQd9bX4K/ji+GVFv1IWn3zBslyGuLEiVqtPiP7C0vTsqBc/C/vNxiGpTCd4RP/Db4+X/hg/por9BW5CUl46TUQFwqzEAu56a1wkUnpMqra34sySVrhh/HtmHU0npyEn9HVtHvwjiEYIVNjaqlgWpumwcn9YRjV+eg3P5/D6e0zo2xstzziHfKs7K1SxOV69ejaCgIIswy5MiPDgSj9/uZyLr4WnERjYE8eqFrzkfoVuBtQDxeh1rb2igzb+MZS9XhXdv+iVH/r1bQItl4RZnsnpSpXwOxfhjaXu4VwrGrP3nERfVBpW8I/AD9zNyUnH5+O1DutBvELYk5SH9ZBQC3GpgwK6nFm2ahbEA5EBq0YMjiP/tPjKzHuJ0LP3xCi/0+pr/BbXiP49g36kkpOek4veto/Ei8UDICv0UHbrn9O434e3ZFV8LgCBni+KQKuXrdA5+PlL+OI7NUW+grqcfhm0X/iU4y/oun7YOQ6qkLxhqsmy7L+99YUhv+u8YpEq9y23UickEi6PnC1KrhuK7J3m4OKsZD4BVwrEnk992h5vTWjUMO1LSED/UMGdVP89M+xAbOul7N0P4zZMtVBI9sYLUgmwkDPLmy/abijM5adgzuAZ/rl94UVpUws35K0lahkAOpNtihdAcHdEy1RehBKQC+bi8si/86K8lES8EvrezzEbUZYBGQgo5kMrvS2jo1Tb9b2C1D6B1uZLp9L0cpHpbDJ5v+tlFCVO5KNuQqt8XlfMZk610Ja3lnpBlGyvd050I8/JE982PLV9U+r0D+fneZnk2mIAy20ya3YAsSJWZt7W2dEu33EtrMKSpB//cEB90+XCv/tfa9L2EpDraDp6PA4bftDSzTehQDqRK1ildCX95Jfr60V88I/AKfA87zXZJ19xcj8FNPXl7a3bGx0eelu05V7In1aa2Is+SVLq8FPwYaZjbT0DqdMPf9/xZZhGhtb6yIFWbih19vEB8IrmREm3qDvTxIvCJTECWVZx1/ubnNiG19CE2h+vbdkJQuUUkVp3V7wxBB2hyL2HNkKbGRbI+XT7EXrqDgVb+vVtCi7l1lsdyINWWzyH/Mlb29eN+nY94BeK9nWY/FiEVp7mJ9YObwpNrK2qi88dH8FRiegm13DakluLh5nDTLjiVWyBy1Vn97ghapPwYiQbGtqkOuv19D/40rOnUPbE/62YAACAASURBVMXOMC94dt9sMTJmoZjSkCrl69w6RjpiQ1C97WDMN//ZZQuj6HdLq4Vy5dDWcUjlGiBxX+Bstm735b4vrG7Y0eF+LrtytD8SG+8+X5BKHxLvmnDTPyw+kfu4XyxK/b6X/oElIO5u+pcfAancB/yi6zwc/VstU3id1xErCxytIVWHjLhIfu4ZIXCrqQdUag+dX/nv+4jtUhuN23dFyIv6nlS/yWW2PCrrNuoOsRtSJW5HV5SF9HwbLapEekOUHEg1XKvs/2JkpzxFXpnFSdKl2IZU6fQVGSsLUh02SIv8p8nILLJcxlWcnYKndoorB1JlmasrQlZ6flkA5RKXIvdpBjRWHaiy8rW6SP7CKauEVqf2P0s6FGc/wcNUsXu0KgCALEilyUrzkVVgEqc0PwvGU6u4sqXwITYhlbtMi4L0R3iUIf6T2tr8p0jOLLJaIGj/vYvZScPlQKpUelOcDkVZ6RBuEqXigNLcp8iQ6ZC2IZW3SFuQjkePMlBo+VhykbribDx5mCpiq+mOHD2yb+GUSGnF2Uh5mldmfr7I1WWC7dHWXkgtU5gxQLq+jZc5eGBfT6p4Yfa3P8J5PV+QWi0Inf34HqHqXWbj5zQednT5v2NZL/037EpNMWjWeG7vSuLWA/+lH2ovSvoHhjUzAGxrLCyzkZuQgNaQSocR0nB4egdUo2Dq1hSDo0by82O9+uPAk/OY3aGKEYarthqK1RestukQKkblYUpCqlK3+uwgtXx3wCC1fLrJSaUYpMopTIFrlIJUBUyxmYVsSLWZk+0L5EGq7Xwq4grlILUirJXTk1oxdsgpRRFIlVOQQtcoB6kKGWQjG6Ug1UYxsqNVCKmybddfWGBa3d94Bs7na5CeJtQToEVBWipyJHu4SpCblopMmd8+pSwtzUtHllUvEH+9DkU5aUh7DraeMtw/g1SDEuX/zyC1/NrZSskg1ZZC5Y9nkCqsHYNUYV2UCGWQqoSK4nkwSA0NRXx8vLhCdsdYQipd3a/EJ3tfmH4bK7O5evppBIY5fDXo1ibsAwapjjsBg1THNRTLgUGqmDKOhzNIFdaQQaqwLkqEMkhVQkXxPBikugikFj1IwOaNG7FR4m9zwgPxmv4/FMMg1fHKZpDquIZiOTBIFVPG8XAGqcIaMkgV1kWJUAapSqgongeDVMUhtQRPjsRiQXQ0Yr48ihTH19yI1x6LEVSAQaqgLHYFMki1Sy67LmaQapdcdl3MIFVYLgapwrooEcogVQkVxfNgkKo4pIqLzWIqRgEGqY7rzCDVcQ3FcmCQKqaM4+EMUoU1ZJAqrIsSoQxSlVBRPA8GqQxSxb3DRWMYpDpecQxSHddQLAcGqWLKOB7OIFVYQwapwrooEcogVQkVxfNgkMogVdw7XDSGQarjFccg1XENxXJgkCqmjOPhDFKFNWSQKqyLEqEMUpVQUTwPBqmhoUhMTERJSQmKi4vZ33OgAa3Lzz//HMOGDVNNvd6/fx9z5szhfklF7X5GIf+nn35CQECAavST0kyj0WDx4sWYOnWq6u2lvvn7779j3LhxuH79uurbG+oLa9asQbt27bhdM6TqQQ1xaWlpiImJwfr1653qCwZd2rdv71K6bNiwwam6KOED9Bk5fPgwevXqhaysLJd4RhYuXIgBAwa4hC/cvn0bUVFROHbsmEtou337djRr1gylpaWqsJf+eIyvry92794tTtY2YoiNeGN0amoq3n77baxatQqLFi1if8+RBnQD8pUrV6qmTpcsWcKB1NKlS1Vjk5TPUzCZN2+eS9hK74PW9YoVK1zC3uXLl2PBggWcP0jVgVri1q5dC+q/arFHyg76ZYX6wbJly5xuL9PFee9M+k52pfZHbe8bqWeEvoNoJ46rPNP0OYuOjnb68yylmXXcxx9/zHVuGmHSzgPZkEqHhkJDQ7lv3QMHDgT7ez40GDlyJAct06ZNU02dzpo1C3PnzsWHH36oGpuk/J0OsdBnY8SIEaq3d8yYMaDg99FHH6neVqo5fUlMmjQJEydOVL29Q4YM4ba9o6MS9FjKZ9QQN2XKFO4FTHuKnGkP1eKrr77iRmuYLsq/N6i2VNfRo0c7tR6V8BHaRlKonjx5suptpfdL4X/mzJlQ0/tRqh7ouygsLIx71qSuq6i4UaNGoVOnThXTk2qAVGU387cTqdnliitAhwXoN8V+/fopnnd5M6RDLHS4/9tvvy1vFhWazjAnVas1/b55hRpgR2EFBQVcr+Q777xjR6pnd+mvv/7KDff/9ttvz84IO0p2pZ9FffLkCTfcT3s+nP1xpZ9FNehCe5pd4bN//35uuP/p06eqN/evv/4CHe7v3bu36m2lBl67do0b7ndkuLoib1Rtc1JzcnIqbrifQWpFulrFlcUWTjmutQFSqZZq/9A5QvTl6yqQyhZOOc+j2MIpYW3ZwilhXZQIZQunlFBRPA+1QWpmZiaDVPHqYjFyFGCQKkcl6WsYpErr40gsg1RH1JNOyyBVWB8GqcK6KBHKIFUJFcXzYJDKtqAS9w4XjWGQ6njFMUh1XEOxHBikiinjeDiDVGENGaQK66JEKINUJVQUz4NBKoNUce9w0RgGqY5XHINUxzUUy4FBqpgyjoczSBXWkEGqsC5KhDJIVUJF8TwYpDJIFfcOF42RD6k65N/YjqjIbgjuPADTN11Fns45N33z5k1u4dSmTZukC9Dl48b2KER2C0bnAdOx6WoenGSSpB1yIVWXfwPboyLRLbgzBkzfhKvOElDCWvlzUiuuviXMhWxIVYkvyFs4pQ5tVQmpOg3uxy/AiN5hmLg3Rco1nBZnD6TqNPcRv2AEeodNxN6UZ7Nw0rBwKjk52YYmOmjux2PBiN4Im7gXz8JcuyBVBb5w5coVbuHUzp07bWgLqMEX5ENqxfjCczIntQRPjsRiQXQ0Yr48ipRSm77wf+MCnQYPTuzET6cfoVCAvErTfsGGmGhEL/gCCY9Kyq2JXEjVZSViXEMC7y7jMHNsCLxIQ7x/LNspUCgPUnXIShyHhsQbXcbNxNgQL5CG7+NYtoBY5VZHXkJZkKrLQuK4hiDeXTBu5liEeBE0fP8YKtpcuZBakfUtpbI8SFWPL8iBVLVoqzZI1WacREy4H9zdveBOCNqtviflGk6LkwepWmScjEG4nzvcvdxBSDusvlf+dtiRm5EFqdoMnIwJh5+7O7zcCUi71XgW5sqFVLX4gjxIVY8vyILUCvQFdUOqrhRFsoCzAGenNAIhBKTxDFzQOPK4OphWts0OliMjedHVeWhJNSFtseRWcZkUNL4FF18XY3/JLxMvN0AepGqRvLUnPD27Yv2DUqD4NpYFu8ErYhfSncCEsiBVm4ytPT3h2XU9eJOWIdjNCxG70p0CzlJ6yoFUbfJW9PT0RNf1D1CKYtxeFgw3rwjscoaAEsbKg9SKrW8Jc+X1pKrIF2xDqnq0VRuk6tIPY/b0WJxKisPAamqHVB3SD8/G9NhTSIobiGpqh1RdOg7Pno7YU0mIG1hN9ZCqFl+QB6nq8QVZkFqBvqBKSNXlXMT6D/oiuIEfhh/JlXr/6OOePaTab7OM23LwktI/NyGsJgGpF4kfBcZlKhZSc5Aw0Buk9SLwvFyIi1EvgtR7Dw7wsahCsiA1JwEDvQlaL7oFDuELLyLqRYJ67/2C8iO7qEmSEXIgNSdhILxJayzSf+EovBiFF0k9vOcMASWslQepFVvfEubKg1QV+YJtSFWPtmqDVKMf5Bx0AUg1Woucgy4AqUZzc3DQBSDVZO6z9QV5kGq09pn7gixINZrrfF9QJaSW3FuNdlwPXw1Eugik2m+zsZadeqArzEZu2U5UrswKhdSSO1gRRFAlYj+yudJ1SPuuKwh5BdufKt+VKgdSS+6sQBCpgoj9vEXQpeG7rgTkle1wgkmS9WwbUktwZ0UQSJUImMz9Dl0JwSvbn1Zoz68sSK3g+pYSV85wv5p8wSakqkhbBqnCnidvuN+UlkGqSQtbR3KH+435POMvLAxSjTVRrgPVQWrx3a8wIMCXH7onBJ4NmsO/4zj8nAvoCm7j+6m90Lpedfi+GILImKN4yk0HsOpJzU/BrtGdEODvj/ZDN+M+neZTkoyETwfhpSa+qNEgEOGz45HMTf8pwPm5PdHKPxDhi+LwzYQeaFm7BhoED0PsZXmLaIRtfhdbvhiEIH9/+Hd4B3F0SDbrIMZ29Id/qx6Yc/wYZr7aCv6BYYj+fiki2zWAr18I3v7iksViopLkBHw66CU08a2BBoHhmB2fDLmzlopurEB4oD/824RhybVCzkGKH+7G9Neao5ZvC7zxt76obzHcr8Gdn6IQ1qY+qlWujoYdx2GPjAm+sob7Cy9hZlMC35HHkKd31ey4MHiSYHxxT9acDrscXA6kFl6aiabEFyOPGS1CXJgnSPAXcIJJkvbbhtRCXJrZFMR3JEzmxiHMkyD4i3tQXkFxc2VBagXXt7i1kNWTqiZfsAmpKtKWQaqw5zFIFdZFiVAGqUqoKJ4H60m1sbq/+NYq9KjrYYRUUtUHvk2GIiHzIbZGVDeFc3BF0HrWOeTDElLPXFqEIC6+DkYlZECnTUP8GP2cVc9aqKFPGxh9FYXIx6lx9crky81vDV6O2zKIUMzmXUc+wAtcWfUx/nQBCn+fhab03OM1fHfn/+Gd2nS+qPVfA7ybyC8m0qbFY0wjPt6zVg39tYGIvsoDp7ib8TGaCzPQmMu/EaacLQAKL+PT1tbl0XN+TmrBhVkI0NvjXs0TpNZwJMqYbSELUjUXMKMxQZ0xJ4xD6Tnx/VCVBGHlXRki27pZq3g5kMrrUwdjThgG93MQ368qSNBKOMEkKwstT21DqgYXZjQGqTMGJnPj0a8qQdDKu7K/uFiWWr4zWZBawfUtdSdyelLV5As2IVVF2jJIFfY8BqnCuigRyiBVCRXF82CQagNSqXRCQ+eFl2ejmR64Jv2SjhuL2vLQVn0w4rPMIXU81r77AhfnFboFj+ganVtL9NAahMV/aJDyfSiq0Ly4RVYanJ3qpwdAP0yIu4ZDU5vw527dsSNdvDLNY4RsRt5xjK7DQ2GHLx/g6a7e8KTltl+De7lnMKGBHhhbzcSR81sw2Jc/9x4YjywU49aSIN6OoMX4Q5OC70OrcOeNZ1yAnLVh1pBacHo8GnAaVkPv2DM49lmw/r4ppGbiyifN+fOQjXik1aIgK1cW/MiC1KIbWBBA4D3oIHL0wmX82B1uJASbnjyb4f6iGwsQQLwx6KDRIvzY3Q0kZBOcYJK5u5Q5tg2pRbixIADEexBM5v6I7m4EIZueqG+4v4Lru4ygZgFyIFVNvmATUlWkLYNUM0czO2SQaiaGwocMUhUW1Co7BqnlglQtHm7oxANU9SE4lANozk6FHwdcTfDRxQzT6n6fYLSqQmGvHT6/UQRAiydb6NxHAlJrMDYcPoHEzaPQkJ67dcfODH0PFT2vOxYn84GchP7w4vKWvyWIIKQiGwmRfA9ozbf24/TcFpwdLeZeQVHBWUzR95L6TT8HDXJwSH8tCfgM1zVPsIXOjyQEtQZvwOETidg8qiF37tZ9JzKsHEvo1BJSc/Egtj2vQ5Vw7M2kHatz0Jy7TwqpOXiwLoSPJ3XQ+7MjeCKzg1MWpOrS8EN3d5CQr/GI2wqwBLeXBoL4DJPVWyt0f1JhcnpSdWk/oLs7QcjXj8CbdBtLAwl8hiVCRgeyVPF2x9mGVB3SfugOdxKCr3kBUXJ7KQKJD4bJ6e622yLxBLJ6Uiu4vsWtlTfcryZfsAmpKtKWQaqw5zFIFdZFiVAGqUqoKJ4Hg9RyQWoRrs1vyQNUg/E4XQAU31iAVhxg1cKo4ykmSOXCKNz5Y+4VOixehGvR/nr44qHPNMT+Mr59ms8Po9J0jaaAjornHBoMby4f+UPRwpCqQ/qucFSlebX6GMt60Z7Q+nj/VD5gBql8z6gG56bpe3SpHVnXEO1vba/+/OVvZS3ssYTUf+PqPL2G9d8HNcF64ZQu+zTmdDBNtfDt8yVuyZhZIAtSUYTrtB58hiIhC4AuHbsivODRdRMeO2H/ajmQiqLrnMY+QxPAm7QLEV4e6LrpMQ+t4s+x4jG2IRUouh4Nf+KDobyASN8VAS+PrtjkDAEl7lAWpFZwfUuYK2tOqpp8wSakqkhbBqnCnscgVVgXJUIZpCqhongeDFLthdTDtE+rBHeW64f3fd/Gz3kAv/0OhTY/TDuXbgap1dHUh4e52n87gmyU4PaSNjykenXBhOgYxMTwfwtX/Ig7RWY9qUpBKmcz7wTalG/R04OAeLZCjxcIiPdAxFMiMofUD89Dgzwcf6c2b2eLebj6n9tY0oa/D68uExCttzkmZiFW/HgHtI/Y1scSUrP5nksKzDUiQU0sujK3zD6pOk0Sdkxqj8ocpHtjYFymrWIgD1KB4j+Wor17JQTP2o/zcVFoU8kbET+kOAUIZUEqivHH0vZwrxSMWfvPIy6qDSp5R+AHge26bIrg4AVyIBXFf2Bpe3dUCp6F/efjENWmErwjfqjwX32RB6kVW99S8ssZ7oeKfME2pKpHW1mQqsvG8Wkd0fjlOTiXD+iyj2Nax8Z4ec455FvFSdXj6tWrERQUJHWJKe4Zr+hmkGqqCqWPGKQqrahlfgxSZUCq9uEGdOIgiSCE27gcyP35bfhyYa0Qc0OD5C3d4UHPPXthZ9p/TJDqNwW7VnWGGxf3GjY9KkVu4nB92iDEXLGezakMpArZzFV96Z/YEKLvASUElXp8y0OFGaRWDf0OT/IuYlYz/roq4XuQiVwkDtfvchAUgzJmW/qV4JklpBYgO2GQvofYD1PP5CBtz2D9IjL94qHSIpTQ6aElSVgWyNvSdsUdm/NS5UIqkI/LK/vCj/5aCfFC4Hs78VDmlALBG5QIlAepAPIvY2VfP+7XaYhXIN7b+dDm/UoUW+4oWZDKmbsSff3or9MQeAW+h53OElDiTuRCakXWt4S58npSaQYq8QU5kKoWbWVBqjYVO/p4gfhEcqMo2tQd6ONF4BOZgCyrOKl6ZJAqpY5jcbJ+ccpYhPP3xjQWJXDAIFVAFAWDGKTKgFTkHcXfapnArs7rsbiTeRpTGuvD6rVCE0/+uM6og8jUmS+cmoGzSd/glUp8fKvoaygqOIeoFob86qJNyEto3ag+Xl6ZhBIoA6mCNnMARve3bGecbtDBsF2QGaRS4PCu6aa/xgeR+/hfPCo4F6Xv6aTzZdsg5KXWaFT/ZaxMkkd21pCqy4hDpL6XmbjVNO5yQLh5jf/G/dguqN24PbqGvKjvSfXD5DOGle/iT4F8SOXz0BVlIT3fuZsmyYZUziQdirLS4WSTxAUEIBdSeXOLkJWeX6HbTpkbLx9S+VQVUd/m9lkfy+tJNaR69r4gD1LVoa0sSKWmluYjq8A0r6c0PwvGU6s4Q01Y/7cLUq0TV/C5vT2pFWxemeLsg9QyySs0wG5IrVDryhZm7z6pZXOo2BD7INX5tqlun1T+louQ9I9haOamB8vWC3GzGNDc3oZ3A6vpYc4DAcNjcTGHdv1ZQuqFfP7nLrm5p3XH4OccoPhxAub2bsyv6qe9rNX80G3ueRQoBakQtpnej+biR2jC9QIHYrHh50nNILVaUGf9IrDq6DL7Z6QZ+a0YjxPmondjflU/vZ9qft0w93yBLM+whlS6iCzt8HR0qEZ1dUPTwVEY6UePvdD/wBOcn93BpE/VVhi6+gJyZSy8txdSZRnv4EX2QaqDhSmQ3C5IVaA8R7KwF1IdKUuJtPZBqhIlOpaHPZDqWEmOp5YNqY4XBQapCogokgWDVBFhFAhmkOqYiCqFVP1NleQiLTUTGtMXcLriBkWZyUjNldebWEaekjxkZBU6ZR4kV5a1zbpM/DyR39LKvUss7hnMNoPUxjPOI1+TjjSJrrySvAxkFVoIUebWZAeU5iE9q0hw2yJdUQ7S0uRtPWUoj0GqQYny/2eQWn7tbKVkkGpLofLHM0gV1o71pArrokQo60lVQkXxPFhPqpzhfnH9Kjwme1+Y2bC4YcqA5f8aYfuE7Sr4A9veD9b3TtbH2MQsExhaQKq8fU+NhWTvQ1gNSxu4XmOut1YfXiMM+/S/9mlM56QDBqmOC8sg1XENxXJgkCqmjOPhDFKFNWSQKqyLEqEMUpVQUTwPBqkuBqlFDxKweeNGbJT425zwQLjG805gbF0KjW5oPTURGeYdoY5AatEDJGyWtmnj5gQ8kLMFgLDldoUySLVLLsGLGaQKyqJIIINURWQUzIRBqqAsYJAqrIsSoQxSlVBRPA8GqS4GqeJVKSemAOeiI/HumrPIMgdUmrTkCY7ELkB0dAy+PJryzBbByLkLW9cwSLWlkO14Bqm2NSrvFQxSy6uc7XQMUoU1YpAqrIsSoQxSlVBRPA8Gqf+nIFXcEZ6nGAapjtcmg1THNRTLgUGqmDKOhzNIFdaQQaqwLkqEMkhVQkXxPBikMkgV9w4XjWGQ6njFMUh1XEOxHBikiinjeDiDVGENGaQK66JEKINUJVQUz4NBKoNUce9w0RgGqY5XHINUxzUUy4FBqpgyjoczSBXWkEGqsC5KhDJIVUJF8TwYpIaG4tChQ+IKsRiXU0Cr1eLzzz/H4MGDVWP7v/71L8yZMwe7d+9WjU1ShuzcuRMBAQGgDbDaP//zP/+DxYsXY8KECWo3lbPvwoULGDduHP75z3+6hL2utE9qWloa9zPTa9ascbq2rrRPqkGXtWvXOl0XJQo4ePAgevXqhaws+pvd6v789ddfWLhwISIiItRtqN66W7duISoqCkeOHHEJe7dt24ZmzZqpxtaCggL4+vo69C4ncu/myZMnGDRoENavX49Fixaxv+dIA9oY0z+11OuKFSuwZMkSrFy5UjU2SWlDd4+YPXu2S9hKAZVCiZrqW0pbauv8+fOxbNkyl9CX+gL1Xal7Ukvc0qVLuWeMgrWzbaK60PKcXY4S+VNfo21QReiihL30nUzbH/psK5Gfs/OIjY3l2iBnl6NE/vQdRDtxqD8okZ+z8/j6668xd+5c1dhKfXLKlCk4cOCAXNQsc51sSKVDQ2FhYdwLo2vXrmB/z4cGPXr04B7A9957TzV1OmLECMybNw9vvfWWamyS8nfagPXr1w/du3dXvb1vvPEGli9fDjXVt5S2kydPBv3r27ev6rWl90Hhf/jw4S5ha//+/bkX8KhRo5xuryvpMmDAAK63ryJ0kfJ9uXHR0dEYNmwY6LMtN82zuo62kRT8xo4dq3pbqUajR4/GrFmzMGTIEJewl45YvPnmm3j11VdVYe9rr72Gbt26VUxPKoXU0NBQh4i4DCKzgGeuQGlpKfeiopCllk9SUhI33E/nerrCxzAnlU6dUPtHo9FwPS5jxoxRu6mcfb/99hs33H/+/HmXsNeVhvtTUlK44X7aw+nsjysN9//3f/83pwvtUXWFT3x8PDfcn56ernpzDcP9vXv3Vr2t1MDr169zw/1xcXEuYa/a5qTm5eVV3HC/AVLpA8E+z48CbOGU43VpgFSqpdo///nPfzhIfeedd9RuKmcfWzjlvGpiC6eEtWULp4R1USKULZxSQkXxPNQGqZmZmQxSxauLxchRgEGqHJWkr2GQKq2PI7EMUh1RTzotg1RhfRikCuuiRCiDVCVUFM+DQSrbgkrcO1w0hkGq4xXHINVxDcVyYJAqpozj4QxShTVkkCqsixKhDFKVUFE8DwapDFLFvcNFYxikOl5xDFId11AsBwapYso4Hs4gVVhDBqnCuigRyiBVCRXF82CQyiBV3DtcNMYuSNVpcD9+AUb0DsPEvSlOu+ObN29yC6c2bdpkswyd5j7iF4xA77CJ2JvybBYuyYdUHTT347FgRG+ETdyLZ2GuXXNSK6i+pSrZHkhVgy/IXjilAm1VCakq0MUeSFWDz+3fv59bOJWcnCz1KAF49u2PXZCqAl+4cuUKt3CK7oVt66MGX5APqRXjC2xOqi2vEYjXaR7gxM6fcPpRIdS/9brADYgFlTzBkdgFiI6OwZdHU1Aqdp1VuFxI1WacREy4H9zdveBOCNqtvmeVk3Kn8iBVi4yTMQj3c4e7lzsIaYfV90qUM8KOnGRBqjYDJ2PC4efuDi93AtJuNZ6FuXIhtSLrW0pqeZCqHl+QA6lq0VZtkKoWXeRBqnp8ThakqqT9kQupavEFeZCqHl+QBakV6AsuDKk6lBYJYJSuFELBUi8x23HmZRXh6ryWIISAtF2CW8W2U7vMFQVnMaUR4e6t8YwL0Mg0XC6k6tIPY/b0WJxKisPAamqAVB3SD8/G9NhTSIobiGpqh1RdOg7Pno7YU0mIG1hN9ZBakfUt5aryIFU9viAHUtWirdogVS26yINU9ficLEhVSfsjF1LV4gvyIFU9viALUivQF1wPUnU5uLj+A/QNbgC/4UeQq3876XIuYv0HfRHcwA/DjxhCpV5dMuIEyyrFn5vCUJMQ1Iv88ZkMt8qwvHyXOBlSjUblHFQJpBotQs5BF4BUo7k5OOgCkGoy1/n1bSxL4EAepJoSPmtfkAOpRmsr4FkyliVwoDZINZr4jHWRB6lGa595+yMLUo3mPtv2Ry6kmsx9tu2PPEg1WvvMfUEWpBrNdb4vuB6kltzD6nZ8b1+NSBOkltxbjXa0d5PUQKRSkCpSFp2XU5idi+epE5XzOQap6h7ur8CGwViUwIHc4X5j0mcMDAxSjTWh+AGDVGFJGaQK66JEKINUJVQUz4NBqoyFUwU3tuLD/p0R8EJNVPVuiNbdR2HN+Wzoiu/iqwEB8OVglIB4NkBz/454d8sqDAjw5YfgCYFng+bw7zgOP3MdqiVITvgUg15qAt8aDRAYPhvxyXTeYQHOz+2JVv6BCF8Uh28m9EDL2jXQIHgYYi/niZY17uc03FgRjkB/f7QJW4JrhbSydSi4/T2m9mqNetV98WJIJGKOPuXnQpsEWgAADP5JREFUdBacx9yereAfGI5Fcd9gQo+WqF2jAYKHxeJyntwZrQZb2yB0wT5smfIGAur4wu+lYVh99hb2ftQbrerWQN22kVh9KZefJ1twA1s/7I/OAS+gZlVvNGzdHaPWnEe2vkjNnZ8QFdYG9atVRvWGHTFuTwpKrSA1P2UXRncKgL9/ewzdfB9iszXlDvcbH4sKgBZ5c1KNFj3zb6+y5qQazXX+t1djUQIHDFIFRFEwiPWkCotp1y9OVUAbI2wlH8ogVUodx+IYpDqmn63UDFJlQGr+ybGoRwiq160NTwOQVgvHd/dvYFWPuvAwhJGq8PFtgsEbFqJHXQ8jpJKqPvBtMhQJOVqkxY9BI+56T9SqwffAksBoXC3Mx6lx9UxpjHkSkODluJ1/S7CsoQn/jQszGvPpGk3B2QKg9OFWRFTX523MpzVmncsH8k9hXD3rOP48ePltUfCzdCQJW43l6cvosAp3KE3mn8RYWm71uqjtaSi/GsK/ewJtwQXMCtCHuVeDJ6mF4Ym5gAWknsGlRUH8fdYZhYQMcaBmkGpZW+U5Y5BaHtXkpWE9qfJ0Ks9VrCdVWDUGqcK6KBHKIFUJFcXzYJAqA1JR9BR3kgu4HkHN1YVow4FYZfTZlwWIDMELDvcX38KSIB7Gghb/AU3K9witQs8bY8aFDJyd6qeHVD9MiLuGQ1Ob8Odu3bGD/oSxYFkaK0gtxOXZzfTQOgm/pN/AorZ8mdUHxyNLcxZT/fRA6DcBcdcOYWoT/tyt+w7I+6VkjZmtbfDJyVvY+7e6etvrY/SeWzg1uwV/7vEGdmVSByzC0zvJKKBsqbmKhW34Miv32YeUK5+gOadpCDY+0kJbkIVcrnPZbOHU+LV49wWaxguhWx5JrvRnkCr+wMuNYZAqVyn7r2OQar9mclMwSBVWikGqsC5KhDJIVUJF8TwYpMqBVGiRfW03Fr0/AK91bGzsOe24/qEIONLgsnNStU+2oCsHY7UweMNhnEjcjFENKXi5ofvOhybYrDsWJ/OBnIT+8OKu129FJAdS8x5iQyceAKsPOYQcmAFlk49wMfMCZjTm4+uOPYl85CChvxcPlLK3EDIDY7+pOKvR4tHGl/g8PEOxNxvIOTQY3pztHbHuT37XA232Nexe9D4GvNYRjT14G0jH9fjX3XUI4a4lqNP7Mxx5oh/IN+tJ9QluhSr0mnaf40aRuEPTGAap0vrIiWWQKkel8l3DILV8uslJxSBVWCUGqcK6KBHKIFUJFcXzYJBqE1K1SDs4CS30EOXuW08PjvotiwTBURhSi65Fw1+fD7dllNnxy98+wDmrYXsT6AVh5d0SESA2A0Y63P/va5jfkgfABuNPowDFuLGgFQ+QtUbheKoJUhtNOYsC5ODQYG8+PmglaDG2P2ZlNp6BCxotkr8J4fOoHI792UBu4lvcjgOEtMfaB6XQph3EpBZ6MHX3RT0v/TEF46JsnJ7TwQj/xLcPvrxVaDHcb9TLfy6ucPNuxa1kkCqujdwYBqlylbL/Ogap9msmNwWDVGGlGKQK66JEKINUJVQUz4NBqi1ILbyEmU15oGr1yTnk5ZnmdHKbv1tA6mHjFlQWPamH+S2oSm4v0U8V8EKXCdGIiYnh/xauwI93skw9qfq5pdKQaijLDBhpuuw7WK4f3vd9+2fkoRAXo17kAdJvGs5lPAtI/Q8uzWzK29DqE5zLyzPNvzX03uo0SNoxCe0r81p7D4xDpllPKqneFD4c1NfG345ki3s060mV1EZuJINUuUrZfx2DVPs1k5tCFqTqsnF8Wkc0fnkO6DR9XfZxTOvYGC/POYd8qzipctnCKSl1HItjW1A5pp9UarYFlZQ6tuPUtwVVdhz6cAt9qiB8TyZ0GfswwJsHKQ5StabhdRKyHg/0+/lrH25AJ31Pacj6B/wcytxEDPfl0wbFXLHanN4KNgvMh8z1PamCZVmny8XPb+t3FmgVgxuaZGzpzi/i8uy1E2n5zwJSMxDXx5OD1Crhe5Cpy8C+AfreWw5SS1FUQierliBpWSAPs21X4E62aU6q35RdWNXZjYvzfG0THgn8boLBvVhPqkGJ8v9nkFp+7WylZJBqS6Hyx8uCVG0qdvTxAvGJREIWoE3dgT5eBD6RCciyipOyhEGqlDqOxTFIdUw/qdQMUqXUsR2nPkgtuor5rXiwJLU6ome7GjxEEYLAZUkA8nD0b7WMYaTO64ily9nzjuJvtfTpCEGd12Nxp6QA56L0C4oIQd02IXipdSPUf3klkkqsYVMAUgXLyinTA5t3egoa6wG5Xqsm+h0J6mDUwUzoNM8CUgtwdb5+ygGphY4926GGYapD4DLcvB2LLrUbo33XELyo70n1m3wG+WY9qY1nnEXSN6+gEpeuFaKviU9MtRtSbfulw1fYuwWVwwU6mIF9kOpgYQ4mt3sLKgfLczS5vZDqaHmOprdrCypHC3MwvSxIpWWU5iOrQGssrTQ/C8ZTqzjjRVYHdkGqVdqKPrV3uL+i7bMuzz5ItU5dsed2D/dXrHllSrMXUstkUMEB9g33O9849UEqtMg8Pgsh+jmUVduPxvj29HfVCZp8dJFTpCjpHxjWjO/lI6Q1Ft6k2+oXIekfw9DMTQ+qrReCCy5+jIS5vdGYW9VP46rBr9tcnC+QA6lA2bKyy0AqoMHtbe8isJq+bI8ADI+9iBxuZf2zgNRSaDOPY1aIfoFW1fYYPb493ClwNvkIv5ycjQ5GPaqi1dDVuJCrs5iTSn8WNT95K3rqt6+qO+Zn5Ij4I4NUEWHsCGaQaodYdl7KINVOwey4XDak2pGn2KUMUsWUcTycQarjGorlwCBVTBl54SqEVL3hJTlISc2V2PqoBLlpqcjUmL6dcylLcpGWmgnrYDq0nZeRhUKry+XJJFKWdWJdETKTU/ntnKzjnsl5CXJSUpErNFSvK0JOWpoitjJIdbxyGaQ6rqFYDgxSxZRxPJxBqrCGrCdVWBclQllPqhIqiufBelJtLZwS1+65jMneF2YaijcMyVv9rxG2T9X3ziDV8ephkOq4hmI5MEgVU8bxcAapwhoySBXWRYlQBqlKqCieB4NUBqkW3lH0IAGbN27ERom/zQkPLNKo7YRBquM1wiDVcQ3FcmCQKqaM4+EMUoU1ZJAqrIsSoQxSlVBRPA8GqQxSxb3DRWMYpDpecQxSHddQLAcGqWLKOB7OIFVYQwapwrooEcogVQkVxfNgkMogVdw7XDSGQarjFccg1XENxXJgkCqmjOPhDFKFNWSQKqyLEqEMUpVQUTwPBqkMUsW9w0VjGKQ6XnEMUh3XUCwHBqliyjgeziBVWEMGqcK6KBHKIFUJFcXzYJDKIFXcO1w0hkGq4xXHINVxDcVyYJAqpozj4QxShTVkkCqsixKhDFKVUFE8DwapoaFISEgQV4jFuJwCWq0Wn3/+Ofr3768a2+/evYs5c+Zg586dqrFJypAffvgBAQEBoFqq/VNYWIjFixdj7NixajeVs+/cuXMYN24cLl7k91lWu9GutJl/amoq91PTK1ascLqsrrRPakpKSoXpooTwBw4cQK9evUD3pFT756+//sLChQvRu3dvtZvK2Ud/WCYqKgpUY1f4qA1S6Y/H+Pr6Yvfu3eWWj8hNSb91h4eHY9KkSWjRogX7e040oHD197//HcOGDVNNnb766quYMWMGevbsqRqbpHx+4sSJ3LNBtZS6Tg1xbdq0wccff4whQ4ao3laqV9++fTlIfemll1zC3unTp7uMtlTTmTNncr7rbN+kukRGRrpEHVakLkroPmrUKAwePBj02VYiP2fmQdvIDz/8UFXvG6n7ff311zFt2jTQd5LUdWqJ++CDDxAREaEaW1u3bo0ePXpUDKQ+fvwYn332GT755BP295xpQHs51FavO3bsUJ1NUhqtWrXKZexdt26dy9hKNf/uu+9cyl4pP1Fb3Lfffsu0FWjPXU2Xr776ymXqcfny5S5jK31e6Yie2p5bKXuWLFmiKnvnz5+Pw4cPy+0PLXOd7J7UMilZAFOAKcAUYAowBZgCTAGmAFPASQowSHWSsCxbpgBTgCnAFGAKMAWYAkyB8ivAILX82rGUTAGmAFOAKcAUYAowBZgCTlKAQaqThGXZMgWYAkwBpgBTgCnAFGAKlF8BBqnl146lZAowBZgCTAGmAFOAKcAUcJICDFKdJCzLlinAFGAKMAWYAkwBpgBToPwKMEgtv3YsJVOAKcAUYAowBZgCTAGmgJMUYJDqJGFZtkwBpgBTgCnAFGAKMAWYAuVXgEFq+bVjKZkCTAGmAFOAKcAUYAowBZykAINUJwnLsmUKMAWYAkwBpgBTgCnAFCi/AgxSy68dS8kUYAowBZgCTAGmAFOAKeAkBRikOklYli1TgCnAFGAKMAWYAkwBpkD5FWCQWn7tWEqmAFOAKcAUYAowBZgCTAEnKfD/AQhbie4Bazq2AAAAAElFTkSuQmCC)"
   ]
  },
  {
   "cell_type": "code",
   "execution_count": null,
   "metadata": {
    "colab": {
     "base_uri": "https://localhost:8080/",
     "height": 243,
     "referenced_widgets": [
      "9abf5f1a7413418bab01d7a0bd27da16",
      "a87b3e0114e64307a47b8c3eb523684f",
      "679c8302927c49ee90dc729f903cdb37",
      "9a59a0654d294a6f9d590546fd97231a",
      "5355d90aed644770be19d1f79edaf4bf",
      "e3065919d14e43ec9ae74025de4bc252",
      "e808602c462d4537bc4653a663c4d9d5",
      "7f90be062dbb426294e0153a164d73ad",
      "d96678c8b5c040eca2ced302ce1d5035",
      "c443ebeec2384eb3846a59d4922742c4",
      "3b181d6ed857495181a6ed0a47eb17c3"
     ]
    },
    "id": "CVSGTDevTJFh",
    "outputId": "d95dcb97-2385-4696-fed6-3f476b250562"
   },
   "outputs": [
    {
     "data": {
      "application/vnd.jupyter.widget-view+json": {
       "model_id": "9abf5f1a7413418bab01d7a0bd27da16",
       "version_major": 2,
       "version_minor": 0
      },
      "text/plain": [
       "model.safetensors:   0%|          | 0.00/133M [00:00<?, ?B/s]"
      ]
     },
     "metadata": {},
     "output_type": "display_data"
    },
    {
     "name": "stderr",
     "output_type": "stream",
     "text": [
      "Some weights of the model checkpoint at deepset/minilm-uncased-squad2 were not used when initializing BertForQuestionAnswering: ['bert.pooler.dense.weight', 'bert.pooler.dense.bias']\n",
      "- This IS expected if you are initializing BertForQuestionAnswering from the checkpoint of a model trained on another task or with another architecture (e.g. initializing a BertForSequenceClassification model from a BertForPreTraining model).\n",
      "- This IS NOT expected if you are initializing BertForQuestionAnswering from the checkpoint of a model that you expect to be exactly identical (initializing a BertForSequenceClassification model from a BertForSequenceClassification model).\n"
     ]
    },
    {
     "name": "stdout",
     "output_type": "stream",
     "text": [
      "QuestionAnsweringModelOutput(loss=None, start_logits=tensor([[-0.9862, -4.7750, -5.4025, -5.2378, -5.2863, -5.5117, -4.9819, -6.1880,\n",
      "         -0.9862,  0.2596, -0.2144, -1.7136,  3.7806,  4.8561, -1.0546, -3.9097,\n",
      "         -1.7374, -4.5944, -1.4278,  3.9949,  5.0391, -0.2018, -3.0193, -4.8549,\n",
      "         -2.3108, -3.5110, -3.5713, -0.9862]]), end_logits=tensor([[-0.9623, -5.4733, -5.0326, -5.1639, -5.4278, -5.5151, -5.1749, -4.6233,\n",
      "         -0.9623, -3.7855, -0.8715, -3.7745, -3.0161, -1.1780,  0.1758, -2.7365,\n",
      "          4.8934,  0.3046, -3.1761, -3.2762,  0.8937,  5.6606, -0.3623, -4.9554,\n",
      "         -3.2531, -0.0914,  1.6211, -0.9623]]), hidden_states=None, attentions=None)\n"
     ]
    }
   ],
   "source": [
    "import torch\n",
    "from transformers import AutoModelForQuestionAnswering\n",
    "\n",
    "model=AutoModelForQuestionAnswering.from_pretrained(mdl_chkpt)\n",
    "with torch.no_grad():\n",
    "  outputs=model(**inputs)\n",
    "print(outputs)"
   ]
  },
  {
   "cell_type": "code",
   "execution_count": null,
   "metadata": {
    "id": "4QT3E-jaTXIn"
   },
   "outputs": [],
   "source": [
    "start_logits=outputs.start_logits\n",
    "end_logits=outputs.end_logits"
   ]
  },
  {
   "cell_type": "code",
   "execution_count": null,
   "metadata": {
    "colab": {
     "base_uri": "https://localhost:8080/"
    },
    "id": "nuTyvdujTXLY",
    "outputId": "71df702b-69b7-4c06-c987-53d721b47259"
   },
   "outputs": [
    {
     "name": "stdout",
     "output_type": "stream",
     "text": [
      "Input IDs shape: torch.Size([1, 28])\n",
      "Start logits shape: torch.Size([1, 28])\n",
      "End logits shape: torch.Size([1, 28])\n"
     ]
    }
   ],
   "source": [
    "print(f\"Input IDs shape: {inputs.input_ids.size()}\")\n",
    "print(f\"Start logits shape: {start_logits.size()}\")\n",
    "print(f\"End logits shape: {end_logits.size()}\")"
   ]
  },
  {
   "cell_type": "code",
   "execution_count": null,
   "metadata": {
    "colab": {
     "base_uri": "https://localhost:8080/"
    },
    "id": "mqt77CsfTXNv",
    "outputId": "29693c91-5e39-43dc-ab17-cafa5b8228eb"
   },
   "outputs": [
    {
     "name": "stdout",
     "output_type": "stream",
     "text": [
      "Question: How much music can this hold?\n",
      "Answer: 6000 hours\n"
     ]
    }
   ],
   "source": [
    "import torch\n",
    "start_idx = torch.argmax(start_logits)\n",
    "end_idx = torch.argmax(end_logits) + 1\n",
    "answer_span = inputs[\"input_ids\"][0][start_idx:end_idx]\n",
    "answer = tokenizer.decode(answer_span)\n",
    "print(f\"Question: {question}\")\n",
    "print(f\"Answer: {answer}\")"
   ]
  },
  {
   "cell_type": "code",
   "execution_count": null,
   "metadata": {
    "colab": {
     "base_uri": "https://localhost:8080/"
    },
    "id": "Jh3cRswWTXQv",
    "outputId": "488a6d7a-4b51-43a8-fbf9-76736271f1e0"
   },
   "outputs": [
    {
     "name": "stderr",
     "output_type": "stream",
     "text": [
      "/usr/local/lib/python3.10/dist-packages/transformers/pipelines/question_answering.py:326: UserWarning: topk parameter is deprecated, use top_k instead\n",
      "  warnings.warn(\"topk parameter is deprecated, use top_k instead\", UserWarning)\n"
     ]
    },
    {
     "data": {
      "text/plain": [
       "[{'score': 0.2651607394218445, 'start': 38, 'end': 48, 'answer': '6000 hours'},\n",
       " {'score': 0.2208300530910492,\n",
       "  'start': 16,\n",
       "  'end': 48,\n",
       "  'answer': '1 MB/minute, so about 6000 hours'},\n",
       " {'score': 0.10253580659627914,\n",
       "  'start': 16,\n",
       "  'end': 27,\n",
       "  'answer': '1 MB/minute'}]"
      ]
     },
     "execution_count": 33,
     "metadata": {},
     "output_type": "execute_result"
    }
   ],
   "source": [
    "from transformers import pipeline\n",
    "pipe=pipeline('question-answering',model=model,tokenizer=tokenizer)\n",
    "pipe(question=question,context=context,topk=3)"
   ]
  },
  {
   "cell_type": "code",
   "execution_count": null,
   "metadata": {
    "colab": {
     "base_uri": "https://localhost:8080/"
    },
    "id": "2jf1iUa9TJIW",
    "outputId": "bf14478b-b41b-4e80-dafb-6e85915b6705"
   },
   "outputs": [
    {
     "data": {
      "text/plain": [
       "{'score': 0.0002626475179567933,\n",
       " 'start': 16,\n",
       " 'end': 71,\n",
       " 'answer': '1 MB/minute, so about 6000 hours depending on file size'}"
      ]
     },
     "execution_count": 34,
     "metadata": {},
     "output_type": "execute_result"
    }
   ],
   "source": [
    "pipe(question='why is there no data?',context=context,handle_impossible=True)"
   ]
  },
  {
   "cell_type": "code",
   "execution_count": null,
   "metadata": {
    "id": "yXjTylCiTJPP"
   },
   "outputs": [],
   "source": [
    "#pickle save and load\n",
    "import pickle\n",
    "with open('data.pkl', 'wb') as file:\n",
    "    # Pickle the data and write it to the file\n",
    "    pickle.dump(model, file)"
   ]
  },
  {
   "cell_type": "code",
   "execution_count": null,
   "metadata": {
    "colab": {
     "base_uri": "https://localhost:8080/"
    },
    "id": "6fEQWGYGoz1D",
    "outputId": "fc1a6054-3315-4193-b601-a3b231ff7297"
   },
   "outputs": [
    {
     "name": "stdout",
     "output_type": "stream",
     "text": [
      "BertForQuestionAnswering(\n",
      "  (bert): BertModel(\n",
      "    (embeddings): BertEmbeddings(\n",
      "      (word_embeddings): Embedding(30522, 384, padding_idx=0)\n",
      "      (position_embeddings): Embedding(512, 384)\n",
      "      (token_type_embeddings): Embedding(2, 384)\n",
      "      (LayerNorm): LayerNorm((384,), eps=1e-12, elementwise_affine=True)\n",
      "      (dropout): Dropout(p=0.1, inplace=False)\n",
      "    )\n",
      "    (encoder): BertEncoder(\n",
      "      (layer): ModuleList(\n",
      "        (0-11): 12 x BertLayer(\n",
      "          (attention): BertAttention(\n",
      "            (self): BertSelfAttention(\n",
      "              (query): Linear(in_features=384, out_features=384, bias=True)\n",
      "              (key): Linear(in_features=384, out_features=384, bias=True)\n",
      "              (value): Linear(in_features=384, out_features=384, bias=True)\n",
      "              (dropout): Dropout(p=0.1, inplace=False)\n",
      "            )\n",
      "            (output): BertSelfOutput(\n",
      "              (dense): Linear(in_features=384, out_features=384, bias=True)\n",
      "              (LayerNorm): LayerNorm((384,), eps=1e-12, elementwise_affine=True)\n",
      "              (dropout): Dropout(p=0.1, inplace=False)\n",
      "            )\n",
      "          )\n",
      "          (intermediate): BertIntermediate(\n",
      "            (dense): Linear(in_features=384, out_features=1536, bias=True)\n",
      "            (intermediate_act_fn): GELUActivation()\n",
      "          )\n",
      "          (output): BertOutput(\n",
      "            (dense): Linear(in_features=1536, out_features=384, bias=True)\n",
      "            (LayerNorm): LayerNorm((384,), eps=1e-12, elementwise_affine=True)\n",
      "            (dropout): Dropout(p=0.1, inplace=False)\n",
      "          )\n",
      "        )\n",
      "      )\n",
      "    )\n",
      "  )\n",
      "  (qa_outputs): Linear(in_features=384, out_features=2, bias=True)\n",
      ")\n"
     ]
    }
   ],
   "source": [
    "with open('data.pkl', 'rb') as file:\n",
    "    # Load the pickled data from the file\n",
    "    loaded_data = pickle.load(file)\n",
    "\n",
    "# Print the loaded data\n",
    "print(loaded_data)"
   ]
  },
  {
   "cell_type": "code",
   "execution_count": null,
   "metadata": {
    "id": "6ZroAR3mo44q"
   },
   "outputs": [],
   "source": [
    "test_con=dfs['test']['context'].iloc[3]\n",
    "test_quest=dfs['test']['question'].iloc[3]\n",
    "test_quest_answer=dfs['test']['answers.text'].iloc[3]"
   ]
  },
  {
   "cell_type": "code",
   "execution_count": null,
   "metadata": {
    "colab": {
     "base_uri": "https://localhost:8080/",
     "height": 140
    },
    "id": "2wU0ISeBqysj",
    "outputId": "5b594ebf-69ec-4f8f-e2e5-6bff975bfaed"
   },
   "outputs": [
    {
     "data": {
      "application/vnd.google.colaboratory.intrinsic+json": {
       "type": "string"
      },
      "text/plain": [
       "'I bought this lens for my Canon 20D digital camera and have found it to be a great all-purpose, everyday-use lens.  Here are the best features from my perspective:1.  The range of telephoto zoom is adequate for 90% of photo opportunites.  28-135 mm telephoto in digital photography translates into 48-230 mm in SLR film photography.  Since a standard camera lens is 50-55 mm, the starting range of this zoom lens equals that and then has the added versatility of zooming up to 135 mm (or 230mm in old style camera figures).  In my opinion, this added range of framing a shot gives the photographer so much more creativity, as well as being able to bring objects into closer, more intimate range.  I mentioned that this lens is good for 90% of all general camera shots; the missing 10% are those pictures that require a better zoom (more telephoto zoom), and those pics that need a wider field of view.  You may find that for group photos in close proximity, you want to take a step backwards to get everybody in the frame.  This is not a problem unless you simply don\\'t have the room to take that step back.  I solved this problem by switching back to the original 18-55mm lens that came with the camera.  For the more distant shots that can\\'t be drawn into the 135mm zoom of this lens I purchased a better telephoto zoom.2.  The lens has autofocus and IS stabilization technology.  For one used to manual focus lenses in SLR film photography, the addition of a fast autofocus lens is a terrific feature! I used to miss those spur of the moment shots because I was trying to achieve focus.  With this lens, you make those shots, because within a milisecond of depressing the shutter down halfway, the picture snaps into focus!  I absolutely love this feature!  The focuser has many points of potential focus, so it adapts easily to virtually all focusing situations.  For the really difficult focusing shots, there is the option of manual focusing.  While nice to have, I rarely use this option.  The Image Stabilization feature is a handy one in the longer shots.  \"IS\" lets one get away with a bit of camera shake without too much out-of-focus smear on the picture.  Canon does not recommend using the IS feature on tripod shots, so there is a switch to turn off the IS if desired.3.  The lens takes sharp clear pictures.  I have not been disappointed with the quality of the lens at all.Drawbacks1.  While there are not too many drawbacks to this lens, I think the major one is that the lens is bigger and heavier, in fact, much bigger and heavier than the standard 17-55 mm lenses that come with SLR cameras.  For me this is not a problem, however, for one that wants to have a lighter-weight camera, this could be considered a serious drawback.  On the other hand, a SLR camera like the Canon 20D or digital Rebel is not designed to be a smaller pocket-sized camera.  It is a larger format camera and of course the lenses will be larger (and heavier) as well.2.  Cost.  At just over 400 dollars, this lens is an investment.  Again, one has to weigh the obvious financial outlay, but the 28-135 mm lens is so superior to the cheaper 18-55 mm lens, that in my opinion, it is well worth the cost to upgrade.With this product, Canon made a great everyday camera lens.  From my perspective, the advantages far outweigh the disadvantages and I do recommend this lens to be your everyday standard camera lens.Jim \"Konedog\" Koenig'"
      ]
     },
     "execution_count": 48,
     "metadata": {},
     "output_type": "execute_result"
    }
   ],
   "source": [
    "test_con"
   ]
  },
  {
   "cell_type": "code",
   "execution_count": null,
   "metadata": {
    "colab": {
     "background_save": true
    },
    "id": "pVgr2wo-q_Lv",
    "outputId": "d68d68ed-da49-4917-ff45-1fcf16b97a8e"
   },
   "outputs": [
    {
     "data": {
      "text/plain": [
       "array(['I do recommend this lens'], dtype=object)"
      ]
     },
     "execution_count": 51,
     "metadata": {},
     "output_type": "execute_result"
    }
   ],
   "source": [
    "test_quest_answer"
   ]
  },
  {
   "cell_type": "code",
   "execution_count": null,
   "metadata": {
    "colab": {
     "base_uri": "https://localhost:8080/"
    },
    "id": "wSYZSyt5o_Na",
    "outputId": "90710387-d728-4fc7-a179-b98391876fa2"
   },
   "outputs": [
    {
     "name": "stdout",
     "output_type": "stream",
     "text": [
      "QuestionAnsweringModelOutput(loss=None, start_logits=tensor([[-0.9862, -4.7750, -5.4025, -5.2378, -5.2863, -5.5117, -4.9819, -6.1880,\n",
      "         -0.9862,  0.2596, -0.2144, -1.7136,  3.7806,  4.8561, -1.0546, -3.9097,\n",
      "         -1.7374, -4.5944, -1.4278,  3.9949,  5.0391, -0.2018, -3.0193, -4.8549,\n",
      "         -2.3108, -3.5110, -3.5713, -0.9862]]), end_logits=tensor([[-0.9623, -5.4733, -5.0326, -5.1639, -5.4278, -5.5151, -5.1749, -4.6233,\n",
      "         -0.9623, -3.7855, -0.8715, -3.7745, -3.0161, -1.1780,  0.1758, -2.7365,\n",
      "          4.8934,  0.3046, -3.1761, -3.2762,  0.8937,  5.6606, -0.3623, -4.9554,\n",
      "         -3.2531, -0.0914,  1.6211, -0.9623]]), hidden_states=None, attentions=None)\n",
      "Question: How do you like the lens?\n",
      "Answer: I bought this lens for my Canon 20D digital camera and have found it to be a great all-purpose, everyday-use lens.  Here are the best features from my perspective:1.  The range of telephoto zoom is adequate for 90% of photo opportunites.  28-135 mm telephoto in digital photography translates into 48-230 mm in SLR film photography.  Since a standard camera lens is 50-55 mm, the starting range of this zoom lens equals that and then has the added versatility of zooming up to 135 mm (or 230mm in old style camera figures).  In my opinion, this added range of framing a shot gives the photographer so much more creativity, as well as being able to bring objects into closer, more intimate range.  I mentioned that this lens is good for 90% of all general camera shots; the missing 10% are those pictures that require a better zoom (more telephoto zoom), and those pics that need a wider field of view.  You may find that for group photos in close proximity, you want to take a step backwards to get everybody in the frame.  This is not a problem unless you simply don't have the room to take that step back.  I solved this problem by switching back to the original 18-55mm lens that came with the camera.  For the more distant shots that can't be drawn into the 135mm zoom of this lens I purchased a better telephoto zoom.2.  The lens has autofocus and IS stabilization technology.  For one used to manual focus lenses in SLR film photography, the addition of a fast autofocus lens is a terrific feature! I used to miss those spur of the moment shots because I was trying to achieve focus.  With this lens, you make those shots, because within a milisecond of depressing the shutter down halfway, the picture snaps into focus!  I absolutely love this feature!  The focuser has many points of potential focus, so it adapts easily to virtually all focusing situations.  For the really difficult focusing shots, there is the option of manual focusing.  While nice to have, I rarely use this option.  The Image Stabilization feature is a handy one in the longer shots.  \"IS\" lets one get away with a bit of camera shake without too much out-of-focus smear on the picture.  Canon does not recommend using the IS feature on tripod shots, so there is a switch to turn off the IS if desired.3.  The lens takes sharp clear pictures.  I have not been disappointed with the quality of the lens at all.Drawbacks1.  While there are not too many drawbacks to this lens, I think the major one is that the lens is bigger and heavier, in fact, much bigger and heavier than the standard 17-55 mm lenses that come with SLR cameras.  For me this is not a problem, however, for one that wants to have a lighter-weight camera, this could be considered a serious drawback.  On the other hand, a SLR camera like the Canon 20D or digital Rebel is not designed to be a smaller pocket-sized camera.  It is a larger format camera and of course the lenses will be larger (and heavier) as well.2.  Cost.  At just over 400 dollars, this lens is an investment.  Again, one has to weigh the obvious financial outlay, but the 28-135 mm lens is so superior to the cheaper 18-55 mm lens, that in my opinion, it is well worth the cost to upgrade.With this product, Canon made a great everyday camera lens.  From my perspective, the advantages far outweigh the disadvantages and I do recommend this lens to be your everyday standard camera lens.Jim \"Konedog\" Koenig\n"
     ]
    }
   ],
   "source": [
    "#two ways to predict\n",
    "\n",
    "#First way\n",
    "#first prepare input/ tokenize and do step by step\n",
    "test_inputs = tokenizer(test_quest, test_con, return_tensors=\"pt\")\n",
    "with torch.no_grad():\n",
    "  outputs1=model(**inputs)\n",
    "print(outputs1)\n",
    "\n",
    "start_logits1=outputs1.start_logits\n",
    "end_logits1=outputs1.end_logits\n",
    "start_idx1 = torch.argmax(start_logits1)\n",
    "end_idx1 = torch.argmax(end_logits1) + 1\n",
    "answer_span1 = test_inputs[\"input_ids\"][0][start_idx1:end_idx1]\n",
    "answer = tokenizer.decode(answer_span1)\n",
    "print(f\"Question: {test_quest}\")\n",
    "print(f\"Answer: {test_con}\")"
   ]
  },
  {
   "cell_type": "code",
   "execution_count": null,
   "metadata": {
    "id": "8UI6tXyDqJzg"
   },
   "outputs": [],
   "source": []
  }
 ],
 "metadata": {
  "colab": {
   "provenance": []
  },
  "kernelspec": {
   "display_name": "Python 3 (ipykernel)",
   "language": "python",
   "name": "python3"
  },
  "language_info": {
   "codemirror_mode": {
    "name": "ipython",
    "version": 3
   },
   "file_extension": ".py",
   "mimetype": "text/x-python",
   "name": "python",
   "nbconvert_exporter": "python",
   "pygments_lexer": "ipython3",
   "version": "3.11.7"
  },
  "widgets": {
   "application/vnd.jupyter.widget-state+json": {
    "05be491d613c4950a2d411aedd0549f5": {
     "model_module": "@jupyter-widgets/controls",
     "model_module_version": "1.5.0",
     "model_name": "ProgressStyleModel",
     "state": {
      "_model_module": "@jupyter-widgets/controls",
      "_model_module_version": "1.5.0",
      "_model_name": "ProgressStyleModel",
      "_view_count": null,
      "_view_module": "@jupyter-widgets/base",
      "_view_module_version": "1.2.0",
      "_view_name": "StyleView",
      "bar_color": null,
      "description_width": ""
     }
    },
    "0cc0e21f143a4216b05c7640095a30c3": {
     "model_module": "@jupyter-widgets/controls",
     "model_module_version": "1.5.0",
     "model_name": "DescriptionStyleModel",
     "state": {
      "_model_module": "@jupyter-widgets/controls",
      "_model_module_version": "1.5.0",
      "_model_name": "DescriptionStyleModel",
      "_view_count": null,
      "_view_module": "@jupyter-widgets/base",
      "_view_module_version": "1.2.0",
      "_view_name": "StyleView",
      "description_width": ""
     }
    },
    "12eabae2be804fb0a65db1a3f606f329": {
     "model_module": "@jupyter-widgets/controls",
     "model_module_version": "1.5.0",
     "model_name": "HTMLModel",
     "state": {
      "_dom_classes": [],
      "_model_module": "@jupyter-widgets/controls",
      "_model_module_version": "1.5.0",
      "_model_name": "HTMLModel",
      "_view_count": null,
      "_view_module": "@jupyter-widgets/controls",
      "_view_module_version": "1.5.0",
      "_view_name": "HTMLView",
      "description": "",
      "description_tooltip": null,
      "layout": "IPY_MODEL_6ac56d0e2c4a415f80add7cfb36a0eab",
      "placeholder": "​",
      "style": "IPY_MODEL_4b6bb840920e47e98e1f02ea1bcfb8dc",
      "value": " 232k/232k [00:00&lt;00:00, 2.82MB/s]"
     }
    },
    "16e1dcfe20974c5cb36c547f0305b787": {
     "model_module": "@jupyter-widgets/controls",
     "model_module_version": "1.5.0",
     "model_name": "HTMLModel",
     "state": {
      "_dom_classes": [],
      "_model_module": "@jupyter-widgets/controls",
      "_model_module_version": "1.5.0",
      "_model_name": "HTMLModel",
      "_view_count": null,
      "_view_module": "@jupyter-widgets/controls",
      "_view_module_version": "1.5.0",
      "_view_name": "HTMLView",
      "description": "",
      "description_tooltip": null,
      "layout": "IPY_MODEL_e4deffa26fc346668b7210a22f82e221",
      "placeholder": "​",
      "style": "IPY_MODEL_0cc0e21f143a4216b05c7640095a30c3",
      "value": "special_tokens_map.json: 100%"
     }
    },
    "1718663f2aa04719928deb9ee708b4ad": {
     "model_module": "@jupyter-widgets/controls",
     "model_module_version": "1.5.0",
     "model_name": "HTMLModel",
     "state": {
      "_dom_classes": [],
      "_model_module": "@jupyter-widgets/controls",
      "_model_module_version": "1.5.0",
      "_model_name": "HTMLModel",
      "_view_count": null,
      "_view_module": "@jupyter-widgets/controls",
      "_view_module_version": "1.5.0",
      "_view_name": "HTMLView",
      "description": "",
      "description_tooltip": null,
      "layout": "IPY_MODEL_c240009522fe4802afa401bf5e28debb",
      "placeholder": "​",
      "style": "IPY_MODEL_c3192ce27eef4b27a0d988d124a8500d",
      "value": "Downloading readme: 100%"
     }
    },
    "18694e0c050744de9cf94cdb9cc6f751": {
     "model_module": "@jupyter-widgets/controls",
     "model_module_version": "1.5.0",
     "model_name": "HBoxModel",
     "state": {
      "_dom_classes": [],
      "_model_module": "@jupyter-widgets/controls",
      "_model_module_version": "1.5.0",
      "_model_name": "HBoxModel",
      "_view_count": null,
      "_view_module": "@jupyter-widgets/controls",
      "_view_module_version": "1.5.0",
      "_view_name": "HBoxView",
      "box_style": "",
      "children": [
       "IPY_MODEL_16e1dcfe20974c5cb36c547f0305b787",
       "IPY_MODEL_db1fa78f0bde40cab6f5c813697a4ec1",
       "IPY_MODEL_9995bf0f7d524c57929eaec98baf080b"
      ],
      "layout": "IPY_MODEL_5ed3271aad874a35b514297d8e1f1ca3"
     }
    },
    "1b1be2c63fdc4d83bf0b3e9263aaf6e4": {
     "model_module": "@jupyter-widgets/base",
     "model_module_version": "1.2.0",
     "model_name": "LayoutModel",
     "state": {
      "_model_module": "@jupyter-widgets/base",
      "_model_module_version": "1.2.0",
      "_model_name": "LayoutModel",
      "_view_count": null,
      "_view_module": "@jupyter-widgets/base",
      "_view_module_version": "1.2.0",
      "_view_name": "LayoutView",
      "align_content": null,
      "align_items": null,
      "align_self": null,
      "border": null,
      "bottom": null,
      "display": null,
      "flex": null,
      "flex_flow": null,
      "grid_area": null,
      "grid_auto_columns": null,
      "grid_auto_flow": null,
      "grid_auto_rows": null,
      "grid_column": null,
      "grid_gap": null,
      "grid_row": null,
      "grid_template_areas": null,
      "grid_template_columns": null,
      "grid_template_rows": null,
      "height": null,
      "justify_content": null,
      "justify_items": null,
      "left": null,
      "margin": null,
      "max_height": null,
      "max_width": null,
      "min_height": null,
      "min_width": null,
      "object_fit": null,
      "object_position": null,
      "order": null,
      "overflow": null,
      "overflow_x": null,
      "overflow_y": null,
      "padding": null,
      "right": null,
      "top": null,
      "visibility": null,
      "width": null
     }
    },
    "23ec1b2b7fdd4749935e0e5da8422fe3": {
     "model_module": "@jupyter-widgets/controls",
     "model_module_version": "1.5.0",
     "model_name": "DescriptionStyleModel",
     "state": {
      "_model_module": "@jupyter-widgets/controls",
      "_model_module_version": "1.5.0",
      "_model_name": "DescriptionStyleModel",
      "_view_count": null,
      "_view_module": "@jupyter-widgets/base",
      "_view_module_version": "1.2.0",
      "_view_name": "StyleView",
      "description_width": ""
     }
    },
    "258e68d7dfce40f38f5df35d658b56db": {
     "model_module": "@jupyter-widgets/controls",
     "model_module_version": "1.5.0",
     "model_name": "HTMLModel",
     "state": {
      "_dom_classes": [],
      "_model_module": "@jupyter-widgets/controls",
      "_model_module_version": "1.5.0",
      "_model_name": "HTMLModel",
      "_view_count": null,
      "_view_module": "@jupyter-widgets/controls",
      "_view_module_version": "1.5.0",
      "_view_name": "HTMLView",
      "description": "",
      "description_tooltip": null,
      "layout": "IPY_MODEL_f4ed500559cf4f9fb48c68238fccbedf",
      "placeholder": "​",
      "style": "IPY_MODEL_e5fc28af58654d36814a0d2dfcef738e",
      "value": " 477/477 [00:00&lt;00:00, 29.9kB/s]"
     }
    },
    "25e6a5cbf687441ba653777c9d28afcb": {
     "model_module": "@jupyter-widgets/controls",
     "model_module_version": "1.5.0",
     "model_name": "HTMLModel",
     "state": {
      "_dom_classes": [],
      "_model_module": "@jupyter-widgets/controls",
      "_model_module_version": "1.5.0",
      "_model_name": "HTMLModel",
      "_view_count": null,
      "_view_module": "@jupyter-widgets/controls",
      "_view_module_version": "1.5.0",
      "_view_name": "HTMLView",
      "description": "",
      "description_tooltip": null,
      "layout": "IPY_MODEL_37890231551f4e5a91a8a75939946834",
      "placeholder": "​",
      "style": "IPY_MODEL_4109e7c418b84a0bbfd4de720dc0a416",
      "value": " 107/107 [00:00&lt;00:00, 5.28kB/s]"
     }
    },
    "26ee3516ca1c4cbe98c2406d9414b4f1": {
     "model_module": "@jupyter-widgets/controls",
     "model_module_version": "1.5.0",
     "model_name": "ProgressStyleModel",
     "state": {
      "_model_module": "@jupyter-widgets/controls",
      "_model_module_version": "1.5.0",
      "_model_name": "ProgressStyleModel",
      "_view_count": null,
      "_view_module": "@jupyter-widgets/base",
      "_view_module_version": "1.2.0",
      "_view_name": "StyleView",
      "bar_color": null,
      "description_width": ""
     }
    },
    "2b5e04fa39144c65bdee24d35ef6da51": {
     "model_module": "@jupyter-widgets/base",
     "model_module_version": "1.2.0",
     "model_name": "LayoutModel",
     "state": {
      "_model_module": "@jupyter-widgets/base",
      "_model_module_version": "1.2.0",
      "_model_name": "LayoutModel",
      "_view_count": null,
      "_view_module": "@jupyter-widgets/base",
      "_view_module_version": "1.2.0",
      "_view_name": "LayoutView",
      "align_content": null,
      "align_items": null,
      "align_self": null,
      "border": null,
      "bottom": null,
      "display": null,
      "flex": null,
      "flex_flow": null,
      "grid_area": null,
      "grid_auto_columns": null,
      "grid_auto_flow": null,
      "grid_auto_rows": null,
      "grid_column": null,
      "grid_gap": null,
      "grid_row": null,
      "grid_template_areas": null,
      "grid_template_columns": null,
      "grid_template_rows": null,
      "height": null,
      "justify_content": null,
      "justify_items": null,
      "left": null,
      "margin": null,
      "max_height": null,
      "max_width": null,
      "min_height": null,
      "min_width": null,
      "object_fit": null,
      "object_position": null,
      "order": null,
      "overflow": null,
      "overflow_x": null,
      "overflow_y": null,
      "padding": null,
      "right": null,
      "top": null,
      "visibility": null,
      "width": null
     }
    },
    "2c17a86c66544650aa925dbd03629eb1": {
     "model_module": "@jupyter-widgets/controls",
     "model_module_version": "1.5.0",
     "model_name": "HBoxModel",
     "state": {
      "_dom_classes": [],
      "_model_module": "@jupyter-widgets/controls",
      "_model_module_version": "1.5.0",
      "_model_name": "HBoxModel",
      "_view_count": null,
      "_view_module": "@jupyter-widgets/controls",
      "_view_module_version": "1.5.0",
      "_view_name": "HBoxView",
      "box_style": "",
      "children": [
       "IPY_MODEL_1718663f2aa04719928deb9ee708b4ad",
       "IPY_MODEL_799ec732a2684e148d26a4d8e923df79",
       "IPY_MODEL_8fc185b60880477c99eb654ccd8a01e4"
      ],
      "layout": "IPY_MODEL_fac316fd67544b84aaee179d7255311c"
     }
    },
    "2e367626a22a4add9fd6b4ed93e53f52": {
     "model_module": "@jupyter-widgets/base",
     "model_module_version": "1.2.0",
     "model_name": "LayoutModel",
     "state": {
      "_model_module": "@jupyter-widgets/base",
      "_model_module_version": "1.2.0",
      "_model_name": "LayoutModel",
      "_view_count": null,
      "_view_module": "@jupyter-widgets/base",
      "_view_module_version": "1.2.0",
      "_view_name": "LayoutView",
      "align_content": null,
      "align_items": null,
      "align_self": null,
      "border": null,
      "bottom": null,
      "display": null,
      "flex": null,
      "flex_flow": null,
      "grid_area": null,
      "grid_auto_columns": null,
      "grid_auto_flow": null,
      "grid_auto_rows": null,
      "grid_column": null,
      "grid_gap": null,
      "grid_row": null,
      "grid_template_areas": null,
      "grid_template_columns": null,
      "grid_template_rows": null,
      "height": null,
      "justify_content": null,
      "justify_items": null,
      "left": null,
      "margin": null,
      "max_height": null,
      "max_width": null,
      "min_height": null,
      "min_width": null,
      "object_fit": null,
      "object_position": null,
      "order": null,
      "overflow": null,
      "overflow_x": null,
      "overflow_y": null,
      "padding": null,
      "right": null,
      "top": null,
      "visibility": null,
      "width": null
     }
    },
    "34517eadf828497e845cfc4afb510ee8": {
     "model_module": "@jupyter-widgets/controls",
     "model_module_version": "1.5.0",
     "model_name": "FloatProgressModel",
     "state": {
      "_dom_classes": [],
      "_model_module": "@jupyter-widgets/controls",
      "_model_module_version": "1.5.0",
      "_model_name": "FloatProgressModel",
      "_view_count": null,
      "_view_module": "@jupyter-widgets/controls",
      "_view_module_version": "1.5.0",
      "_view_name": "ProgressView",
      "bar_style": "success",
      "description": "",
      "description_tooltip": null,
      "layout": "IPY_MODEL_2b5e04fa39144c65bdee24d35ef6da51",
      "max": 231508,
      "min": 0,
      "orientation": "horizontal",
      "style": "IPY_MODEL_c6de24520f8744c9bf8bb99ba152211f",
      "value": 231508
     }
    },
    "34e0644aa04e492480bd43e7c846bdbe": {
     "model_module": "@jupyter-widgets/controls",
     "model_module_version": "1.5.0",
     "model_name": "DescriptionStyleModel",
     "state": {
      "_model_module": "@jupyter-widgets/controls",
      "_model_module_version": "1.5.0",
      "_model_name": "DescriptionStyleModel",
      "_view_count": null,
      "_view_module": "@jupyter-widgets/base",
      "_view_module_version": "1.2.0",
      "_view_name": "StyleView",
      "description_width": ""
     }
    },
    "35ad2f53a5fc4e16841fd748fa595ab7": {
     "model_module": "@jupyter-widgets/base",
     "model_module_version": "1.2.0",
     "model_name": "LayoutModel",
     "state": {
      "_model_module": "@jupyter-widgets/base",
      "_model_module_version": "1.2.0",
      "_model_name": "LayoutModel",
      "_view_count": null,
      "_view_module": "@jupyter-widgets/base",
      "_view_module_version": "1.2.0",
      "_view_name": "LayoutView",
      "align_content": null,
      "align_items": null,
      "align_self": null,
      "border": null,
      "bottom": null,
      "display": null,
      "flex": null,
      "flex_flow": null,
      "grid_area": null,
      "grid_auto_columns": null,
      "grid_auto_flow": null,
      "grid_auto_rows": null,
      "grid_column": null,
      "grid_gap": null,
      "grid_row": null,
      "grid_template_areas": null,
      "grid_template_columns": null,
      "grid_template_rows": null,
      "height": null,
      "justify_content": null,
      "justify_items": null,
      "left": null,
      "margin": null,
      "max_height": null,
      "max_width": null,
      "min_height": null,
      "min_width": null,
      "object_fit": null,
      "object_position": null,
      "order": null,
      "overflow": null,
      "overflow_x": null,
      "overflow_y": null,
      "padding": null,
      "right": null,
      "top": null,
      "visibility": null,
      "width": null
     }
    },
    "35b06b6232e046909fde249dde7cfa93": {
     "model_module": "@jupyter-widgets/controls",
     "model_module_version": "1.5.0",
     "model_name": "HBoxModel",
     "state": {
      "_dom_classes": [],
      "_model_module": "@jupyter-widgets/controls",
      "_model_module_version": "1.5.0",
      "_model_name": "HBoxModel",
      "_view_count": null,
      "_view_module": "@jupyter-widgets/controls",
      "_view_module_version": "1.5.0",
      "_view_name": "HBoxView",
      "box_style": "",
      "children": [
       "IPY_MODEL_99d370cd071442b089ddb5072086128c",
       "IPY_MODEL_d1ce187236f64237a2e1ab15e8b80984",
       "IPY_MODEL_849dab94734a4ccf95a3de8517f073df"
      ],
      "layout": "IPY_MODEL_b1ee350c9d4b4998b4c799d707358bb5"
     }
    },
    "369e62257f3747849747630edc250856": {
     "model_module": "@jupyter-widgets/controls",
     "model_module_version": "1.5.0",
     "model_name": "ProgressStyleModel",
     "state": {
      "_model_module": "@jupyter-widgets/controls",
      "_model_module_version": "1.5.0",
      "_model_name": "ProgressStyleModel",
      "_view_count": null,
      "_view_module": "@jupyter-widgets/base",
      "_view_module_version": "1.2.0",
      "_view_name": "StyleView",
      "bar_color": null,
      "description_width": ""
     }
    },
    "37890231551f4e5a91a8a75939946834": {
     "model_module": "@jupyter-widgets/base",
     "model_module_version": "1.2.0",
     "model_name": "LayoutModel",
     "state": {
      "_model_module": "@jupyter-widgets/base",
      "_model_module_version": "1.2.0",
      "_model_name": "LayoutModel",
      "_view_count": null,
      "_view_module": "@jupyter-widgets/base",
      "_view_module_version": "1.2.0",
      "_view_name": "LayoutView",
      "align_content": null,
      "align_items": null,
      "align_self": null,
      "border": null,
      "bottom": null,
      "display": null,
      "flex": null,
      "flex_flow": null,
      "grid_area": null,
      "grid_auto_columns": null,
      "grid_auto_flow": null,
      "grid_auto_rows": null,
      "grid_column": null,
      "grid_gap": null,
      "grid_row": null,
      "grid_template_areas": null,
      "grid_template_columns": null,
      "grid_template_rows": null,
      "height": null,
      "justify_content": null,
      "justify_items": null,
      "left": null,
      "margin": null,
      "max_height": null,
      "max_width": null,
      "min_height": null,
      "min_width": null,
      "object_fit": null,
      "object_position": null,
      "order": null,
      "overflow": null,
      "overflow_x": null,
      "overflow_y": null,
      "padding": null,
      "right": null,
      "top": null,
      "visibility": null,
      "width": null
     }
    },
    "3b181d6ed857495181a6ed0a47eb17c3": {
     "model_module": "@jupyter-widgets/controls",
     "model_module_version": "1.5.0",
     "model_name": "DescriptionStyleModel",
     "state": {
      "_model_module": "@jupyter-widgets/controls",
      "_model_module_version": "1.5.0",
      "_model_name": "DescriptionStyleModel",
      "_view_count": null,
      "_view_module": "@jupyter-widgets/base",
      "_view_module_version": "1.2.0",
      "_view_name": "StyleView",
      "description_width": ""
     }
    },
    "4109e7c418b84a0bbfd4de720dc0a416": {
     "model_module": "@jupyter-widgets/controls",
     "model_module_version": "1.5.0",
     "model_name": "DescriptionStyleModel",
     "state": {
      "_model_module": "@jupyter-widgets/controls",
      "_model_module_version": "1.5.0",
      "_model_name": "DescriptionStyleModel",
      "_view_count": null,
      "_view_module": "@jupyter-widgets/base",
      "_view_module_version": "1.2.0",
      "_view_name": "StyleView",
      "description_width": ""
     }
    },
    "42349ad589ed4b159b524b24af2cfe26": {
     "model_module": "@jupyter-widgets/controls",
     "model_module_version": "1.5.0",
     "model_name": "DescriptionStyleModel",
     "state": {
      "_model_module": "@jupyter-widgets/controls",
      "_model_module_version": "1.5.0",
      "_model_name": "DescriptionStyleModel",
      "_view_count": null,
      "_view_module": "@jupyter-widgets/base",
      "_view_module_version": "1.2.0",
      "_view_name": "StyleView",
      "description_width": ""
     }
    },
    "43c4844d4a1a465683a78522ef374c0c": {
     "model_module": "@jupyter-widgets/base",
     "model_module_version": "1.2.0",
     "model_name": "LayoutModel",
     "state": {
      "_model_module": "@jupyter-widgets/base",
      "_model_module_version": "1.2.0",
      "_model_name": "LayoutModel",
      "_view_count": null,
      "_view_module": "@jupyter-widgets/base",
      "_view_module_version": "1.2.0",
      "_view_name": "LayoutView",
      "align_content": null,
      "align_items": null,
      "align_self": null,
      "border": null,
      "bottom": null,
      "display": null,
      "flex": null,
      "flex_flow": null,
      "grid_area": null,
      "grid_auto_columns": null,
      "grid_auto_flow": null,
      "grid_auto_rows": null,
      "grid_column": null,
      "grid_gap": null,
      "grid_row": null,
      "grid_template_areas": null,
      "grid_template_columns": null,
      "grid_template_rows": null,
      "height": null,
      "justify_content": null,
      "justify_items": null,
      "left": null,
      "margin": null,
      "max_height": null,
      "max_width": null,
      "min_height": null,
      "min_width": null,
      "object_fit": null,
      "object_position": null,
      "order": null,
      "overflow": null,
      "overflow_x": null,
      "overflow_y": null,
      "padding": null,
      "right": null,
      "top": null,
      "visibility": null,
      "width": null
     }
    },
    "4b6bb840920e47e98e1f02ea1bcfb8dc": {
     "model_module": "@jupyter-widgets/controls",
     "model_module_version": "1.5.0",
     "model_name": "DescriptionStyleModel",
     "state": {
      "_model_module": "@jupyter-widgets/controls",
      "_model_module_version": "1.5.0",
      "_model_name": "DescriptionStyleModel",
      "_view_count": null,
      "_view_module": "@jupyter-widgets/base",
      "_view_module_version": "1.2.0",
      "_view_name": "StyleView",
      "description_width": ""
     }
    },
    "4c6890c034ab4f61b5a24c87f1754202": {
     "model_module": "@jupyter-widgets/base",
     "model_module_version": "1.2.0",
     "model_name": "LayoutModel",
     "state": {
      "_model_module": "@jupyter-widgets/base",
      "_model_module_version": "1.2.0",
      "_model_name": "LayoutModel",
      "_view_count": null,
      "_view_module": "@jupyter-widgets/base",
      "_view_module_version": "1.2.0",
      "_view_name": "LayoutView",
      "align_content": null,
      "align_items": null,
      "align_self": null,
      "border": null,
      "bottom": null,
      "display": null,
      "flex": null,
      "flex_flow": null,
      "grid_area": null,
      "grid_auto_columns": null,
      "grid_auto_flow": null,
      "grid_auto_rows": null,
      "grid_column": null,
      "grid_gap": null,
      "grid_row": null,
      "grid_template_areas": null,
      "grid_template_columns": null,
      "grid_template_rows": null,
      "height": null,
      "justify_content": null,
      "justify_items": null,
      "left": null,
      "margin": null,
      "max_height": null,
      "max_width": null,
      "min_height": null,
      "min_width": null,
      "object_fit": null,
      "object_position": null,
      "order": null,
      "overflow": null,
      "overflow_x": null,
      "overflow_y": null,
      "padding": null,
      "right": null,
      "top": null,
      "visibility": null,
      "width": null
     }
    },
    "4e727750682a44a9a135a25f618f027f": {
     "model_module": "@jupyter-widgets/controls",
     "model_module_version": "1.5.0",
     "model_name": "DescriptionStyleModel",
     "state": {
      "_model_module": "@jupyter-widgets/controls",
      "_model_module_version": "1.5.0",
      "_model_name": "DescriptionStyleModel",
      "_view_count": null,
      "_view_module": "@jupyter-widgets/base",
      "_view_module_version": "1.2.0",
      "_view_name": "StyleView",
      "description_width": ""
     }
    },
    "4feb166232a14f5693a2c13116e92c99": {
     "model_module": "@jupyter-widgets/controls",
     "model_module_version": "1.5.0",
     "model_name": "DescriptionStyleModel",
     "state": {
      "_model_module": "@jupyter-widgets/controls",
      "_model_module_version": "1.5.0",
      "_model_name": "DescriptionStyleModel",
      "_view_count": null,
      "_view_module": "@jupyter-widgets/base",
      "_view_module_version": "1.2.0",
      "_view_name": "StyleView",
      "description_width": ""
     }
    },
    "4ff0de6e6dca49879636112d720f3d36": {
     "model_module": "@jupyter-widgets/controls",
     "model_module_version": "1.5.0",
     "model_name": "FloatProgressModel",
     "state": {
      "_dom_classes": [],
      "_model_module": "@jupyter-widgets/controls",
      "_model_module_version": "1.5.0",
      "_model_name": "FloatProgressModel",
      "_view_count": null,
      "_view_module": "@jupyter-widgets/controls",
      "_view_module_version": "1.5.0",
      "_view_name": "ProgressView",
      "bar_style": "success",
      "description": "",
      "description_tooltip": null,
      "layout": "IPY_MODEL_e8e270c28f854abaa7833c3063783069",
      "max": 477,
      "min": 0,
      "orientation": "horizontal",
      "style": "IPY_MODEL_369e62257f3747849747630edc250856",
      "value": 477
     }
    },
    "5355d90aed644770be19d1f79edaf4bf": {
     "model_module": "@jupyter-widgets/base",
     "model_module_version": "1.2.0",
     "model_name": "LayoutModel",
     "state": {
      "_model_module": "@jupyter-widgets/base",
      "_model_module_version": "1.2.0",
      "_model_name": "LayoutModel",
      "_view_count": null,
      "_view_module": "@jupyter-widgets/base",
      "_view_module_version": "1.2.0",
      "_view_name": "LayoutView",
      "align_content": null,
      "align_items": null,
      "align_self": null,
      "border": null,
      "bottom": null,
      "display": null,
      "flex": null,
      "flex_flow": null,
      "grid_area": null,
      "grid_auto_columns": null,
      "grid_auto_flow": null,
      "grid_auto_rows": null,
      "grid_column": null,
      "grid_gap": null,
      "grid_row": null,
      "grid_template_areas": null,
      "grid_template_columns": null,
      "grid_template_rows": null,
      "height": null,
      "justify_content": null,
      "justify_items": null,
      "left": null,
      "margin": null,
      "max_height": null,
      "max_width": null,
      "min_height": null,
      "min_width": null,
      "object_fit": null,
      "object_position": null,
      "order": null,
      "overflow": null,
      "overflow_x": null,
      "overflow_y": null,
      "padding": null,
      "right": null,
      "top": null,
      "visibility": null,
      "width": null
     }
    },
    "53fcfdb516694d1db66611bc840071d2": {
     "model_module": "@jupyter-widgets/controls",
     "model_module_version": "1.5.0",
     "model_name": "HTMLModel",
     "state": {
      "_dom_classes": [],
      "_model_module": "@jupyter-widgets/controls",
      "_model_module_version": "1.5.0",
      "_model_name": "HTMLModel",
      "_view_count": null,
      "_view_module": "@jupyter-widgets/controls",
      "_view_module_version": "1.5.0",
      "_view_name": "HTMLView",
      "description": "",
      "description_tooltip": null,
      "layout": "IPY_MODEL_d6639986c8b04550862934ed40632a85",
      "placeholder": "​",
      "style": "IPY_MODEL_e41d243e0455411ba61bb8a1a61f8b14",
      "value": "Downloading metadata: 100%"
     }
    },
    "5730c9c9cd134275beb46f02e940ab30": {
     "model_module": "@jupyter-widgets/controls",
     "model_module_version": "1.5.0",
     "model_name": "FloatProgressModel",
     "state": {
      "_dom_classes": [],
      "_model_module": "@jupyter-widgets/controls",
      "_model_module_version": "1.5.0",
      "_model_name": "FloatProgressModel",
      "_view_count": null,
      "_view_module": "@jupyter-widgets/controls",
      "_view_module_version": "1.5.0",
      "_view_name": "ProgressView",
      "bar_style": "success",
      "description": "",
      "description_tooltip": null,
      "layout": "IPY_MODEL_72b2652a82ad42aa8fc0eff6f0e83b79",
      "max": 17730,
      "min": 0,
      "orientation": "horizontal",
      "style": "IPY_MODEL_acc372d1cac34a309b53aca29bc65630",
      "value": 17730
     }
    },
    "5ed3271aad874a35b514297d8e1f1ca3": {
     "model_module": "@jupyter-widgets/base",
     "model_module_version": "1.2.0",
     "model_name": "LayoutModel",
     "state": {
      "_model_module": "@jupyter-widgets/base",
      "_model_module_version": "1.2.0",
      "_model_name": "LayoutModel",
      "_view_count": null,
      "_view_module": "@jupyter-widgets/base",
      "_view_module_version": "1.2.0",
      "_view_name": "LayoutView",
      "align_content": null,
      "align_items": null,
      "align_self": null,
      "border": null,
      "bottom": null,
      "display": null,
      "flex": null,
      "flex_flow": null,
      "grid_area": null,
      "grid_auto_columns": null,
      "grid_auto_flow": null,
      "grid_auto_rows": null,
      "grid_column": null,
      "grid_gap": null,
      "grid_row": null,
      "grid_template_areas": null,
      "grid_template_columns": null,
      "grid_template_rows": null,
      "height": null,
      "justify_content": null,
      "justify_items": null,
      "left": null,
      "margin": null,
      "max_height": null,
      "max_width": null,
      "min_height": null,
      "min_width": null,
      "object_fit": null,
      "object_position": null,
      "order": null,
      "overflow": null,
      "overflow_x": null,
      "overflow_y": null,
      "padding": null,
      "right": null,
      "top": null,
      "visibility": null,
      "width": null
     }
    },
    "5f6ec79f7bf747fea1f2756a11a61782": {
     "model_module": "@jupyter-widgets/base",
     "model_module_version": "1.2.0",
     "model_name": "LayoutModel",
     "state": {
      "_model_module": "@jupyter-widgets/base",
      "_model_module_version": "1.2.0",
      "_model_name": "LayoutModel",
      "_view_count": null,
      "_view_module": "@jupyter-widgets/base",
      "_view_module_version": "1.2.0",
      "_view_name": "LayoutView",
      "align_content": null,
      "align_items": null,
      "align_self": null,
      "border": null,
      "bottom": null,
      "display": null,
      "flex": null,
      "flex_flow": null,
      "grid_area": null,
      "grid_auto_columns": null,
      "grid_auto_flow": null,
      "grid_auto_rows": null,
      "grid_column": null,
      "grid_gap": null,
      "grid_row": null,
      "grid_template_areas": null,
      "grid_template_columns": null,
      "grid_template_rows": null,
      "height": null,
      "justify_content": null,
      "justify_items": null,
      "left": null,
      "margin": null,
      "max_height": null,
      "max_width": null,
      "min_height": null,
      "min_width": null,
      "object_fit": null,
      "object_position": null,
      "order": null,
      "overflow": null,
      "overflow_x": null,
      "overflow_y": null,
      "padding": null,
      "right": null,
      "top": null,
      "visibility": null,
      "width": null
     }
    },
    "656bfdeb843c4b41ae8662430dc73961": {
     "model_module": "@jupyter-widgets/controls",
     "model_module_version": "1.5.0",
     "model_name": "HBoxModel",
     "state": {
      "_dom_classes": [],
      "_model_module": "@jupyter-widgets/controls",
      "_model_module_version": "1.5.0",
      "_model_name": "HBoxModel",
      "_view_count": null,
      "_view_module": "@jupyter-widgets/controls",
      "_view_module_version": "1.5.0",
      "_view_name": "HBoxView",
      "box_style": "",
      "children": [
       "IPY_MODEL_fa1804c53f32414ba898b7321310147f",
       "IPY_MODEL_34517eadf828497e845cfc4afb510ee8",
       "IPY_MODEL_12eabae2be804fb0a65db1a3f606f329"
      ],
      "layout": "IPY_MODEL_4c6890c034ab4f61b5a24c87f1754202"
     }
    },
    "679c8302927c49ee90dc729f903cdb37": {
     "model_module": "@jupyter-widgets/controls",
     "model_module_version": "1.5.0",
     "model_name": "FloatProgressModel",
     "state": {
      "_dom_classes": [],
      "_model_module": "@jupyter-widgets/controls",
      "_model_module_version": "1.5.0",
      "_model_name": "FloatProgressModel",
      "_view_count": null,
      "_view_module": "@jupyter-widgets/controls",
      "_view_module_version": "1.5.0",
      "_view_name": "ProgressView",
      "bar_style": "success",
      "description": "",
      "description_tooltip": null,
      "layout": "IPY_MODEL_7f90be062dbb426294e0153a164d73ad",
      "max": 133466376,
      "min": 0,
      "orientation": "horizontal",
      "style": "IPY_MODEL_d96678c8b5c040eca2ced302ce1d5035",
      "value": 133466376
     }
    },
    "6ac56d0e2c4a415f80add7cfb36a0eab": {
     "model_module": "@jupyter-widgets/base",
     "model_module_version": "1.2.0",
     "model_name": "LayoutModel",
     "state": {
      "_model_module": "@jupyter-widgets/base",
      "_model_module_version": "1.2.0",
      "_model_name": "LayoutModel",
      "_view_count": null,
      "_view_module": "@jupyter-widgets/base",
      "_view_module_version": "1.2.0",
      "_view_name": "LayoutView",
      "align_content": null,
      "align_items": null,
      "align_self": null,
      "border": null,
      "bottom": null,
      "display": null,
      "flex": null,
      "flex_flow": null,
      "grid_area": null,
      "grid_auto_columns": null,
      "grid_auto_flow": null,
      "grid_auto_rows": null,
      "grid_column": null,
      "grid_gap": null,
      "grid_row": null,
      "grid_template_areas": null,
      "grid_template_columns": null,
      "grid_template_rows": null,
      "height": null,
      "justify_content": null,
      "justify_items": null,
      "left": null,
      "margin": null,
      "max_height": null,
      "max_width": null,
      "min_height": null,
      "min_width": null,
      "object_fit": null,
      "object_position": null,
      "order": null,
      "overflow": null,
      "overflow_x": null,
      "overflow_y": null,
      "padding": null,
      "right": null,
      "top": null,
      "visibility": null,
      "width": null
     }
    },
    "6bf3a4747fd240c7a804bea950b35493": {
     "model_module": "@jupyter-widgets/controls",
     "model_module_version": "1.5.0",
     "model_name": "DescriptionStyleModel",
     "state": {
      "_model_module": "@jupyter-widgets/controls",
      "_model_module_version": "1.5.0",
      "_model_name": "DescriptionStyleModel",
      "_view_count": null,
      "_view_module": "@jupyter-widgets/base",
      "_view_module_version": "1.2.0",
      "_view_name": "StyleView",
      "description_width": ""
     }
    },
    "6e8e959d187642acbdfbe27b82f9903b": {
     "model_module": "@jupyter-widgets/base",
     "model_module_version": "1.2.0",
     "model_name": "LayoutModel",
     "state": {
      "_model_module": "@jupyter-widgets/base",
      "_model_module_version": "1.2.0",
      "_model_name": "LayoutModel",
      "_view_count": null,
      "_view_module": "@jupyter-widgets/base",
      "_view_module_version": "1.2.0",
      "_view_name": "LayoutView",
      "align_content": null,
      "align_items": null,
      "align_self": null,
      "border": null,
      "bottom": null,
      "display": null,
      "flex": null,
      "flex_flow": null,
      "grid_area": null,
      "grid_auto_columns": null,
      "grid_auto_flow": null,
      "grid_auto_rows": null,
      "grid_column": null,
      "grid_gap": null,
      "grid_row": null,
      "grid_template_areas": null,
      "grid_template_columns": null,
      "grid_template_rows": null,
      "height": null,
      "justify_content": null,
      "justify_items": null,
      "left": null,
      "margin": null,
      "max_height": null,
      "max_width": null,
      "min_height": null,
      "min_width": null,
      "object_fit": null,
      "object_position": null,
      "order": null,
      "overflow": null,
      "overflow_x": null,
      "overflow_y": null,
      "padding": null,
      "right": null,
      "top": null,
      "visibility": null,
      "width": null
     }
    },
    "725e98ee9bad421385fd2190a9740851": {
     "model_module": "@jupyter-widgets/base",
     "model_module_version": "1.2.0",
     "model_name": "LayoutModel",
     "state": {
      "_model_module": "@jupyter-widgets/base",
      "_model_module_version": "1.2.0",
      "_model_name": "LayoutModel",
      "_view_count": null,
      "_view_module": "@jupyter-widgets/base",
      "_view_module_version": "1.2.0",
      "_view_name": "LayoutView",
      "align_content": null,
      "align_items": null,
      "align_self": null,
      "border": null,
      "bottom": null,
      "display": null,
      "flex": null,
      "flex_flow": null,
      "grid_area": null,
      "grid_auto_columns": null,
      "grid_auto_flow": null,
      "grid_auto_rows": null,
      "grid_column": null,
      "grid_gap": null,
      "grid_row": null,
      "grid_template_areas": null,
      "grid_template_columns": null,
      "grid_template_rows": null,
      "height": null,
      "justify_content": null,
      "justify_items": null,
      "left": null,
      "margin": null,
      "max_height": null,
      "max_width": null,
      "min_height": null,
      "min_width": null,
      "object_fit": null,
      "object_position": null,
      "order": null,
      "overflow": null,
      "overflow_x": null,
      "overflow_y": null,
      "padding": null,
      "right": null,
      "top": null,
      "visibility": null,
      "width": null
     }
    },
    "72b2652a82ad42aa8fc0eff6f0e83b79": {
     "model_module": "@jupyter-widgets/base",
     "model_module_version": "1.2.0",
     "model_name": "LayoutModel",
     "state": {
      "_model_module": "@jupyter-widgets/base",
      "_model_module_version": "1.2.0",
      "_model_name": "LayoutModel",
      "_view_count": null,
      "_view_module": "@jupyter-widgets/base",
      "_view_module_version": "1.2.0",
      "_view_name": "LayoutView",
      "align_content": null,
      "align_items": null,
      "align_self": null,
      "border": null,
      "bottom": null,
      "display": null,
      "flex": null,
      "flex_flow": null,
      "grid_area": null,
      "grid_auto_columns": null,
      "grid_auto_flow": null,
      "grid_auto_rows": null,
      "grid_column": null,
      "grid_gap": null,
      "grid_row": null,
      "grid_template_areas": null,
      "grid_template_columns": null,
      "grid_template_rows": null,
      "height": null,
      "justify_content": null,
      "justify_items": null,
      "left": null,
      "margin": null,
      "max_height": null,
      "max_width": null,
      "min_height": null,
      "min_width": null,
      "object_fit": null,
      "object_position": null,
      "order": null,
      "overflow": null,
      "overflow_x": null,
      "overflow_y": null,
      "padding": null,
      "right": null,
      "top": null,
      "visibility": null,
      "width": null
     }
    },
    "799ec732a2684e148d26a4d8e923df79": {
     "model_module": "@jupyter-widgets/controls",
     "model_module_version": "1.5.0",
     "model_name": "FloatProgressModel",
     "state": {
      "_dom_classes": [],
      "_model_module": "@jupyter-widgets/controls",
      "_model_module_version": "1.5.0",
      "_model_name": "FloatProgressModel",
      "_view_count": null,
      "_view_module": "@jupyter-widgets/controls",
      "_view_module_version": "1.5.0",
      "_view_name": "ProgressView",
      "bar_style": "success",
      "description": "",
      "description_tooltip": null,
      "layout": "IPY_MODEL_be94f57d8d5844a59a78e8153c1411b0",
      "max": 21615,
      "min": 0,
      "orientation": "horizontal",
      "style": "IPY_MODEL_d2a9144e44a2419dbc2e4a0a691e0ffc",
      "value": 21615
     }
    },
    "7f90be062dbb426294e0153a164d73ad": {
     "model_module": "@jupyter-widgets/base",
     "model_module_version": "1.2.0",
     "model_name": "LayoutModel",
     "state": {
      "_model_module": "@jupyter-widgets/base",
      "_model_module_version": "1.2.0",
      "_model_name": "LayoutModel",
      "_view_count": null,
      "_view_module": "@jupyter-widgets/base",
      "_view_module_version": "1.2.0",
      "_view_name": "LayoutView",
      "align_content": null,
      "align_items": null,
      "align_self": null,
      "border": null,
      "bottom": null,
      "display": null,
      "flex": null,
      "flex_flow": null,
      "grid_area": null,
      "grid_auto_columns": null,
      "grid_auto_flow": null,
      "grid_auto_rows": null,
      "grid_column": null,
      "grid_gap": null,
      "grid_row": null,
      "grid_template_areas": null,
      "grid_template_columns": null,
      "grid_template_rows": null,
      "height": null,
      "justify_content": null,
      "justify_items": null,
      "left": null,
      "margin": null,
      "max_height": null,
      "max_width": null,
      "min_height": null,
      "min_width": null,
      "object_fit": null,
      "object_position": null,
      "order": null,
      "overflow": null,
      "overflow_x": null,
      "overflow_y": null,
      "padding": null,
      "right": null,
      "top": null,
      "visibility": null,
      "width": null
     }
    },
    "80117b00c15b4a2783cab80a34e49873": {
     "model_module": "@jupyter-widgets/controls",
     "model_module_version": "1.5.0",
     "model_name": "DescriptionStyleModel",
     "state": {
      "_model_module": "@jupyter-widgets/controls",
      "_model_module_version": "1.5.0",
      "_model_name": "DescriptionStyleModel",
      "_view_count": null,
      "_view_module": "@jupyter-widgets/base",
      "_view_module_version": "1.2.0",
      "_view_name": "StyleView",
      "description_width": ""
     }
    },
    "849dab94734a4ccf95a3de8517f073df": {
     "model_module": "@jupyter-widgets/controls",
     "model_module_version": "1.5.0",
     "model_name": "HTMLModel",
     "state": {
      "_dom_classes": [],
      "_model_module": "@jupyter-widgets/controls",
      "_model_module_version": "1.5.0",
      "_model_name": "HTMLModel",
      "_view_count": null,
      "_view_module": "@jupyter-widgets/controls",
      "_view_module_version": "1.5.0",
      "_view_name": "HTMLView",
      "description": "",
      "description_tooltip": null,
      "layout": "IPY_MODEL_e31a05f46e944657ba96f4d138cacac9",
      "placeholder": "​",
      "style": "IPY_MODEL_efcd8b13a05a484fbfc32ae4703e0b92",
      "value": " 9.12k/9.12k [00:00&lt;00:00, 358kB/s]"
     }
    },
    "8fc185b60880477c99eb654ccd8a01e4": {
     "model_module": "@jupyter-widgets/controls",
     "model_module_version": "1.5.0",
     "model_name": "HTMLModel",
     "state": {
      "_dom_classes": [],
      "_model_module": "@jupyter-widgets/controls",
      "_model_module_version": "1.5.0",
      "_model_name": "HTMLModel",
      "_view_count": null,
      "_view_module": "@jupyter-widgets/controls",
      "_view_module_version": "1.5.0",
      "_view_name": "HTMLView",
      "description": "",
      "description_tooltip": null,
      "layout": "IPY_MODEL_2e367626a22a4add9fd6b4ed93e53f52",
      "placeholder": "​",
      "style": "IPY_MODEL_34e0644aa04e492480bd43e7c846bdbe",
      "value": " 21.6k/21.6k [00:00&lt;00:00, 1.03MB/s]"
     }
    },
    "9227b330e5234e28820e729d4202cbfb": {
     "model_module": "@jupyter-widgets/controls",
     "model_module_version": "1.5.0",
     "model_name": "HTMLModel",
     "state": {
      "_dom_classes": [],
      "_model_module": "@jupyter-widgets/controls",
      "_model_module_version": "1.5.0",
      "_model_name": "HTMLModel",
      "_view_count": null,
      "_view_module": "@jupyter-widgets/controls",
      "_view_module_version": "1.5.0",
      "_view_name": "HTMLView",
      "description": "",
      "description_tooltip": null,
      "layout": "IPY_MODEL_725e98ee9bad421385fd2190a9740851",
      "placeholder": "​",
      "style": "IPY_MODEL_4feb166232a14f5693a2c13116e92c99",
      "value": "config.json: 100%"
     }
    },
    "93896d2b5f0241c29236dcd2c063f698": {
     "model_module": "@jupyter-widgets/controls",
     "model_module_version": "1.5.0",
     "model_name": "ProgressStyleModel",
     "state": {
      "_model_module": "@jupyter-widgets/controls",
      "_model_module_version": "1.5.0",
      "_model_name": "ProgressStyleModel",
      "_view_count": null,
      "_view_module": "@jupyter-widgets/base",
      "_view_module_version": "1.2.0",
      "_view_name": "StyleView",
      "bar_color": null,
      "description_width": ""
     }
    },
    "98e1e34d5ab749c39d879f90f3ce5b94": {
     "model_module": "@jupyter-widgets/controls",
     "model_module_version": "1.5.0",
     "model_name": "HTMLModel",
     "state": {
      "_dom_classes": [],
      "_model_module": "@jupyter-widgets/controls",
      "_model_module_version": "1.5.0",
      "_model_name": "HTMLModel",
      "_view_count": null,
      "_view_module": "@jupyter-widgets/controls",
      "_view_module_version": "1.5.0",
      "_view_name": "HTMLView",
      "description": "",
      "description_tooltip": null,
      "layout": "IPY_MODEL_43c4844d4a1a465683a78522ef374c0c",
      "placeholder": "​",
      "style": "IPY_MODEL_42349ad589ed4b159b524b24af2cfe26",
      "value": "tokenizer_config.json: 100%"
     }
    },
    "9995bf0f7d524c57929eaec98baf080b": {
     "model_module": "@jupyter-widgets/controls",
     "model_module_version": "1.5.0",
     "model_name": "HTMLModel",
     "state": {
      "_dom_classes": [],
      "_model_module": "@jupyter-widgets/controls",
      "_model_module_version": "1.5.0",
      "_model_name": "HTMLModel",
      "_view_count": null,
      "_view_module": "@jupyter-widgets/controls",
      "_view_module_version": "1.5.0",
      "_view_name": "HTMLView",
      "description": "",
      "description_tooltip": null,
      "layout": "IPY_MODEL_35ad2f53a5fc4e16841fd748fa595ab7",
      "placeholder": "​",
      "style": "IPY_MODEL_80117b00c15b4a2783cab80a34e49873",
      "value": " 112/112 [00:00&lt;00:00, 6.98kB/s]"
     }
    },
    "99d370cd071442b089ddb5072086128c": {
     "model_module": "@jupyter-widgets/controls",
     "model_module_version": "1.5.0",
     "model_name": "HTMLModel",
     "state": {
      "_dom_classes": [],
      "_model_module": "@jupyter-widgets/controls",
      "_model_module_version": "1.5.0",
      "_model_name": "HTMLModel",
      "_view_count": null,
      "_view_module": "@jupyter-widgets/controls",
      "_view_module_version": "1.5.0",
      "_view_name": "HTMLView",
      "description": "",
      "description_tooltip": null,
      "layout": "IPY_MODEL_c281aedb38c74f00a422e1a23b3f219f",
      "placeholder": "​",
      "style": "IPY_MODEL_4e727750682a44a9a135a25f618f027f",
      "value": "Downloading builder script: 100%"
     }
    },
    "9a59a0654d294a6f9d590546fd97231a": {
     "model_module": "@jupyter-widgets/controls",
     "model_module_version": "1.5.0",
     "model_name": "HTMLModel",
     "state": {
      "_dom_classes": [],
      "_model_module": "@jupyter-widgets/controls",
      "_model_module_version": "1.5.0",
      "_model_name": "HTMLModel",
      "_view_count": null,
      "_view_module": "@jupyter-widgets/controls",
      "_view_module_version": "1.5.0",
      "_view_name": "HTMLView",
      "description": "",
      "description_tooltip": null,
      "layout": "IPY_MODEL_c443ebeec2384eb3846a59d4922742c4",
      "placeholder": "​",
      "style": "IPY_MODEL_3b181d6ed857495181a6ed0a47eb17c3",
      "value": " 133M/133M [00:01&lt;00:00, 101MB/s]"
     }
    },
    "9abf5f1a7413418bab01d7a0bd27da16": {
     "model_module": "@jupyter-widgets/controls",
     "model_module_version": "1.5.0",
     "model_name": "HBoxModel",
     "state": {
      "_dom_classes": [],
      "_model_module": "@jupyter-widgets/controls",
      "_model_module_version": "1.5.0",
      "_model_name": "HBoxModel",
      "_view_count": null,
      "_view_module": "@jupyter-widgets/controls",
      "_view_module_version": "1.5.0",
      "_view_name": "HBoxView",
      "box_style": "",
      "children": [
       "IPY_MODEL_a87b3e0114e64307a47b8c3eb523684f",
       "IPY_MODEL_679c8302927c49ee90dc729f903cdb37",
       "IPY_MODEL_9a59a0654d294a6f9d590546fd97231a"
      ],
      "layout": "IPY_MODEL_5355d90aed644770be19d1f79edaf4bf"
     }
    },
    "9b42fe1a2986485b9a03712d92e03d7f": {
     "model_module": "@jupyter-widgets/controls",
     "model_module_version": "1.5.0",
     "model_name": "HTMLModel",
     "state": {
      "_dom_classes": [],
      "_model_module": "@jupyter-widgets/controls",
      "_model_module_version": "1.5.0",
      "_model_name": "HTMLModel",
      "_view_count": null,
      "_view_module": "@jupyter-widgets/controls",
      "_view_module_version": "1.5.0",
      "_view_name": "HTMLView",
      "description": "",
      "description_tooltip": null,
      "layout": "IPY_MODEL_a05387103f994725a9bfa4101d403a4b",
      "placeholder": "​",
      "style": "IPY_MODEL_6bf3a4747fd240c7a804bea950b35493",
      "value": " 17.7k/17.7k [00:00&lt;00:00, 678kB/s]"
     }
    },
    "a05387103f994725a9bfa4101d403a4b": {
     "model_module": "@jupyter-widgets/base",
     "model_module_version": "1.2.0",
     "model_name": "LayoutModel",
     "state": {
      "_model_module": "@jupyter-widgets/base",
      "_model_module_version": "1.2.0",
      "_model_name": "LayoutModel",
      "_view_count": null,
      "_view_module": "@jupyter-widgets/base",
      "_view_module_version": "1.2.0",
      "_view_name": "LayoutView",
      "align_content": null,
      "align_items": null,
      "align_self": null,
      "border": null,
      "bottom": null,
      "display": null,
      "flex": null,
      "flex_flow": null,
      "grid_area": null,
      "grid_auto_columns": null,
      "grid_auto_flow": null,
      "grid_auto_rows": null,
      "grid_column": null,
      "grid_gap": null,
      "grid_row": null,
      "grid_template_areas": null,
      "grid_template_columns": null,
      "grid_template_rows": null,
      "height": null,
      "justify_content": null,
      "justify_items": null,
      "left": null,
      "margin": null,
      "max_height": null,
      "max_width": null,
      "min_height": null,
      "min_width": null,
      "object_fit": null,
      "object_position": null,
      "order": null,
      "overflow": null,
      "overflow_x": null,
      "overflow_y": null,
      "padding": null,
      "right": null,
      "top": null,
      "visibility": null,
      "width": null
     }
    },
    "a87b3e0114e64307a47b8c3eb523684f": {
     "model_module": "@jupyter-widgets/controls",
     "model_module_version": "1.5.0",
     "model_name": "HTMLModel",
     "state": {
      "_dom_classes": [],
      "_model_module": "@jupyter-widgets/controls",
      "_model_module_version": "1.5.0",
      "_model_name": "HTMLModel",
      "_view_count": null,
      "_view_module": "@jupyter-widgets/controls",
      "_view_module_version": "1.5.0",
      "_view_name": "HTMLView",
      "description": "",
      "description_tooltip": null,
      "layout": "IPY_MODEL_e3065919d14e43ec9ae74025de4bc252",
      "placeholder": "​",
      "style": "IPY_MODEL_e808602c462d4537bc4653a663c4d9d5",
      "value": "model.safetensors: 100%"
     }
    },
    "acc372d1cac34a309b53aca29bc65630": {
     "model_module": "@jupyter-widgets/controls",
     "model_module_version": "1.5.0",
     "model_name": "ProgressStyleModel",
     "state": {
      "_model_module": "@jupyter-widgets/controls",
      "_model_module_version": "1.5.0",
      "_model_name": "ProgressStyleModel",
      "_view_count": null,
      "_view_module": "@jupyter-widgets/base",
      "_view_module_version": "1.2.0",
      "_view_name": "StyleView",
      "bar_color": null,
      "description_width": ""
     }
    },
    "b0c752a7672842ff91603e91723d5dcd": {
     "model_module": "@jupyter-widgets/base",
     "model_module_version": "1.2.0",
     "model_name": "LayoutModel",
     "state": {
      "_model_module": "@jupyter-widgets/base",
      "_model_module_version": "1.2.0",
      "_model_name": "LayoutModel",
      "_view_count": null,
      "_view_module": "@jupyter-widgets/base",
      "_view_module_version": "1.2.0",
      "_view_name": "LayoutView",
      "align_content": null,
      "align_items": null,
      "align_self": null,
      "border": null,
      "bottom": null,
      "display": null,
      "flex": null,
      "flex_flow": null,
      "grid_area": null,
      "grid_auto_columns": null,
      "grid_auto_flow": null,
      "grid_auto_rows": null,
      "grid_column": null,
      "grid_gap": null,
      "grid_row": null,
      "grid_template_areas": null,
      "grid_template_columns": null,
      "grid_template_rows": null,
      "height": null,
      "justify_content": null,
      "justify_items": null,
      "left": null,
      "margin": null,
      "max_height": null,
      "max_width": null,
      "min_height": null,
      "min_width": null,
      "object_fit": null,
      "object_position": null,
      "order": null,
      "overflow": null,
      "overflow_x": null,
      "overflow_y": null,
      "padding": null,
      "right": null,
      "top": null,
      "visibility": null,
      "width": null
     }
    },
    "b1ee350c9d4b4998b4c799d707358bb5": {
     "model_module": "@jupyter-widgets/base",
     "model_module_version": "1.2.0",
     "model_name": "LayoutModel",
     "state": {
      "_model_module": "@jupyter-widgets/base",
      "_model_module_version": "1.2.0",
      "_model_name": "LayoutModel",
      "_view_count": null,
      "_view_module": "@jupyter-widgets/base",
      "_view_module_version": "1.2.0",
      "_view_name": "LayoutView",
      "align_content": null,
      "align_items": null,
      "align_self": null,
      "border": null,
      "bottom": null,
      "display": null,
      "flex": null,
      "flex_flow": null,
      "grid_area": null,
      "grid_auto_columns": null,
      "grid_auto_flow": null,
      "grid_auto_rows": null,
      "grid_column": null,
      "grid_gap": null,
      "grid_row": null,
      "grid_template_areas": null,
      "grid_template_columns": null,
      "grid_template_rows": null,
      "height": null,
      "justify_content": null,
      "justify_items": null,
      "left": null,
      "margin": null,
      "max_height": null,
      "max_width": null,
      "min_height": null,
      "min_width": null,
      "object_fit": null,
      "object_position": null,
      "order": null,
      "overflow": null,
      "overflow_x": null,
      "overflow_y": null,
      "padding": null,
      "right": null,
      "top": null,
      "visibility": null,
      "width": null
     }
    },
    "be94f57d8d5844a59a78e8153c1411b0": {
     "model_module": "@jupyter-widgets/base",
     "model_module_version": "1.2.0",
     "model_name": "LayoutModel",
     "state": {
      "_model_module": "@jupyter-widgets/base",
      "_model_module_version": "1.2.0",
      "_model_name": "LayoutModel",
      "_view_count": null,
      "_view_module": "@jupyter-widgets/base",
      "_view_module_version": "1.2.0",
      "_view_name": "LayoutView",
      "align_content": null,
      "align_items": null,
      "align_self": null,
      "border": null,
      "bottom": null,
      "display": null,
      "flex": null,
      "flex_flow": null,
      "grid_area": null,
      "grid_auto_columns": null,
      "grid_auto_flow": null,
      "grid_auto_rows": null,
      "grid_column": null,
      "grid_gap": null,
      "grid_row": null,
      "grid_template_areas": null,
      "grid_template_columns": null,
      "grid_template_rows": null,
      "height": null,
      "justify_content": null,
      "justify_items": null,
      "left": null,
      "margin": null,
      "max_height": null,
      "max_width": null,
      "min_height": null,
      "min_width": null,
      "object_fit": null,
      "object_position": null,
      "order": null,
      "overflow": null,
      "overflow_x": null,
      "overflow_y": null,
      "padding": null,
      "right": null,
      "top": null,
      "visibility": null,
      "width": null
     }
    },
    "c240009522fe4802afa401bf5e28debb": {
     "model_module": "@jupyter-widgets/base",
     "model_module_version": "1.2.0",
     "model_name": "LayoutModel",
     "state": {
      "_model_module": "@jupyter-widgets/base",
      "_model_module_version": "1.2.0",
      "_model_name": "LayoutModel",
      "_view_count": null,
      "_view_module": "@jupyter-widgets/base",
      "_view_module_version": "1.2.0",
      "_view_name": "LayoutView",
      "align_content": null,
      "align_items": null,
      "align_self": null,
      "border": null,
      "bottom": null,
      "display": null,
      "flex": null,
      "flex_flow": null,
      "grid_area": null,
      "grid_auto_columns": null,
      "grid_auto_flow": null,
      "grid_auto_rows": null,
      "grid_column": null,
      "grid_gap": null,
      "grid_row": null,
      "grid_template_areas": null,
      "grid_template_columns": null,
      "grid_template_rows": null,
      "height": null,
      "justify_content": null,
      "justify_items": null,
      "left": null,
      "margin": null,
      "max_height": null,
      "max_width": null,
      "min_height": null,
      "min_width": null,
      "object_fit": null,
      "object_position": null,
      "order": null,
      "overflow": null,
      "overflow_x": null,
      "overflow_y": null,
      "padding": null,
      "right": null,
      "top": null,
      "visibility": null,
      "width": null
     }
    },
    "c281aedb38c74f00a422e1a23b3f219f": {
     "model_module": "@jupyter-widgets/base",
     "model_module_version": "1.2.0",
     "model_name": "LayoutModel",
     "state": {
      "_model_module": "@jupyter-widgets/base",
      "_model_module_version": "1.2.0",
      "_model_name": "LayoutModel",
      "_view_count": null,
      "_view_module": "@jupyter-widgets/base",
      "_view_module_version": "1.2.0",
      "_view_name": "LayoutView",
      "align_content": null,
      "align_items": null,
      "align_self": null,
      "border": null,
      "bottom": null,
      "display": null,
      "flex": null,
      "flex_flow": null,
      "grid_area": null,
      "grid_auto_columns": null,
      "grid_auto_flow": null,
      "grid_auto_rows": null,
      "grid_column": null,
      "grid_gap": null,
      "grid_row": null,
      "grid_template_areas": null,
      "grid_template_columns": null,
      "grid_template_rows": null,
      "height": null,
      "justify_content": null,
      "justify_items": null,
      "left": null,
      "margin": null,
      "max_height": null,
      "max_width": null,
      "min_height": null,
      "min_width": null,
      "object_fit": null,
      "object_position": null,
      "order": null,
      "overflow": null,
      "overflow_x": null,
      "overflow_y": null,
      "padding": null,
      "right": null,
      "top": null,
      "visibility": null,
      "width": null
     }
    },
    "c3192ce27eef4b27a0d988d124a8500d": {
     "model_module": "@jupyter-widgets/controls",
     "model_module_version": "1.5.0",
     "model_name": "DescriptionStyleModel",
     "state": {
      "_model_module": "@jupyter-widgets/controls",
      "_model_module_version": "1.5.0",
      "_model_name": "DescriptionStyleModel",
      "_view_count": null,
      "_view_module": "@jupyter-widgets/base",
      "_view_module_version": "1.2.0",
      "_view_name": "StyleView",
      "description_width": ""
     }
    },
    "c443ebeec2384eb3846a59d4922742c4": {
     "model_module": "@jupyter-widgets/base",
     "model_module_version": "1.2.0",
     "model_name": "LayoutModel",
     "state": {
      "_model_module": "@jupyter-widgets/base",
      "_model_module_version": "1.2.0",
      "_model_name": "LayoutModel",
      "_view_count": null,
      "_view_module": "@jupyter-widgets/base",
      "_view_module_version": "1.2.0",
      "_view_name": "LayoutView",
      "align_content": null,
      "align_items": null,
      "align_self": null,
      "border": null,
      "bottom": null,
      "display": null,
      "flex": null,
      "flex_flow": null,
      "grid_area": null,
      "grid_auto_columns": null,
      "grid_auto_flow": null,
      "grid_auto_rows": null,
      "grid_column": null,
      "grid_gap": null,
      "grid_row": null,
      "grid_template_areas": null,
      "grid_template_columns": null,
      "grid_template_rows": null,
      "height": null,
      "justify_content": null,
      "justify_items": null,
      "left": null,
      "margin": null,
      "max_height": null,
      "max_width": null,
      "min_height": null,
      "min_width": null,
      "object_fit": null,
      "object_position": null,
      "order": null,
      "overflow": null,
      "overflow_x": null,
      "overflow_y": null,
      "padding": null,
      "right": null,
      "top": null,
      "visibility": null,
      "width": null
     }
    },
    "c6de24520f8744c9bf8bb99ba152211f": {
     "model_module": "@jupyter-widgets/controls",
     "model_module_version": "1.5.0",
     "model_name": "ProgressStyleModel",
     "state": {
      "_model_module": "@jupyter-widgets/controls",
      "_model_module_version": "1.5.0",
      "_model_name": "ProgressStyleModel",
      "_view_count": null,
      "_view_module": "@jupyter-widgets/base",
      "_view_module_version": "1.2.0",
      "_view_name": "StyleView",
      "bar_color": null,
      "description_width": ""
     }
    },
    "c8516e1ae59447b385a4ca37095238ac": {
     "model_module": "@jupyter-widgets/base",
     "model_module_version": "1.2.0",
     "model_name": "LayoutModel",
     "state": {
      "_model_module": "@jupyter-widgets/base",
      "_model_module_version": "1.2.0",
      "_model_name": "LayoutModel",
      "_view_count": null,
      "_view_module": "@jupyter-widgets/base",
      "_view_module_version": "1.2.0",
      "_view_name": "LayoutView",
      "align_content": null,
      "align_items": null,
      "align_self": null,
      "border": null,
      "bottom": null,
      "display": null,
      "flex": null,
      "flex_flow": null,
      "grid_area": null,
      "grid_auto_columns": null,
      "grid_auto_flow": null,
      "grid_auto_rows": null,
      "grid_column": null,
      "grid_gap": null,
      "grid_row": null,
      "grid_template_areas": null,
      "grid_template_columns": null,
      "grid_template_rows": null,
      "height": null,
      "justify_content": null,
      "justify_items": null,
      "left": null,
      "margin": null,
      "max_height": null,
      "max_width": null,
      "min_height": null,
      "min_width": null,
      "object_fit": null,
      "object_position": null,
      "order": null,
      "overflow": null,
      "overflow_x": null,
      "overflow_y": null,
      "padding": null,
      "right": null,
      "top": null,
      "visibility": null,
      "width": null
     }
    },
    "d1ce187236f64237a2e1ab15e8b80984": {
     "model_module": "@jupyter-widgets/controls",
     "model_module_version": "1.5.0",
     "model_name": "FloatProgressModel",
     "state": {
      "_dom_classes": [],
      "_model_module": "@jupyter-widgets/controls",
      "_model_module_version": "1.5.0",
      "_model_name": "FloatProgressModel",
      "_view_count": null,
      "_view_module": "@jupyter-widgets/controls",
      "_view_module_version": "1.5.0",
      "_view_name": "ProgressView",
      "bar_style": "success",
      "description": "",
      "description_tooltip": null,
      "layout": "IPY_MODEL_5f6ec79f7bf747fea1f2756a11a61782",
      "max": 9124,
      "min": 0,
      "orientation": "horizontal",
      "style": "IPY_MODEL_93896d2b5f0241c29236dcd2c063f698",
      "value": 9124
     }
    },
    "d2a9144e44a2419dbc2e4a0a691e0ffc": {
     "model_module": "@jupyter-widgets/controls",
     "model_module_version": "1.5.0",
     "model_name": "ProgressStyleModel",
     "state": {
      "_model_module": "@jupyter-widgets/controls",
      "_model_module_version": "1.5.0",
      "_model_name": "ProgressStyleModel",
      "_view_count": null,
      "_view_module": "@jupyter-widgets/base",
      "_view_module_version": "1.2.0",
      "_view_name": "StyleView",
      "bar_color": null,
      "description_width": ""
     }
    },
    "d6639986c8b04550862934ed40632a85": {
     "model_module": "@jupyter-widgets/base",
     "model_module_version": "1.2.0",
     "model_name": "LayoutModel",
     "state": {
      "_model_module": "@jupyter-widgets/base",
      "_model_module_version": "1.2.0",
      "_model_name": "LayoutModel",
      "_view_count": null,
      "_view_module": "@jupyter-widgets/base",
      "_view_module_version": "1.2.0",
      "_view_name": "LayoutView",
      "align_content": null,
      "align_items": null,
      "align_self": null,
      "border": null,
      "bottom": null,
      "display": null,
      "flex": null,
      "flex_flow": null,
      "grid_area": null,
      "grid_auto_columns": null,
      "grid_auto_flow": null,
      "grid_auto_rows": null,
      "grid_column": null,
      "grid_gap": null,
      "grid_row": null,
      "grid_template_areas": null,
      "grid_template_columns": null,
      "grid_template_rows": null,
      "height": null,
      "justify_content": null,
      "justify_items": null,
      "left": null,
      "margin": null,
      "max_height": null,
      "max_width": null,
      "min_height": null,
      "min_width": null,
      "object_fit": null,
      "object_position": null,
      "order": null,
      "overflow": null,
      "overflow_x": null,
      "overflow_y": null,
      "padding": null,
      "right": null,
      "top": null,
      "visibility": null,
      "width": null
     }
    },
    "d96678c8b5c040eca2ced302ce1d5035": {
     "model_module": "@jupyter-widgets/controls",
     "model_module_version": "1.5.0",
     "model_name": "ProgressStyleModel",
     "state": {
      "_model_module": "@jupyter-widgets/controls",
      "_model_module_version": "1.5.0",
      "_model_name": "ProgressStyleModel",
      "_view_count": null,
      "_view_module": "@jupyter-widgets/base",
      "_view_module_version": "1.2.0",
      "_view_name": "StyleView",
      "bar_color": null,
      "description_width": ""
     }
    },
    "db1fa78f0bde40cab6f5c813697a4ec1": {
     "model_module": "@jupyter-widgets/controls",
     "model_module_version": "1.5.0",
     "model_name": "FloatProgressModel",
     "state": {
      "_dom_classes": [],
      "_model_module": "@jupyter-widgets/controls",
      "_model_module_version": "1.5.0",
      "_model_name": "FloatProgressModel",
      "_view_count": null,
      "_view_module": "@jupyter-widgets/controls",
      "_view_module_version": "1.5.0",
      "_view_name": "ProgressView",
      "bar_style": "success",
      "description": "",
      "description_tooltip": null,
      "layout": "IPY_MODEL_6e8e959d187642acbdfbe27b82f9903b",
      "max": 112,
      "min": 0,
      "orientation": "horizontal",
      "style": "IPY_MODEL_05be491d613c4950a2d411aedd0549f5",
      "value": 112
     }
    },
    "e3065919d14e43ec9ae74025de4bc252": {
     "model_module": "@jupyter-widgets/base",
     "model_module_version": "1.2.0",
     "model_name": "LayoutModel",
     "state": {
      "_model_module": "@jupyter-widgets/base",
      "_model_module_version": "1.2.0",
      "_model_name": "LayoutModel",
      "_view_count": null,
      "_view_module": "@jupyter-widgets/base",
      "_view_module_version": "1.2.0",
      "_view_name": "LayoutView",
      "align_content": null,
      "align_items": null,
      "align_self": null,
      "border": null,
      "bottom": null,
      "display": null,
      "flex": null,
      "flex_flow": null,
      "grid_area": null,
      "grid_auto_columns": null,
      "grid_auto_flow": null,
      "grid_auto_rows": null,
      "grid_column": null,
      "grid_gap": null,
      "grid_row": null,
      "grid_template_areas": null,
      "grid_template_columns": null,
      "grid_template_rows": null,
      "height": null,
      "justify_content": null,
      "justify_items": null,
      "left": null,
      "margin": null,
      "max_height": null,
      "max_width": null,
      "min_height": null,
      "min_width": null,
      "object_fit": null,
      "object_position": null,
      "order": null,
      "overflow": null,
      "overflow_x": null,
      "overflow_y": null,
      "padding": null,
      "right": null,
      "top": null,
      "visibility": null,
      "width": null
     }
    },
    "e31a05f46e944657ba96f4d138cacac9": {
     "model_module": "@jupyter-widgets/base",
     "model_module_version": "1.2.0",
     "model_name": "LayoutModel",
     "state": {
      "_model_module": "@jupyter-widgets/base",
      "_model_module_version": "1.2.0",
      "_model_name": "LayoutModel",
      "_view_count": null,
      "_view_module": "@jupyter-widgets/base",
      "_view_module_version": "1.2.0",
      "_view_name": "LayoutView",
      "align_content": null,
      "align_items": null,
      "align_self": null,
      "border": null,
      "bottom": null,
      "display": null,
      "flex": null,
      "flex_flow": null,
      "grid_area": null,
      "grid_auto_columns": null,
      "grid_auto_flow": null,
      "grid_auto_rows": null,
      "grid_column": null,
      "grid_gap": null,
      "grid_row": null,
      "grid_template_areas": null,
      "grid_template_columns": null,
      "grid_template_rows": null,
      "height": null,
      "justify_content": null,
      "justify_items": null,
      "left": null,
      "margin": null,
      "max_height": null,
      "max_width": null,
      "min_height": null,
      "min_width": null,
      "object_fit": null,
      "object_position": null,
      "order": null,
      "overflow": null,
      "overflow_x": null,
      "overflow_y": null,
      "padding": null,
      "right": null,
      "top": null,
      "visibility": null,
      "width": null
     }
    },
    "e41d243e0455411ba61bb8a1a61f8b14": {
     "model_module": "@jupyter-widgets/controls",
     "model_module_version": "1.5.0",
     "model_name": "DescriptionStyleModel",
     "state": {
      "_model_module": "@jupyter-widgets/controls",
      "_model_module_version": "1.5.0",
      "_model_name": "DescriptionStyleModel",
      "_view_count": null,
      "_view_module": "@jupyter-widgets/base",
      "_view_module_version": "1.2.0",
      "_view_name": "StyleView",
      "description_width": ""
     }
    },
    "e4deffa26fc346668b7210a22f82e221": {
     "model_module": "@jupyter-widgets/base",
     "model_module_version": "1.2.0",
     "model_name": "LayoutModel",
     "state": {
      "_model_module": "@jupyter-widgets/base",
      "_model_module_version": "1.2.0",
      "_model_name": "LayoutModel",
      "_view_count": null,
      "_view_module": "@jupyter-widgets/base",
      "_view_module_version": "1.2.0",
      "_view_name": "LayoutView",
      "align_content": null,
      "align_items": null,
      "align_self": null,
      "border": null,
      "bottom": null,
      "display": null,
      "flex": null,
      "flex_flow": null,
      "grid_area": null,
      "grid_auto_columns": null,
      "grid_auto_flow": null,
      "grid_auto_rows": null,
      "grid_column": null,
      "grid_gap": null,
      "grid_row": null,
      "grid_template_areas": null,
      "grid_template_columns": null,
      "grid_template_rows": null,
      "height": null,
      "justify_content": null,
      "justify_items": null,
      "left": null,
      "margin": null,
      "max_height": null,
      "max_width": null,
      "min_height": null,
      "min_width": null,
      "object_fit": null,
      "object_position": null,
      "order": null,
      "overflow": null,
      "overflow_x": null,
      "overflow_y": null,
      "padding": null,
      "right": null,
      "top": null,
      "visibility": null,
      "width": null
     }
    },
    "e5fc28af58654d36814a0d2dfcef738e": {
     "model_module": "@jupyter-widgets/controls",
     "model_module_version": "1.5.0",
     "model_name": "DescriptionStyleModel",
     "state": {
      "_model_module": "@jupyter-widgets/controls",
      "_model_module_version": "1.5.0",
      "_model_name": "DescriptionStyleModel",
      "_view_count": null,
      "_view_module": "@jupyter-widgets/base",
      "_view_module_version": "1.2.0",
      "_view_name": "StyleView",
      "description_width": ""
     }
    },
    "e60311f989ad4e1f85708fee5ab8aa45": {
     "model_module": "@jupyter-widgets/base",
     "model_module_version": "1.2.0",
     "model_name": "LayoutModel",
     "state": {
      "_model_module": "@jupyter-widgets/base",
      "_model_module_version": "1.2.0",
      "_model_name": "LayoutModel",
      "_view_count": null,
      "_view_module": "@jupyter-widgets/base",
      "_view_module_version": "1.2.0",
      "_view_name": "LayoutView",
      "align_content": null,
      "align_items": null,
      "align_self": null,
      "border": null,
      "bottom": null,
      "display": null,
      "flex": null,
      "flex_flow": null,
      "grid_area": null,
      "grid_auto_columns": null,
      "grid_auto_flow": null,
      "grid_auto_rows": null,
      "grid_column": null,
      "grid_gap": null,
      "grid_row": null,
      "grid_template_areas": null,
      "grid_template_columns": null,
      "grid_template_rows": null,
      "height": null,
      "justify_content": null,
      "justify_items": null,
      "left": null,
      "margin": null,
      "max_height": null,
      "max_width": null,
      "min_height": null,
      "min_width": null,
      "object_fit": null,
      "object_position": null,
      "order": null,
      "overflow": null,
      "overflow_x": null,
      "overflow_y": null,
      "padding": null,
      "right": null,
      "top": null,
      "visibility": null,
      "width": null
     }
    },
    "e808602c462d4537bc4653a663c4d9d5": {
     "model_module": "@jupyter-widgets/controls",
     "model_module_version": "1.5.0",
     "model_name": "DescriptionStyleModel",
     "state": {
      "_model_module": "@jupyter-widgets/controls",
      "_model_module_version": "1.5.0",
      "_model_name": "DescriptionStyleModel",
      "_view_count": null,
      "_view_module": "@jupyter-widgets/base",
      "_view_module_version": "1.2.0",
      "_view_name": "StyleView",
      "description_width": ""
     }
    },
    "e8e270c28f854abaa7833c3063783069": {
     "model_module": "@jupyter-widgets/base",
     "model_module_version": "1.2.0",
     "model_name": "LayoutModel",
     "state": {
      "_model_module": "@jupyter-widgets/base",
      "_model_module_version": "1.2.0",
      "_model_name": "LayoutModel",
      "_view_count": null,
      "_view_module": "@jupyter-widgets/base",
      "_view_module_version": "1.2.0",
      "_view_name": "LayoutView",
      "align_content": null,
      "align_items": null,
      "align_self": null,
      "border": null,
      "bottom": null,
      "display": null,
      "flex": null,
      "flex_flow": null,
      "grid_area": null,
      "grid_auto_columns": null,
      "grid_auto_flow": null,
      "grid_auto_rows": null,
      "grid_column": null,
      "grid_gap": null,
      "grid_row": null,
      "grid_template_areas": null,
      "grid_template_columns": null,
      "grid_template_rows": null,
      "height": null,
      "justify_content": null,
      "justify_items": null,
      "left": null,
      "margin": null,
      "max_height": null,
      "max_width": null,
      "min_height": null,
      "min_width": null,
      "object_fit": null,
      "object_position": null,
      "order": null,
      "overflow": null,
      "overflow_x": null,
      "overflow_y": null,
      "padding": null,
      "right": null,
      "top": null,
      "visibility": null,
      "width": null
     }
    },
    "eb0f1d4480b34a74b1fbe482d193cfda": {
     "model_module": "@jupyter-widgets/controls",
     "model_module_version": "1.5.0",
     "model_name": "HBoxModel",
     "state": {
      "_dom_classes": [],
      "_model_module": "@jupyter-widgets/controls",
      "_model_module_version": "1.5.0",
      "_model_name": "HBoxModel",
      "_view_count": null,
      "_view_module": "@jupyter-widgets/controls",
      "_view_module_version": "1.5.0",
      "_view_name": "HBoxView",
      "box_style": "",
      "children": [
       "IPY_MODEL_9227b330e5234e28820e729d4202cbfb",
       "IPY_MODEL_4ff0de6e6dca49879636112d720f3d36",
       "IPY_MODEL_258e68d7dfce40f38f5df35d658b56db"
      ],
      "layout": "IPY_MODEL_b0c752a7672842ff91603e91723d5dcd"
     }
    },
    "efcd8b13a05a484fbfc32ae4703e0b92": {
     "model_module": "@jupyter-widgets/controls",
     "model_module_version": "1.5.0",
     "model_name": "DescriptionStyleModel",
     "state": {
      "_model_module": "@jupyter-widgets/controls",
      "_model_module_version": "1.5.0",
      "_model_name": "DescriptionStyleModel",
      "_view_count": null,
      "_view_module": "@jupyter-widgets/base",
      "_view_module_version": "1.2.0",
      "_view_name": "StyleView",
      "description_width": ""
     }
    },
    "efdaa6f89f7745519bdc8b38e7957e7d": {
     "model_module": "@jupyter-widgets/controls",
     "model_module_version": "1.5.0",
     "model_name": "HBoxModel",
     "state": {
      "_dom_classes": [],
      "_model_module": "@jupyter-widgets/controls",
      "_model_module_version": "1.5.0",
      "_model_name": "HBoxModel",
      "_view_count": null,
      "_view_module": "@jupyter-widgets/controls",
      "_view_module_version": "1.5.0",
      "_view_name": "HBoxView",
      "box_style": "",
      "children": [
       "IPY_MODEL_53fcfdb516694d1db66611bc840071d2",
       "IPY_MODEL_5730c9c9cd134275beb46f02e940ab30",
       "IPY_MODEL_9b42fe1a2986485b9a03712d92e03d7f"
      ],
      "layout": "IPY_MODEL_e60311f989ad4e1f85708fee5ab8aa45"
     }
    },
    "f4ed500559cf4f9fb48c68238fccbedf": {
     "model_module": "@jupyter-widgets/base",
     "model_module_version": "1.2.0",
     "model_name": "LayoutModel",
     "state": {
      "_model_module": "@jupyter-widgets/base",
      "_model_module_version": "1.2.0",
      "_model_name": "LayoutModel",
      "_view_count": null,
      "_view_module": "@jupyter-widgets/base",
      "_view_module_version": "1.2.0",
      "_view_name": "LayoutView",
      "align_content": null,
      "align_items": null,
      "align_self": null,
      "border": null,
      "bottom": null,
      "display": null,
      "flex": null,
      "flex_flow": null,
      "grid_area": null,
      "grid_auto_columns": null,
      "grid_auto_flow": null,
      "grid_auto_rows": null,
      "grid_column": null,
      "grid_gap": null,
      "grid_row": null,
      "grid_template_areas": null,
      "grid_template_columns": null,
      "grid_template_rows": null,
      "height": null,
      "justify_content": null,
      "justify_items": null,
      "left": null,
      "margin": null,
      "max_height": null,
      "max_width": null,
      "min_height": null,
      "min_width": null,
      "object_fit": null,
      "object_position": null,
      "order": null,
      "overflow": null,
      "overflow_x": null,
      "overflow_y": null,
      "padding": null,
      "right": null,
      "top": null,
      "visibility": null,
      "width": null
     }
    },
    "f77fc12937f0480499c60250179ee609": {
     "model_module": "@jupyter-widgets/controls",
     "model_module_version": "1.5.0",
     "model_name": "FloatProgressModel",
     "state": {
      "_dom_classes": [],
      "_model_module": "@jupyter-widgets/controls",
      "_model_module_version": "1.5.0",
      "_model_name": "FloatProgressModel",
      "_view_count": null,
      "_view_module": "@jupyter-widgets/controls",
      "_view_module_version": "1.5.0",
      "_view_name": "ProgressView",
      "bar_style": "success",
      "description": "",
      "description_tooltip": null,
      "layout": "IPY_MODEL_c8516e1ae59447b385a4ca37095238ac",
      "max": 107,
      "min": 0,
      "orientation": "horizontal",
      "style": "IPY_MODEL_26ee3516ca1c4cbe98c2406d9414b4f1",
      "value": 107
     }
    },
    "f9d57d9155a34182823a98f53a6bbb75": {
     "model_module": "@jupyter-widgets/base",
     "model_module_version": "1.2.0",
     "model_name": "LayoutModel",
     "state": {
      "_model_module": "@jupyter-widgets/base",
      "_model_module_version": "1.2.0",
      "_model_name": "LayoutModel",
      "_view_count": null,
      "_view_module": "@jupyter-widgets/base",
      "_view_module_version": "1.2.0",
      "_view_name": "LayoutView",
      "align_content": null,
      "align_items": null,
      "align_self": null,
      "border": null,
      "bottom": null,
      "display": null,
      "flex": null,
      "flex_flow": null,
      "grid_area": null,
      "grid_auto_columns": null,
      "grid_auto_flow": null,
      "grid_auto_rows": null,
      "grid_column": null,
      "grid_gap": null,
      "grid_row": null,
      "grid_template_areas": null,
      "grid_template_columns": null,
      "grid_template_rows": null,
      "height": null,
      "justify_content": null,
      "justify_items": null,
      "left": null,
      "margin": null,
      "max_height": null,
      "max_width": null,
      "min_height": null,
      "min_width": null,
      "object_fit": null,
      "object_position": null,
      "order": null,
      "overflow": null,
      "overflow_x": null,
      "overflow_y": null,
      "padding": null,
      "right": null,
      "top": null,
      "visibility": null,
      "width": null
     }
    },
    "fa1804c53f32414ba898b7321310147f": {
     "model_module": "@jupyter-widgets/controls",
     "model_module_version": "1.5.0",
     "model_name": "HTMLModel",
     "state": {
      "_dom_classes": [],
      "_model_module": "@jupyter-widgets/controls",
      "_model_module_version": "1.5.0",
      "_model_name": "HTMLModel",
      "_view_count": null,
      "_view_module": "@jupyter-widgets/controls",
      "_view_module_version": "1.5.0",
      "_view_name": "HTMLView",
      "description": "",
      "description_tooltip": null,
      "layout": "IPY_MODEL_f9d57d9155a34182823a98f53a6bbb75",
      "placeholder": "​",
      "style": "IPY_MODEL_23ec1b2b7fdd4749935e0e5da8422fe3",
      "value": "vocab.txt: 100%"
     }
    },
    "fac316fd67544b84aaee179d7255311c": {
     "model_module": "@jupyter-widgets/base",
     "model_module_version": "1.2.0",
     "model_name": "LayoutModel",
     "state": {
      "_model_module": "@jupyter-widgets/base",
      "_model_module_version": "1.2.0",
      "_model_name": "LayoutModel",
      "_view_count": null,
      "_view_module": "@jupyter-widgets/base",
      "_view_module_version": "1.2.0",
      "_view_name": "LayoutView",
      "align_content": null,
      "align_items": null,
      "align_self": null,
      "border": null,
      "bottom": null,
      "display": null,
      "flex": null,
      "flex_flow": null,
      "grid_area": null,
      "grid_auto_columns": null,
      "grid_auto_flow": null,
      "grid_auto_rows": null,
      "grid_column": null,
      "grid_gap": null,
      "grid_row": null,
      "grid_template_areas": null,
      "grid_template_columns": null,
      "grid_template_rows": null,
      "height": null,
      "justify_content": null,
      "justify_items": null,
      "left": null,
      "margin": null,
      "max_height": null,
      "max_width": null,
      "min_height": null,
      "min_width": null,
      "object_fit": null,
      "object_position": null,
      "order": null,
      "overflow": null,
      "overflow_x": null,
      "overflow_y": null,
      "padding": null,
      "right": null,
      "top": null,
      "visibility": null,
      "width": null
     }
    },
    "fb0f7f15093140e19f66ec6cecfe6fe1": {
     "model_module": "@jupyter-widgets/controls",
     "model_module_version": "1.5.0",
     "model_name": "HBoxModel",
     "state": {
      "_dom_classes": [],
      "_model_module": "@jupyter-widgets/controls",
      "_model_module_version": "1.5.0",
      "_model_name": "HBoxModel",
      "_view_count": null,
      "_view_module": "@jupyter-widgets/controls",
      "_view_module_version": "1.5.0",
      "_view_name": "HBoxView",
      "box_style": "",
      "children": [
       "IPY_MODEL_98e1e34d5ab749c39d879f90f3ce5b94",
       "IPY_MODEL_f77fc12937f0480499c60250179ee609",
       "IPY_MODEL_25e6a5cbf687441ba653777c9d28afcb"
      ],
      "layout": "IPY_MODEL_1b1be2c63fdc4d83bf0b3e9263aaf6e4"
     }
    }
   }
  }
 },
 "nbformat": 4,
 "nbformat_minor": 4
}
